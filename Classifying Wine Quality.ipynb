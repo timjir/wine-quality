{
 "cells": [
  {
   "cell_type": "markdown",
   "metadata": {},
   "source": [
    "# Predicting Wine Quality\n",
    "\n",
    "\n",
    "## Overview\n",
    "In this notebook we will be using a modified version of the wine quality data set from the UCI machine learning repository and performing logistic regression using forward stepwise, ridge and LASSO regularisation."
   ]
  },
  {
   "cell_type": "code",
   "execution_count": 1,
   "metadata": {
    "collapsed": false,
    "scrolled": false
   },
   "outputs": [
    {
     "data": {
      "application/javascript": [
       "IPython.OutputArea.auto_scroll_threshold = 99999;"
      ]
     },
     "metadata": {},
     "output_type": "display_data"
    }
   ],
   "source": [
    "#prevent scroll boxes for individual notebook cells\n",
    "IRdisplay::display_javascript('IPython.OutputArea.auto_scroll_threshold = 99999;')\n",
    "# set initial plot size\n",
    "options(repr.plot.width=5, repr.plot.height=3)\n",
    "# set seed so the results using random sampling are reproducible\n",
    "set.seed(1234)"
   ]
  },
  {
   "cell_type": "markdown",
   "metadata": {},
   "source": [
    "## Libraries\n",
    "Load the required libraries.\n",
    "* ggplot will be used for plotting\n",
    "* reshape will be used to transorm and modify data frames for plotting\n",
    "* glmnet will be used for LASSO and ridge penalization\n",
    "* moments will be used for detailed statistics about the data sets\n",
    "* caret will be used for building confusion matrices\n",
    "* ROCR will be used for ROC curves and calculating area under them (AUC)\n",
    "* plotmo will be used to extend the plotting function of glmnet"
   ]
  },
  {
   "cell_type": "code",
   "execution_count": 2,
   "metadata": {
    "collapsed": false,
    "scrolled": false
   },
   "outputs": [
    {
     "name": "stderr",
     "output_type": "stream",
     "text": [
      "Warning message:\n",
      "\"package 'ggplot2' was built under R version 3.3.3\"Warning message:\n",
      "\"package 'reshape' was built under R version 3.3.3\"Loading required package: Matrix\n",
      "\n",
      "Attaching package: 'Matrix'\n",
      "\n",
      "The following object is masked from 'package:reshape':\n",
      "\n",
      "    expand\n",
      "\n",
      "Loading required package: foreach\n",
      "Loaded glmnet 2.0-5\n",
      "\n",
      "Warning message:\n",
      "\"package 'moments' was built under R version 3.3.2\"Warning message:\n",
      "\"package 'caret' was built under R version 3.3.3\"Loading required package: lattice\n",
      "Warning message:\n",
      "\"package 'ROCR' was built under R version 3.3.3\"Loading required package: gplots\n",
      "Warning message:\n",
      "\"package 'gplots' was built under R version 3.3.3\"\n",
      "Attaching package: 'gplots'\n",
      "\n",
      "The following object is masked from 'package:stats':\n",
      "\n",
      "    lowess\n",
      "\n",
      "Warning message:\n",
      "\"package 'plotmo' was built under R version 3.3.3\"Loading required package: plotrix\n",
      "Warning message:\n",
      "\"package 'plotrix' was built under R version 3.3.3\"\n",
      "Attaching package: 'plotrix'\n",
      "\n",
      "The following object is masked from 'package:gplots':\n",
      "\n",
      "    plotCI\n",
      "\n",
      "Loading required package: TeachingDemos\n",
      "Warning message:\n",
      "\"package 'TeachingDemos' was built under R version 3.3.3\""
     ]
    }
   ],
   "source": [
    "# setwd(\"C:/Users/Tim/Downloads/Data Science/FIT5149 - Applied data science\")\n",
    "# setwd(\"C:/Users/tric0003/Downloads\")\n",
    "\n",
    "#install the required libraries\n",
    "#install.packages(\"ggplot2\", repos='http://cran.us.r-project.org')\n",
    "#install.packages(\"reshape\", repos='http://cran.us.r-project.org')\n",
    "#install.packages(\"glmnet\", repos='http://cran.us.r-project.org')\n",
    "#install.packages(\"caret\", repos='http://cran.us.r-project.org')\n",
    "#install.packages(\"ROCR\", repos='http://cran.us.r-project.org')\n",
    "#install.packages(\"plotmo\", repos='http://cran.us.r-project.org')\n",
    "\n",
    "\n",
    "library(ggplot2)\n",
    "library(reshape)\n",
    "library(glmnet)\n",
    "library(moments)\n",
    "library(caret)\n",
    "library(ROCR)\n",
    "library(plotmo)\n"
   ]
  },
  {
   "cell_type": "markdown",
   "metadata": {},
   "source": [
    "## Wine data set\n",
    "We will begin by loading the training data set, taking a look at its structure and checking whether there are any NA values in the data."
   ]
  },
  {
   "cell_type": "code",
   "execution_count": 3,
   "metadata": {
    "collapsed": false,
    "scrolled": false
   },
   "outputs": [
    {
     "data": {
      "text/html": [
       "<table>\n",
       "<thead><tr><th scope=col>fixed.acidity</th><th scope=col>volatile.acidity</th><th scope=col>citric.acid</th><th scope=col>residual.sugar</th><th scope=col>chlorides</th><th scope=col>free.sulfur.dioxide</th><th scope=col>total.sulfur.dioxide</th><th scope=col>density</th><th scope=col>pH</th><th scope=col>sulphates</th><th scope=col>alcohol</th><th scope=col>quality</th></tr></thead>\n",
       "<tbody>\n",
       "\t<tr><td>7.0   </td><td>0.27  </td><td>0.36  </td><td>20.70 </td><td>0.045 </td><td>45    </td><td>170   </td><td>1.0010</td><td>3.00  </td><td>0.45  </td><td> 8.8  </td><td>good  </td></tr>\n",
       "\t<tr><td>6.3   </td><td>0.30  </td><td>0.34  </td><td> 1.60 </td><td>0.049 </td><td>14    </td><td>132   </td><td>0.9940</td><td>3.30  </td><td>0.49  </td><td> 9.5  </td><td>good  </td></tr>\n",
       "\t<tr><td>7.2   </td><td>0.23  </td><td>0.32  </td><td> 8.50 </td><td>0.058 </td><td>47    </td><td>186   </td><td>0.9956</td><td>3.19  </td><td>0.40  </td><td> 9.9  </td><td>good  </td></tr>\n",
       "\t<tr><td>8.1   </td><td>0.28  </td><td>0.40  </td><td> 6.90 </td><td>0.050 </td><td>30    </td><td> 97   </td><td>0.9951</td><td>3.26  </td><td>0.44  </td><td>10.1  </td><td>good  </td></tr>\n",
       "\t<tr><td>6.2   </td><td>0.32  </td><td>0.16  </td><td> 7.00 </td><td>0.045 </td><td>30    </td><td>136   </td><td>0.9949</td><td>3.18  </td><td>0.47  </td><td> 9.6  </td><td>good  </td></tr>\n",
       "\t<tr><td>8.1   </td><td>0.27  </td><td>0.41  </td><td> 1.45 </td><td>0.033 </td><td>11    </td><td> 63   </td><td>0.9908</td><td>2.99  </td><td>0.56  </td><td>12.0  </td><td>bad   </td></tr>\n",
       "</tbody>\n",
       "</table>\n"
      ],
      "text/latex": [
       "\\begin{tabular}{r|llllllllllll}\n",
       " fixed.acidity & volatile.acidity & citric.acid & residual.sugar & chlorides & free.sulfur.dioxide & total.sulfur.dioxide & density & pH & sulphates & alcohol & quality\\\\\n",
       "\\hline\n",
       "\t 7.0    & 0.27   & 0.36   & 20.70  & 0.045  & 45     & 170    & 1.0010 & 3.00   & 0.45   &  8.8   & good  \\\\\n",
       "\t 6.3    & 0.30   & 0.34   &  1.60  & 0.049  & 14     & 132    & 0.9940 & 3.30   & 0.49   &  9.5   & good  \\\\\n",
       "\t 7.2    & 0.23   & 0.32   &  8.50  & 0.058  & 47     & 186    & 0.9956 & 3.19   & 0.40   &  9.9   & good  \\\\\n",
       "\t 8.1    & 0.28   & 0.40   &  6.90  & 0.050  & 30     &  97    & 0.9951 & 3.26   & 0.44   & 10.1   & good  \\\\\n",
       "\t 6.2    & 0.32   & 0.16   &  7.00  & 0.045  & 30     & 136    & 0.9949 & 3.18   & 0.47   &  9.6   & good  \\\\\n",
       "\t 8.1    & 0.27   & 0.41   &  1.45  & 0.033  & 11     &  63    & 0.9908 & 2.99   & 0.56   & 12.0   & bad   \\\\\n",
       "\\end{tabular}\n"
      ],
      "text/markdown": [
       "\n",
       "fixed.acidity | volatile.acidity | citric.acid | residual.sugar | chlorides | free.sulfur.dioxide | total.sulfur.dioxide | density | pH | sulphates | alcohol | quality | \n",
       "|---|---|---|---|---|---|\n",
       "| 7.0    | 0.27   | 0.36   | 20.70  | 0.045  | 45     | 170    | 1.0010 | 3.00   | 0.45   |  8.8   | good   | \n",
       "| 6.3    | 0.30   | 0.34   |  1.60  | 0.049  | 14     | 132    | 0.9940 | 3.30   | 0.49   |  9.5   | good   | \n",
       "| 7.2    | 0.23   | 0.32   |  8.50  | 0.058  | 47     | 186    | 0.9956 | 3.19   | 0.40   |  9.9   | good   | \n",
       "| 8.1    | 0.28   | 0.40   |  6.90  | 0.050  | 30     |  97    | 0.9951 | 3.26   | 0.44   | 10.1   | good   | \n",
       "| 6.2    | 0.32   | 0.16   |  7.00  | 0.045  | 30     | 136    | 0.9949 | 3.18   | 0.47   |  9.6   | good   | \n",
       "| 8.1    | 0.27   | 0.41   |  1.45  | 0.033  | 11     |  63    | 0.9908 | 2.99   | 0.56   | 12.0   | bad    | \n",
       "\n",
       "\n"
      ],
      "text/plain": [
       "  fixed.acidity volatile.acidity citric.acid residual.sugar chlorides\n",
       "1 7.0           0.27             0.36        20.70          0.045    \n",
       "2 6.3           0.30             0.34         1.60          0.049    \n",
       "3 7.2           0.23             0.32         8.50          0.058    \n",
       "4 8.1           0.28             0.40         6.90          0.050    \n",
       "5 6.2           0.32             0.16         7.00          0.045    \n",
       "6 8.1           0.27             0.41         1.45          0.033    \n",
       "  free.sulfur.dioxide total.sulfur.dioxide density pH   sulphates alcohol\n",
       "1 45                  170                  1.0010  3.00 0.45       8.8   \n",
       "2 14                  132                  0.9940  3.30 0.49       9.5   \n",
       "3 47                  186                  0.9956  3.19 0.40       9.9   \n",
       "4 30                   97                  0.9951  3.26 0.44      10.1   \n",
       "5 30                  136                  0.9949  3.18 0.47       9.6   \n",
       "6 11                   63                  0.9908  2.99 0.56      12.0   \n",
       "  quality\n",
       "1 good   \n",
       "2 good   \n",
       "3 good   \n",
       "4 good   \n",
       "5 good   \n",
       "6 bad    "
      ]
     },
     "metadata": {},
     "output_type": "display_data"
    },
    {
     "data": {
      "text/html": [
       "<dl class=dl-horizontal>\n",
       "\t<dt>fixed.acidity</dt>\n",
       "\t\t<dd>0</dd>\n",
       "\t<dt>volatile.acidity</dt>\n",
       "\t\t<dd>0</dd>\n",
       "\t<dt>citric.acid</dt>\n",
       "\t\t<dd>0</dd>\n",
       "\t<dt>residual.sugar</dt>\n",
       "\t\t<dd>0</dd>\n",
       "\t<dt>chlorides</dt>\n",
       "\t\t<dd>0</dd>\n",
       "\t<dt>free.sulfur.dioxide</dt>\n",
       "\t\t<dd>0</dd>\n",
       "\t<dt>total.sulfur.dioxide</dt>\n",
       "\t\t<dd>0</dd>\n",
       "\t<dt>density</dt>\n",
       "\t\t<dd>0</dd>\n",
       "\t<dt>pH</dt>\n",
       "\t\t<dd>0</dd>\n",
       "\t<dt>sulphates</dt>\n",
       "\t\t<dd>0</dd>\n",
       "\t<dt>alcohol</dt>\n",
       "\t\t<dd>0</dd>\n",
       "\t<dt>quality</dt>\n",
       "\t\t<dd>0</dd>\n",
       "</dl>\n"
      ],
      "text/latex": [
       "\\begin{description*}\n",
       "\\item[fixed.acidity] 0\n",
       "\\item[volatile.acidity] 0\n",
       "\\item[citric.acid] 0\n",
       "\\item[residual.sugar] 0\n",
       "\\item[chlorides] 0\n",
       "\\item[free.sulfur.dioxide] 0\n",
       "\\item[total.sulfur.dioxide] 0\n",
       "\\item[density] 0\n",
       "\\item[pH] 0\n",
       "\\item[sulphates] 0\n",
       "\\item[alcohol] 0\n",
       "\\item[quality] 0\n",
       "\\end{description*}\n"
      ],
      "text/markdown": [
       "fixed.acidity\n",
       ":   0volatile.acidity\n",
       ":   0citric.acid\n",
       ":   0residual.sugar\n",
       ":   0chlorides\n",
       ":   0free.sulfur.dioxide\n",
       ":   0total.sulfur.dioxide\n",
       ":   0density\n",
       ":   0pH\n",
       ":   0sulphates\n",
       ":   0alcohol\n",
       ":   0quality\n",
       ":   0\n",
       "\n"
      ],
      "text/plain": [
       "       fixed.acidity     volatile.acidity          citric.acid \n",
       "                   0                    0                    0 \n",
       "      residual.sugar            chlorides  free.sulfur.dioxide \n",
       "                   0                    0                    0 \n",
       "total.sulfur.dioxide              density                   pH \n",
       "                   0                    0                    0 \n",
       "           sulphates              alcohol              quality \n",
       "                   0                    0                    0 "
      ]
     },
     "metadata": {},
     "output_type": "display_data"
    },
    {
     "data": {
      "text/html": [
       "<dl class=dl-horizontal>\n",
       "\t<dt>fixed.acidity</dt>\n",
       "\t\t<dd>65</dd>\n",
       "\t<dt>volatile.acidity</dt>\n",
       "\t\t<dd>116</dd>\n",
       "\t<dt>citric.acid</dt>\n",
       "\t\t<dd>87</dd>\n",
       "\t<dt>residual.sugar</dt>\n",
       "\t\t<dd>303</dd>\n",
       "\t<dt>chlorides</dt>\n",
       "\t\t<dd>150</dd>\n",
       "\t<dt>free.sulfur.dioxide</dt>\n",
       "\t\t<dd>125</dd>\n",
       "\t<dt>total.sulfur.dioxide</dt>\n",
       "\t\t<dd>246</dd>\n",
       "\t<dt>density</dt>\n",
       "\t\t<dd>829</dd>\n",
       "\t<dt>pH</dt>\n",
       "\t\t<dd>102</dd>\n",
       "\t<dt>sulphates</dt>\n",
       "\t\t<dd>77</dd>\n",
       "\t<dt>alcohol</dt>\n",
       "\t\t<dd>96</dd>\n",
       "\t<dt>quality</dt>\n",
       "\t\t<dd>2</dd>\n",
       "</dl>\n"
      ],
      "text/latex": [
       "\\begin{description*}\n",
       "\\item[fixed.acidity] 65\n",
       "\\item[volatile.acidity] 116\n",
       "\\item[citric.acid] 87\n",
       "\\item[residual.sugar] 303\n",
       "\\item[chlorides] 150\n",
       "\\item[free.sulfur.dioxide] 125\n",
       "\\item[total.sulfur.dioxide] 246\n",
       "\\item[density] 829\n",
       "\\item[pH] 102\n",
       "\\item[sulphates] 77\n",
       "\\item[alcohol] 96\n",
       "\\item[quality] 2\n",
       "\\end{description*}\n"
      ],
      "text/markdown": [
       "fixed.acidity\n",
       ":   65volatile.acidity\n",
       ":   116citric.acid\n",
       ":   87residual.sugar\n",
       ":   303chlorides\n",
       ":   150free.sulfur.dioxide\n",
       ":   125total.sulfur.dioxide\n",
       ":   246density\n",
       ":   829pH\n",
       ":   102sulphates\n",
       ":   77alcohol\n",
       ":   96quality\n",
       ":   2\n",
       "\n"
      ],
      "text/plain": [
       "       fixed.acidity     volatile.acidity          citric.acid \n",
       "                  65                  116                   87 \n",
       "      residual.sugar            chlorides  free.sulfur.dioxide \n",
       "                 303                  150                  125 \n",
       "total.sulfur.dioxide              density                   pH \n",
       "                 246                  829                  102 \n",
       "           sulphates              alcohol              quality \n",
       "                  77                   96                    2 "
      ]
     },
     "metadata": {},
     "output_type": "display_data"
    },
    {
     "data": {
      "text/plain": [
       " fixed.acidity    volatile.acidity  citric.acid     residual.sugar  \n",
       " Min.   : 3.800   Min.   :0.0800   Min.   :0.0000   Min.   : 0.600  \n",
       " 1st Qu.: 6.300   1st Qu.:0.2100   1st Qu.:0.2700   1st Qu.: 1.700  \n",
       " Median : 6.800   Median :0.2600   Median :0.3200   Median : 4.800  \n",
       " Mean   : 6.852   Mean   :0.2803   Mean   :0.3357   Mean   : 6.031  \n",
       " 3rd Qu.: 7.300   3rd Qu.:0.3275   3rd Qu.:0.3900   3rd Qu.: 9.000  \n",
       " Max.   :14.200   Max.   :1.1000   Max.   :1.6600   Max.   :65.800  \n",
       "   chlorides       free.sulfur.dioxide total.sulfur.dioxide    density      \n",
       " Min.   :0.00900   Min.   :  2.00      Min.   :  9.0        Min.   :0.9871  \n",
       " 1st Qu.:0.03600   1st Qu.: 23.00      1st Qu.:107.0        1st Qu.:0.9917  \n",
       " Median :0.04300   Median : 33.00      Median :133.0        Median :0.9936  \n",
       " Mean   :0.04604   Mean   : 35.05      Mean   :137.7        Mean   :0.9938  \n",
       " 3rd Qu.:0.05000   3rd Qu.: 45.00      3rd Qu.:166.0        3rd Qu.:0.9958  \n",
       " Max.   :0.34600   Max.   :289.00      Max.   :440.0        Max.   :1.0390  \n",
       "       pH          sulphates         alcohol      quality    \n",
       " Min.   :2.720   Min.   :0.2200   Min.   : 8.40   bad :1105  \n",
       " 1st Qu.:3.090   1st Qu.:0.4100   1st Qu.: 9.50   good:2178  \n",
       " Median :3.180   Median :0.4800   Median :10.40              \n",
       " Mean   :3.195   Mean   :0.4904   Mean   :10.58              \n",
       " 3rd Qu.:3.290   3rd Qu.:0.5500   3rd Qu.:11.40              \n",
       " Max.   :3.820   Max.   :1.0800   Max.   :14.00              "
      ]
     },
     "metadata": {},
     "output_type": "display_data"
    }
   ],
   "source": [
    "# load the trainng file\n",
    "train = read.csv(\"Wine_training_dataset_2017.csv\")\n",
    "train = as.data.frame(train)\n",
    "head(train)\n",
    "\n",
    "sapply(train,function(x) sum(is.na(x)))\n",
    "\n",
    "sapply(train, function(x) length(unique(x)))\n",
    "\n",
    "summary(train)"
   ]
  },
  {
   "cell_type": "markdown",
   "metadata": {},
   "source": [
    "We can see from the results that the data set is made up of 12 variables:\n",
    "* fixed.acidity - numerical value ranging from 3.8 to 14.2\n",
    "* volatile.acidity - numerical value ranging from 0.08 to 1.1\n",
    "* citric.acid - numerical value ranging from 0.0 to 1.66\n",
    "* residual.sugar - numerical value ranging from 0.6 to 65.8\n",
    "* chlorides - numerical value ranging from 0.009 o 0.346\n",
    "* free.sulfur.dioxide - numerical value ranging from 2.0 to 289.0\n",
    "* total.sulfur.dioxide - numerical value ranging from 9.0 to 440.0\n",
    "* density - numerical value ranging from 0.9871 to 1.039\n",
    "* pH - numerical value ranging from 2.72 to 3.82\n",
    "* sulphates - numerical value ranging from 0.22 to 1.08\n",
    "* alcohol - numerical value ranging from 8.4 to 14.0\n",
    "* quality - categorical value - good or bad, 2178 have been classified as good while 1105 have been classified as bad (an approximately 2/3 to 1/3 split)\n",
    "\n",
    "Our check for NA values have shown that there are values for every feature and every row."
   ]
  },
  {
   "cell_type": "code",
   "execution_count": 4,
   "metadata": {
    "collapsed": false,
    "scrolled": false
   },
   "outputs": [
    {
     "name": "stdout",
     "output_type": "stream",
     "text": [
      "'data.frame':\t3283 obs. of  12 variables:\n",
      " $ fixed.acidity       : num  7 6.3 7.2 8.1 6.2 8.1 7.9 6.6 8.3 6.6 ...\n",
      " $ volatile.acidity    : num  0.27 0.3 0.23 0.28 0.32 0.27 0.18 0.16 0.42 0.17 ...\n",
      " $ citric.acid         : num  0.36 0.34 0.32 0.4 0.16 0.41 0.37 0.4 0.62 0.38 ...\n",
      " $ residual.sugar      : num  20.7 1.6 8.5 6.9 7 ...\n",
      " $ chlorides           : num  0.045 0.049 0.058 0.05 0.045 0.033 0.04 0.044 0.04 0.032 ...\n",
      " $ free.sulfur.dioxide : num  45 14 47 30 30 11 16 48 41 28 ...\n",
      " $ total.sulfur.dioxide: num  170 132 186 97 136 63 75 143 172 112 ...\n",
      " $ density             : num  1.001 0.994 0.996 0.995 0.995 ...\n",
      " $ pH                  : num  3 3.3 3.19 3.26 3.18 2.99 3.18 3.54 2.98 3.25 ...\n",
      " $ sulphates           : num  0.45 0.49 0.4 0.44 0.47 0.56 0.63 0.52 0.67 0.55 ...\n",
      " $ alcohol             : num  8.8 9.5 9.9 10.1 9.6 12 10.8 12.4 9.7 11.4 ...\n",
      " $ quality             : Factor w/ 2 levels \"bad\",\"good\": 2 2 2 2 2 1 1 2 1 2 ...\n"
     ]
    }
   ],
   "source": [
    "str(train)"
   ]
  },
  {
   "cell_type": "markdown",
   "metadata": {},
   "source": [
    "The str function provides a description of the variables types which confirm the assumptions made previously about each feature type (numerical or categorical)"
   ]
  },
  {
   "cell_type": "markdown",
   "metadata": {},
   "source": [
    "## Graphical Exploration of Data\n",
    "For each of the predictive features:\n",
    "* fixed.acidity\n",
    "* volatile.acidity\n",
    "* citric.acidity\n",
    "* residual.sugar\n",
    "* chlorides\n",
    "* free.sulfur.dioxide\n",
    "* total.sulfur.dioxide\n",
    "* density\n",
    "* pH\n",
    "* suplhates\n",
    "* alcohol\n",
    "\n",
    "We will look at the density plots for each of the predictive variables. A density plot is similar to a histogram but has been modified with a smoother and in this case plots the density rather than a raw count of the frequency to normalize any difference in the class probabilities (e.g. only ~33% of the wines are classified as bad so by looking at the density we eliminate the effect that this would have on the count numbers). The density plot shows the distribution of the data over various values of the feature. In these plots we have overlayed the data for class = good and class = bad so we can identify any distribution differences between the classes for each feature. This allows us to visually identify which features might have good predictive power. It is imporant to note that we are looking at the distribution of the data controlling only for class quality, once a feature is added the next feature found is the one that adds the next most value in identifying the class and is dependent on what is already 'known' due to the feature(s) added earlier."
   ]
  },
  {
   "cell_type": "markdown",
   "metadata": {},
   "source": [
    "### Fixed Acidity"
   ]
  },
  {
   "cell_type": "code",
   "execution_count": 5,
   "metadata": {
    "collapsed": false,
    "scrolled": false
   },
   "outputs": [
    {
     "data": {},
     "metadata": {},
     "output_type": "display_data"
    },
    {
     "data": {
      "image/png": "[encoded data removed]",
      "text/plain": [
       "plot without title"
      ]
     },
     "metadata": {},
     "output_type": "display_data"
    }
   ],
   "source": [
    "ggplot(train, aes(x=fixed.acidity, fill=quality)) + geom_density(alpha = 0.5) + theme_minimal()"
   ]
  },
  {
   "cell_type": "markdown",
   "metadata": {},
   "source": [
    "The distribution of both classes are similar with means ~7. There is however an area in the upper tail (where fixed.acidity is greater than or equal to 9) where a wine is more likely to be bad than good."
   ]
  },
  {
   "cell_type": "markdown",
   "metadata": {},
   "source": [
    "### Volatile Acidity"
   ]
  },
  {
   "cell_type": "code",
   "execution_count": 6,
   "metadata": {
    "collapsed": false,
    "scrolled": false
   },
   "outputs": [
    {
     "data": {},
     "metadata": {},
     "output_type": "display_data"
    },
    {
     "data": {
      "image/png": "[encoded data removed]",
      "text/plain": [
       "plot without title"
      ]
     },
     "metadata": {},
     "output_type": "display_data"
    }
   ],
   "source": [
    "ggplot(train, aes(x=volatile.acidity, fill=quality)) + geom_density(alpha = 0.5) + theme_minimal()"
   ]
  },
  {
   "cell_type": "markdown",
   "metadata": {},
   "source": [
    "Volatile acididty for each of the classes displays a difference in mean and shows higher volatile acidity levels mean the wine is more likely to be classified as bad."
   ]
  },
  {
   "cell_type": "markdown",
   "metadata": {},
   "source": [
    "### Citric Acid"
   ]
  },
  {
   "cell_type": "code",
   "execution_count": 7,
   "metadata": {
    "collapsed": false,
    "scrolled": false
   },
   "outputs": [
    {
     "data": {},
     "metadata": {},
     "output_type": "display_data"
    },
    {
     "data": {
      "image/png": "[encoded data removed]",
      "text/plain": [
       "plot without title"
      ]
     },
     "metadata": {},
     "output_type": "display_data"
    }
   ],
   "source": [
    "ggplot(train, aes(x=citric.acid, fill=quality)) + geom_density(alpha = 0.5) + theme_minimal()"
   ]
  },
  {
   "cell_type": "markdown",
   "metadata": {},
   "source": [
    "While the density plots look quite different the means of both classes look to be very similar and both are 'reasonably' symmetric about the same mean."
   ]
  },
  {
   "cell_type": "markdown",
   "metadata": {},
   "source": [
    "### Residual Sugar"
   ]
  },
  {
   "cell_type": "code",
   "execution_count": 8,
   "metadata": {
    "collapsed": false,
    "scrolled": false
   },
   "outputs": [
    {
     "data": {},
     "metadata": {},
     "output_type": "display_data"
    },
    {
     "data": {
      "image/png": "[encoded data removed]",
      "text/plain": [
       "plot without title"
      ]
     },
     "metadata": {},
     "output_type": "display_data"
    }
   ],
   "source": [
    "ggplot(train, aes(x=residual.sugar, fill=quality)) + geom_density(alpha = 0.5) + theme_minimal()"
   ]
  },
  {
   "cell_type": "markdown",
   "metadata": {},
   "source": [
    "The density plot shows that residual sugar is not very normally distributed with large skews to the right for both classes. It also that a wine with higher residual sugar is more likely to be classified as bad."
   ]
  },
  {
   "cell_type": "code",
   "execution_count": 9,
   "metadata": {
    "collapsed": false,
    "scrolled": false
   },
   "outputs": [
    {
     "data": {},
     "metadata": {},
     "output_type": "display_data"
    },
    {
     "data": {
      "image/png": "[encoded data removed]",
      "text/plain": [
       "plot without title"
      ]
     },
     "metadata": {},
     "output_type": "display_data"
    }
   ],
   "source": [
    "ggplot(train, aes(x=chlorides, fill=quality)) + geom_density(alpha = 0.5) + theme_minimal()"
   ]
  },
  {
   "cell_type": "markdown",
   "metadata": {},
   "source": [
    "Both classes show high levels of peakedness and a skewness to the right. There is also a difference in the means with higher chlorides more likely to lead to a bad quality wine."
   ]
  },
  {
   "cell_type": "code",
   "execution_count": 10,
   "metadata": {
    "collapsed": false,
    "scrolled": false
   },
   "outputs": [
    {
     "data": {},
     "metadata": {},
     "output_type": "display_data"
    },
    {
     "data": {
      "image/png": "[encoded data removed]",
      "text/plain": [
       "plot without title"
      ]
     },
     "metadata": {},
     "output_type": "display_data"
    }
   ],
   "source": [
    "ggplot(train, aes(x=free.sulfur.dioxide, fill=quality)) + geom_density(alpha = 0.5) + theme_minimal()"
   ]
  },
  {
   "cell_type": "markdown",
   "metadata": {},
   "source": [
    "Both classes have similar means and both are skewed moderately to the right, i.e. the distribution of each class is very similar."
   ]
  },
  {
   "cell_type": "code",
   "execution_count": 11,
   "metadata": {
    "collapsed": false,
    "scrolled": false
   },
   "outputs": [
    {
     "data": {},
     "metadata": {},
     "output_type": "display_data"
    },
    {
     "data": {
      "image/png": "[encoded data removed]",
      "text/plain": [
       "plot without title"
      ]
     },
     "metadata": {},
     "output_type": "display_data"
    }
   ],
   "source": [
    "ggplot(train, aes(x=total.sulfur.dioxide, fill=quality)) + geom_density(alpha = 0.5) + theme_minimal()"
   ]
  },
  {
   "cell_type": "markdown",
   "metadata": {},
   "source": [
    "The means of each class are different with higher total.sulfur.dioxide likely to lead to a bad quality wine."
   ]
  },
  {
   "cell_type": "code",
   "execution_count": 12,
   "metadata": {
    "collapsed": false,
    "scrolled": false
   },
   "outputs": [
    {
     "data": {},
     "metadata": {},
     "output_type": "display_data"
    },
    {
     "data": {
      "image/png": "[encoded data removed]",
      "text/plain": [
       "plot without title"
      ]
     },
     "metadata": {},
     "output_type": "display_data"
    }
   ],
   "source": [
    "ggplot(train, aes(x=density, fill=quality)) + geom_density(alpha = 0.5) + theme_minimal()"
   ]
  },
  {
   "cell_type": "markdown",
   "metadata": {},
   "source": [
    "There is a difference in the mean of each class and a higher density wine is more likely to be a bad quality wine."
   ]
  },
  {
   "cell_type": "code",
   "execution_count": 13,
   "metadata": {
    "collapsed": false,
    "scrolled": false
   },
   "outputs": [
    {
     "data": {},
     "metadata": {},
     "output_type": "display_data"
    },
    {
     "data": {
      "image/png": "[encoded data removed]",
      "text/plain": [
       "plot without title"
      ]
     },
     "metadata": {},
     "output_type": "display_data"
    }
   ],
   "source": [
    "ggplot(train, aes(x=pH, fill=quality)) + geom_density(alpha = 0.5) + theme_minimal()"
   ]
  },
  {
   "cell_type": "markdown",
   "metadata": {},
   "source": [
    "The means are quite similar but the distribution of for good wines is not as symmetrical and higher pH wines are more likely to be good quality."
   ]
  },
  {
   "cell_type": "code",
   "execution_count": 14,
   "metadata": {
    "collapsed": false,
    "scrolled": false
   },
   "outputs": [
    {
     "data": {},
     "metadata": {},
     "output_type": "display_data"
    },
    {
     "data": {
      "image/png": "[encoded data removed]",
      "text/plain": [
       "plot without title"
      ]
     },
     "metadata": {},
     "output_type": "display_data"
    }
   ],
   "source": [
    "ggplot(train, aes(x=sulphates, fill=quality)) + geom_density(alpha = 0.5) + theme_minimal()"
   ]
  },
  {
   "cell_type": "markdown",
   "metadata": {},
   "source": [
    "The means look to be very similar with very similar right skewed distributions."
   ]
  },
  {
   "cell_type": "code",
   "execution_count": 15,
   "metadata": {
    "collapsed": false,
    "scrolled": false
   },
   "outputs": [
    {
     "data": {},
     "metadata": {},
     "output_type": "display_data"
    },
    {
     "data": {
      "image/png": "[encoded data removed]",
      "text/plain": [
       "plot without title"
      ]
     },
     "metadata": {},
     "output_type": "display_data"
    }
   ],
   "source": [
    "ggplot(train, aes(x=alcohol, fill=quality)) + geom_density(alpha = 0.5) + theme_minimal()"
   ]
  },
  {
   "cell_type": "markdown",
   "metadata": {},
   "source": [
    "The means are quite different and a lower alcohol wine is more likely to be classified as bad. This feature shows the most class separation from a disribution point of view."
   ]
  },
  {
   "cell_type": "markdown",
   "metadata": {},
   "source": [
    "## Further note on class separation by distribution"
   ]
  },
  {
   "cell_type": "markdown",
   "metadata": {},
   "source": [
    "In the density plots we have seen that alcohol shows the most class separation by distribution. We have also seen that density also shows strong class distribution. However these two features are related, alcohol has a lower density than water so low alcohol wines would likely have a higher density. This means these two features may be telling us similar information. In a stepwise algorithm once we add alcohol (or density) the other feature may now add less value."
   ]
  },
  {
   "cell_type": "markdown",
   "metadata": {},
   "source": [
    "# Model Creation"
   ]
  },
  {
   "cell_type": "markdown",
   "metadata": {},
   "source": [
    "### Forward Stepwise Selection\n",
    "The forward stepwise selection algortihm begins with the starting model containing just the intercept. In each step of the algorithm the 'best' feature is selected and added to the model. We will use four different measures in order to identify the 'best' feature at each step:\n",
    "* Area Under the Curve (AUC)\n",
    "* Akaike Information Criterion\n",
    "* Bayesian Information Criterion\n",
    "* F-Measure"
   ]
  },
  {
   "cell_type": "markdown",
   "metadata": {},
   "source": [
    "### Area Under the Curve (AUC)\n",
    "Area under the curve refers to the area under the receiver operating charactersitic (ROC) curve. The curve plots the true postivie rate against the false positive rate at different cutoffs. The ideal ROC curve is a veritical line up to 1 on the true positive rate axis (vertical axis) before turning horizontal and running to 1,1 which indicates the model correctly predicted all of the true positives before getting any wrong. This ideal curve has an area of 1. In contrast picking using only information known about the number of each class (eg. in this data set 2/3 are good, 1/3 are bad quality) would lead to a diagonal line running from 0,0 to 1,1 with an area under the curve of 0.5. Therefore when selecting features using the AUC as the measure we will select the feature that leads to the highest AUC."
   ]
  },
  {
   "cell_type": "markdown",
   "metadata": {},
   "source": [
    "### Akaike Information Criterion (AIC) and Bayesian Information Criterion (BIC)\n",
    "Both of the information criteria measures compare the quality of one model with another. Both AIC and BIC penalises the complexity of the model and will only accept a model with additonal features if it increases the accuracy of the model enough to counteract that penalty. BIC introduces a larger penalty per parameter in the model so you can expect the resulting model to be less complex in comparison with AIC."
   ]
  },
  {
   "cell_type": "markdown",
   "metadata": {},
   "source": [
    "### F-Measure\n",
    "F-Measure (or F-1 measure) is a accuracy score that takes into account the precision and the recall of a model. Precision is defined as the number of correctly classified positives (true postive) / total number classfiied as positive. Recall is defined as the number of correctly classified postives (true postive) / total number of true positives. The issue with both of these measures is that one can be manipulated at the expense of the other. The F-Measure tries to correct this, it can never be higher than the precision OR the recall and forces a compromise between the two. F- measure is calcuated by: <br>\n",
    "<b> 2 * precision * recall / (precision + recall) </b>"
   ]
  },
  {
   "cell_type": "markdown",
   "metadata": {},
   "source": [
    "## Helper Functions\n",
    "The following functions will be used in the creation of the models."
   ]
  },
  {
   "cell_type": "markdown",
   "metadata": {},
   "source": [
    "### folds function\n",
    "The folds function takes a data set and the number of required folds as input and returns a list the length of the number of required folds, each item in the list holds a set of training and a set of test data for that fold."
   ]
  },
  {
   "cell_type": "code",
   "execution_count": 16,
   "metadata": {
    "collapsed": false,
    "scrolled": false
   },
   "outputs": [],
   "source": [
    "folds <- function(data, k = 10) {\n",
    "  #shuffle the data\n",
    "  dataShuffled <- data[sample(nrow(data)),]\n",
    "  \n",
    "  #Create k  folds\n",
    "  folds <- cut(seq(1,nrow(dataShuffled)),breaks=k,labels=FALSE)\n",
    "  \n",
    "  testData <- list()\n",
    "  trainData <- list()\n",
    "  \n",
    "  for(i in 1:10){\n",
    "    #Segement your data by fold using the which() function \n",
    "    testIndexes <- which(folds==i,arr.ind=TRUE)\n",
    "    testData[[i]] <- dataShuffled[testIndexes, ]\n",
    "    trainData[[i]] <- dataShuffled[-testIndexes, ]\n",
    "  }\n",
    "  \n",
    "  return(list('training' = trainData, 'testing' = testData))\n",
    "}\n",
    "\n",
    "\n",
    "\n",
    "train$quality <- ifelse(train$quality == 'good', 1, 0)\n"
   ]
  },
  {
   "cell_type": "markdown",
   "metadata": {},
   "source": [
    "### fMeasure function\n",
    "The fMeasure function takes a vector of predictions and the vector of actual labels and returns the F-Measure score."
   ]
  },
  {
   "cell_type": "code",
   "execution_count": 17,
   "metadata": {
    "collapsed": false,
    "scrolled": false
   },
   "outputs": [],
   "source": [
    "fMeasure <- function(predictions, data.label){\n",
    "    precision <- sum(predictions & data.label) / sum(predictions)\n",
    "    recall <- sum(predictions & data.label) / sum(data.label)\n",
    "    fmeasure <- 2 * precision * recall / (precision + recall)\n",
    "\n",
    "    return(fmeasure)\n",
    "}"
   ]
  },
  {
   "cell_type": "markdown",
   "metadata": {},
   "source": [
    "### plotROC function\n",
    "The plotROC function takes a list of searchFeatures, the predictions data frame and the cross validation data folds (containing the actual test labels) and plots the receiver operating characteristics of each of the features on a single plot."
   ]
  },
  {
   "cell_type": "code",
   "execution_count": 18,
   "metadata": {
    "collapsed": false,
    "scrolled": false
   },
   "outputs": [],
   "source": [
    "plotROC <- function(searchFeatures, predictions, dataFolds) {\n",
    "     colors <- c('red', 'blue', 'green', 'yellow', 'gray', 'pink', 'orange', 'black', 'brown2', 'blueviolet', 'darkgreen', 'darkseagreen') #colors\n",
    "for (i in 1:length(searchFeatures)) {\n",
    "            plot(performance(prediction(predictions[,i],dataFolds$testing[[2]]$quality),\"tpr\",\"fpr\"), add=(i!=1),col=colors[i], lwd=2)\n",
    "            legend(0.55, 0.55, legend=searchFeatures, col=colors, lwd = 2, cex=0.8)    \n",
    "        }\n",
    "}"
   ]
  },
  {
   "cell_type": "markdown",
   "metadata": {},
   "source": [
    "### plotXIC function\n",
    "The plotXIC function takes the data frame containing a set of features and the models corresponding score (AIC or BIC score) for if they were added to the model. It plots the score of each feature in a bar chart."
   ]
  },
  {
   "cell_type": "code",
   "execution_count": 19,
   "metadata": {
    "collapsed": false,
    "scrolled": false
   },
   "outputs": [],
   "source": [
    "plotXIC <- function(auc_df) {\n",
    "    measure <- auc_df[, 2]\n",
    "    print(ggplot(aes(x = feature, y = measure), data = auc_df) \n",
    "          + geom_bar(stat=\"identity\", color = 'skyblue', fill = 'skyblue', width = 0.075 * nrow(auc_df)) \n",
    "          + theme_minimal() + theme(axis.text.x=element_text(angle=90,hjust=1,vjust=0.5)) + coord_cartesian(ylim = c(2800, 3800)))\n",
    "    }"
   ]
  },
  {
   "cell_type": "markdown",
   "metadata": {},
   "source": [
    "### plotfMeasure function\n",
    "The plotfMeasure function takes the data frame containing a set of features and the models corresponding F-Measure score for if they were added to the model. It plots the score of each feature in a bar chart."
   ]
  },
  {
   "cell_type": "code",
   "execution_count": 20,
   "metadata": {
    "collapsed": true,
    "scrolled": false
   },
   "outputs": [],
   "source": [
    "plotfMeasure <- function(auc_df) {\n",
    "    measure <- auc_df[, 2]\n",
    "    print(ggplot(aes(x = feature, y = measure), data = auc_df) \n",
    "          + geom_bar(stat=\"identity\", color = 'skyblue', fill = 'skyblue', width = 0.075 * nrow(auc_df)) \n",
    "          + theme_minimal() + theme(axis.text.x=element_text(angle=90,hjust=1,vjust=0.5)) + coord_cartesian(ylim = c(0.78, 0.83)))\n",
    "    }"
   ]
  },
  {
   "cell_type": "markdown",
   "metadata": {},
   "source": [
    "### aucMeasure, aicMeasure, bicMeasure and fmMeasure functions\n",
    "The following functions all build models using forward stepwise selection but each model selects the feature to be added using a different measure. They could be combined into a single function however it would contain a lot of if statements and while overall would lead to less code would also lead to lower readablity.\n",
    "\n",
    "\n",
    "<u>aucMeasure function</u><br>\n",
    "The aucMeasure function will be explained as an example. The function takes the training data, the target variable (class) and the number of folds for CV testing and the maximum number of features for the model (should it the user wish to restrict the complexity of the model). For each of the features that are not already included in the model it uses CV testing to select (using AUC as the measure) the best feature to be added to the model. It continues this process until all features are used or the maximum number of features have been identified. For each loop of the feature selection it prints the ROC (receiver operating charactersitc curve) for the features being selected from as well as the score for each model if that feature was to be added. It shows the process of adding each feature to the model.\n",
    "\n",
    "The function returns a list of the best model for each number of features (one through to max feature) as well as the correspodning AUC score for each model)."
   ]
  },
  {
   "cell_type": "code",
   "execution_count": 21,
   "metadata": {
    "collapsed": false,
    "scrolled": false
   },
   "outputs": [],
   "source": [
    "aucMeasure <- function(data, target, K = 10, formula = paste(target,' ~ 1 ', sep = ''), maxFeatures = ncol(data) - 1) {\n",
    "  \n",
    "    # set the labels\n",
    "    train.labels <- train[(names(train) %in% target)]\n",
    "    \n",
    "    # remove the target column from the data\n",
    "    train.data <- train[!(names(train) %in% target)]\n",
    "  \n",
    "    # complete list of predictor features in data\n",
    "    features <- colnames(train.data)\n",
    "  \n",
    "    best_models <- data.frame(matrix(ncol = 3, nrow = 0))\n",
    "    colnames(best_models) <- c(\"feature_count\", \"model\", \"AUC\")\n",
    "    j <- 0\n",
    "    \n",
    "    # create the k folds of data\n",
    "    dataFolds <- folds(data, 10)\n",
    "    \n",
    "    # build the initial model using the comlete data set\n",
    "    model <- glm(formula, family=binomial(link = 'logit'),data = data)\n",
    "    # get the used features of this model\n",
    "    usedFeatures <- names(model$coefficients[names(model$coefficients) != '(Intercept)'])\n",
    "    \n",
    "    # while the number of used features is less than the maximum allowed features\n",
    "    while (length(usedFeatures) < maxFeatures) {\n",
    "    \n",
    "        j <- j + 1\n",
    "        # create an empty list to store the AUC score of each model with the potential new feature\n",
    "        auc <- list()\n",
    "        auc_df <- setNames(data.frame(matrix(ncol = 2, nrow = 0)), c(\"feature\", \"AUC\"))\n",
    "        \n",
    "        # create a list to store the cross validation scores for the model\n",
    "        CVauc <- list()\n",
    "        \n",
    "        # for each fold in the folded data set get the current models AUC score\n",
    "        for (k in 1:K) {\n",
    "            # set the testing labels\n",
    "            test.labels <- dataFolds$testing[[k]][(names(dataFolds$testing[[k]]) %in% target)]\n",
    "    \n",
    "            # remove the target column from the test data\n",
    "            test.data <- dataFolds$testing[[k]][!(names(dataFolds$testing[[k]]) %in% target)]\n",
    "            \n",
    "            modelCV <- glm(formula, family=binomial(link = 'logit'),data = dataFolds$training[[k]])\n",
    "            \n",
    "            modelCV.prediction <- predict.glm(modelCV, newdata = test.data, type = 'response')\n",
    "            modelCV.prediction.binary <- ifelse(modelCV.prediction > 0.5,1,0)\n",
    "            auc_measure <- performance(prediction(modelCV.prediction,test.labels), \"auc\")\n",
    "            CVauc[k] <- auc_measure@y.values\n",
    "        }\n",
    "    \n",
    "        # take the mean of the scores calculated abive\n",
    "        current_AUC <- mean(as.numeric(CVauc))\n",
    "        \n",
    "        # list of remaining features to search\n",
    "        searchFeatures <- features[!(features %in% usedFeatures)]\n",
    "    \n",
    "        cat('\\ncurrent model is ', Reduce(paste, deparse(model$formula)))\n",
    "        cat('\\ncurrent AUC is ', as.numeric(current_AUC))\n",
    "\n",
    "        best_models[j, 'feature_count'] <- length(usedFeatures)\n",
    "        best_models[j, 'model'] <- Reduce(paste, deparse(model$formula))\n",
    "        best_models[j, 'AUC'] <- current_AUC\n",
    "            \n",
    "        # for each potential new feature calculate the mean AUC score across the data folds\n",
    "        for (i in 1:length(searchFeatures)){\n",
    "    \n",
    "            formulaTest <- paste(c(formula, searchFeatures[i]), collapse = ' + ')\n",
    "            \n",
    "            CVauc <- list()\n",
    "            modelCV.prediction <- list()\n",
    "            modelCV.prediction.binary <- list()\n",
    "            \n",
    "            for (k in 1:K) {\n",
    "                # set the testing labels\n",
    "                test.labels <- dataFolds$testing[[k]][(names(dataFolds$testing[[k]]) %in% target)]\n",
    "    \n",
    "                # remove the target column from the test data\n",
    "                test.data <- dataFolds$testing[[k]][!(names(dataFolds$testing[[k]]) %in% target)]\n",
    "            \n",
    "                modelCV <- glm(formulaTest, family=binomial(link = 'logit'),data = dataFolds$training[[k]])\n",
    "            \n",
    "                modelCV.prediction[[k]] <- predict.glm(modelCV, newdata = test.data, type = 'response')\n",
    "                modelCV.prediction.binary[[k]] <- ifelse(modelCV.prediction[[k]] > 0.5,1,0)\n",
    "                auc_measure <- performance(prediction(modelCV.prediction[k],test.labels), \"auc\")\n",
    "                CVauc[k] <- auc_measure@y.values\n",
    "            }    \n",
    "            \n",
    "            auc_df[i,1] <- searchFeatures[i]\n",
    "            auc_df[i,2] <- mean(as.numeric(CVauc))    \n",
    "            \n",
    "            auc[searchFeatures[i]] <- auc_df[i,2]\n",
    "            \n",
    "            # choose a k value (set to 2) and plot the example ROC curve\n",
    "            model <- glm(formulaTest, family=binomial(link = 'logit'),data = dataFolds$training[[2]])\n",
    "            model.prediction <- predict.glm(modelCV, newdata = dataFolds$testing[[2]], type = 'response')\n",
    "      \n",
    "            if (i == 1) {\n",
    "                  predictions <- data.frame(model.prediction)\n",
    "            }\n",
    "            else {\n",
    "                predictions <- cbind(predictions, model.prediction)\n",
    "            }   \n",
    "            \n",
    "        }\n",
    "          \n",
    "        # plot an example AUC curve\n",
    "        plotROC(searchFeatures, predictions, dataFolds)\n",
    "            \n",
    "        # select the new predictor and build the formula\n",
    "        newPredictor <- names(auc[order(unlist(auc),decreasing=TRUE) ][1])\n",
    "        formula <- (paste(formula, newPredictor, sep = ' + '))\n",
    "        \n",
    "        # build a model using the new formula, get a list of the used features\n",
    "        model <- glm(formula, family=binomial(link = 'logit'),data = train)\n",
    "        usedFeatures <- names(model$coefficients[names(model$coefficients) != '(Intercept)'])\n",
    "        \n",
    "        print((auc_df[with(auc_df, order(-AUC)), ]))     \n",
    "      }\n",
    "    \n",
    "        # perform the AUC cross validation scoring one last time for the model where usedFeatures = maxFeatures\n",
    "        auc <- list()\n",
    "        \n",
    "        CVauc <- list()\n",
    "        \n",
    "        for (k in 1:K) {\n",
    "            # set the testing labels\n",
    "            test.labels <- dataFolds$testing[[k]][(names(dataFolds$testing[[k]]) %in% target)]\n",
    "    \n",
    "            # remove the target column from the test data\n",
    "            test.data <- dataFolds$testing[[k]][!(names(dataFolds$testing[[k]]) %in% target)]\n",
    "            \n",
    "            modelCV <- glm(formula, family=binomial(link = 'logit'),data = dataFolds$training[[k]])\n",
    "            \n",
    "            modelCV.prediction <- predict.glm(modelCV, newdata = test.data, type = 'response')\n",
    "            modelCV.prediction.binary <- ifelse(modelCV.prediction > 0.5,1,0)\n",
    "            auc_measure <- performance(prediction(modelCV.prediction,test.labels), \"auc\")\n",
    "            CVauc[k] <- auc_measure@y.values\n",
    "        }\n",
    "    \n",
    "        current_AUC <- mean(as.numeric(CVauc))\n",
    "        \n",
    "        cat('\\ncurrent model is ', Reduce(paste, deparse(model$formula)))\n",
    "        cat('\\ncurrent AUC is ', as.numeric(current_AUC))\n",
    "\n",
    "        best_models[j, 'feature_count'] <- length(usedFeatures)\n",
    "        best_models[j, 'model'] <- Reduce(paste, deparse(model$formula))\n",
    "        best_models[j, 'AUC'] <- current_AUC\n",
    "    \n",
    "    \n",
    "  return(best_models)\n",
    "}\n",
    "\n"
   ]
  },
  {
   "cell_type": "code",
   "execution_count": 22,
   "metadata": {
    "collapsed": true,
    "scrolled": false
   },
   "outputs": [],
   "source": [
    "aicMeasure <- function(data, target, K = 10, formula = paste(target,' ~ 1 ', sep = ''), maxFeatures = ncol(data) - 1) {\n",
    "  \n",
    "    # set the labels\n",
    "    train.labels <- train[(names(train) %in% target)]\n",
    "    \n",
    "    # remove the target column from the data\n",
    "    train.data <- train[!(names(train) %in% target)]\n",
    "  \n",
    "    # complete list of predictor features in data\n",
    "    features <- colnames(train.data)\n",
    "  \n",
    "    colors <- c('red', 'blue', 'green', 'yellow', 'gray', 'pink', 'orange', 'black', 'brown2', 'blueviolet', 'darkgreen', 'darkseagreen') #colors\n",
    "  \n",
    "    best_models <- data.frame(matrix(ncol = 3, nrow = 0))\n",
    "    colnames(best_models) <- c(\"feature_count\", \"model\", \"AIC\")\n",
    "    j <- 0\n",
    "    \n",
    "    dataFolds <- folds(data)\n",
    "    \n",
    "    model <- glm(formula, family=binomial(link = 'logit'),data = data)\n",
    "    usedFeatures <- names(model$coefficients[names(model$coefficients) != '(Intercept)'])\n",
    "    \n",
    "    while (length(usedFeatures) < maxFeatures) {\n",
    "    \n",
    "        j <- j + 1\n",
    "    \n",
    "        \n",
    "        aic <- list()\n",
    "        auc_df <- setNames(data.frame(matrix(ncol = 2, nrow = 0)), c(\"feature\", \"AIC\"))\n",
    "        \n",
    "        CVaic <- list()\n",
    "        \n",
    "        for (k in 1:K) {\n",
    "            # set the testing labels\n",
    "            test.labels <- dataFolds$testing[[k]][(names(dataFolds$testing[[k]]) %in% target)]\n",
    "    \n",
    "            # remove the target column from the test data\n",
    "            test.data <- dataFolds$testing[[k]][!(names(dataFolds$testing[[k]]) %in% target)]\n",
    "            \n",
    "            modelCV <- glm(formula, family=binomial(link = 'logit'),data = dataFolds$training[[k]])\n",
    "            \n",
    "            modelCV.prediction <- predict.glm(modelCV, newdata = test.data, type = 'response')\n",
    "            modelCV.prediction.binary <- ifelse(modelCV.prediction > 0.5,1,0)\n",
    "            \n",
    "            CVaic[k] <- AIC(modelCV)\n",
    "        }\n",
    "    \n",
    "        current_aic <- mean(as.numeric(CVaic))\n",
    "        \n",
    "        # list of remaining features to search\n",
    "        searchFeatures <- features[!(features %in% usedFeatures)]\n",
    "    \n",
    "        cat('\\ncurrent model is ', Reduce(paste, deparse(model$formula)))\n",
    "        cat('\\ncurrent AIC is ', current_aic, '\\n')\n",
    "\n",
    "        best_models[j, 'feature_count'] <- length(usedFeatures)\n",
    "        best_models[j, 'model'] <- Reduce(paste, deparse(model$formula))\n",
    "        best_models[j, 'AIC'] <- current_aic\n",
    "        \n",
    "            \n",
    "        for (i in 1:length(searchFeatures)){\n",
    "            formulaTest <- paste(c(formula, searchFeatures[i]), collapse = ' + ')\n",
    "            CVaic <- list()\n",
    "            modelCV.prediction <- list()\n",
    "            modelCV.prediction.binary <- list()\n",
    "            \n",
    "            for (k in 1:K) {\n",
    "                # set the testing labels\n",
    "                test.labels <- dataFolds$testing[[k]][(names(dataFolds$testing[[k]]) %in% target)]\n",
    "    \n",
    "                # remove the target column from the test data\n",
    "                test.data <- dataFolds$testing[[k]][!(names(dataFolds$testing[[k]]) %in% target)]\n",
    "            \n",
    "                modelCV <- glm(formulaTest, family=binomial(link = 'logit'),data = dataFolds$training[[k]])\n",
    "            \n",
    "                modelCV.prediction[[k]] <- predict.glm(modelCV, newdata = test.data, type = 'response')\n",
    "                modelCV.prediction.binary[[k]] <- ifelse(modelCV.prediction[[k]] > 0.5,1,0)\n",
    "\n",
    "                CVaic[k] <- AIC(modelCV)\n",
    "                \n",
    "            }\n",
    "                \n",
    "            # CHANGE TO STORE IN LIST AND LATER AVERAGE FOR EXISTING DATA FRAME\n",
    "            auc_df[i,1] <- searchFeatures[i]\n",
    "            auc_df[i,2] <- mean(as.numeric(CVaic))\n",
    "            \n",
    "            aic[searchFeatures[[i]]] <- auc_df[i,2]  \n",
    "            \n",
    "            model <- glm(formulaTest, family=binomial(link = 'logit'),data = dataFolds$training[[5]])\n",
    "        }         \n",
    "  \n",
    "        plotXIC(auc_df)\n",
    "        \n",
    "        newPredictor <- names(aic[order(unlist(aic),decreasing=FALSE) ][1])\n",
    "        formula <- (paste(formula, newPredictor, sep = ' + '))\n",
    "        model <- glm(formula, family=binomial(link = 'logit'),data = train)\n",
    "        \n",
    "        usedFeatures <- names(model$coefficients[names(model$coefficients) != '(Intercept)'])\n",
    "\n",
    "        print((auc_df[with(auc_df, order(AIC)), ]))\n",
    "    }     \n",
    "        \n",
    "        CVaic <- list()\n",
    "        \n",
    "        for (k in 1:K) {\n",
    "            # set the testing labels\n",
    "            test.labels <- dataFolds$testing[[k]][(names(dataFolds$testing[[k]]) %in% target)]\n",
    "    \n",
    "            # remove the target column from the test data\n",
    "            test.data <- dataFolds$testing[[k]][!(names(dataFolds$testing[[k]]) %in% target)]\n",
    "            \n",
    "            modelCV <- glm(formula, family=binomial(link = 'logit'),data = dataFolds$training[[k]])\n",
    "            \n",
    "            modelCV.prediction <- predict.glm(modelCV, newdata = test.data, type = 'response')\n",
    "            modelCV.prediction.binary <- ifelse(modelCV.prediction > 0.5,1,0)\n",
    "            \n",
    "            CVaic[k] <- AIC(modelCV)\n",
    "        }\n",
    "    \n",
    "        current_aic <- mean(as.numeric(CVaic))\n",
    "        \n",
    "        # list of remaining features to search\n",
    "        searchFeatures <- features[!(features %in% usedFeatures)]\n",
    "    \n",
    "        cat('\\ncurrent model is ', Reduce(paste, deparse(model$formula)))\n",
    "        cat('\\ncurrent AIC is ', current_aic, '\\n')\n",
    "\n",
    "        best_models[j, 'feature_count'] <- length(usedFeatures)\n",
    "        best_models[j, 'model'] <- Reduce(paste, deparse(model$formula))\n",
    "        best_models[j, 'AIC'] <- current_aic\n",
    "    \n",
    "  return(best_models)\n",
    "}\n",
    "\n"
   ]
  },
  {
   "cell_type": "code",
   "execution_count": 23,
   "metadata": {
    "collapsed": true,
    "scrolled": false
   },
   "outputs": [],
   "source": [
    "bicMeasure <- function(data, target, K = 10, formula = paste(target,' ~ 1 ', sep = ''), maxFeatures = ncol(data) - 1) {\n",
    "  \n",
    "    # set the labels\n",
    "    train.labels <- train[(names(train) %in% target)]\n",
    "    \n",
    "    # remove the target column from the data\n",
    "    train.data <- train[!(names(train) %in% target)]\n",
    "  \n",
    "    # complete list of predictor features in data\n",
    "    features <- colnames(train.data)\n",
    "  \n",
    "    colors <- c('red', 'blue', 'green', 'yellow', 'gray', 'pink', 'orange', 'black', 'brown2', 'blueviolet', 'darkgreen', 'darkseagreen') #colors\n",
    "  \n",
    "    best_models <- data.frame(matrix(ncol = 3, nrow = 0))\n",
    "    colnames(best_models) <- c(\"feature_count\", \"model\", \"BIC\")\n",
    "    j <- 0\n",
    "    \n",
    "    dataFolds <- folds(data)\n",
    "    \n",
    "    model <- glm(formula, family=binomial(link = 'logit'),data = data)\n",
    "    usedFeatures <- names(model$coefficients[names(model$coefficients) != '(Intercept)'])\n",
    "    \n",
    "    while (length(usedFeatures) < maxFeatures) {\n",
    "    \n",
    "        j <- j + 1\n",
    "    \n",
    "        \n",
    "        bic <- list()\n",
    "        auc_df <- setNames(data.frame(matrix(ncol = 2, nrow = 0)), c(\"feature\", \"BIC\"))\n",
    "        \n",
    "        CVbic <- list()\n",
    "        \n",
    "        for (k in 1:K) {\n",
    "            # set the testing labels\n",
    "            test.labels <- dataFolds$testing[[k]][(names(dataFolds$testing[[k]]) %in% target)]\n",
    "    \n",
    "            # remove the target column from the test data\n",
    "            test.data <- dataFolds$testing[[k]][!(names(dataFolds$testing[[k]]) %in% target)]\n",
    "            \n",
    "            modelCV <- glm(formula, family=binomial(link = 'logit'),data = dataFolds$training[[k]])\n",
    "            \n",
    "            modelCV.prediction <- predict.glm(modelCV, newdata = test.data, type = 'response')\n",
    "            modelCV.prediction.binary <- ifelse(modelCV.prediction > 0.5,1,0)\n",
    "            \n",
    "            CVbic[k] <- BIC(modelCV)\n",
    "        }\n",
    "    \n",
    "        current_bic <- mean(as.numeric(CVbic))\n",
    "        \n",
    "        # list of remaining features to search\n",
    "        searchFeatures <- features[!(features %in% usedFeatures)]\n",
    "    \n",
    "        cat('\\ncurrent model is ', Reduce(paste, deparse(model$formula)))\n",
    "        cat('\\ncurrent BIC is ', current_bic, '\\n')\n",
    "\n",
    "        best_models[j, 'feature_count'] <- length(usedFeatures)\n",
    "        best_models[j, 'model'] <- Reduce(paste, deparse(model$formula))\n",
    "        best_models[j, 'BIC'] <- current_bic\n",
    "        \n",
    "            \n",
    "        for (i in 1:length(searchFeatures)){\n",
    "            formulaTest <- paste(c(formula, searchFeatures[i]), collapse = ' + ')\n",
    "            CVbic <- list()\n",
    "            modelCV.prediction <- list()\n",
    "            modelCV.prediction.binary <- list()\n",
    "            \n",
    "            for (k in 1:K) {\n",
    "                # set the testing labels\n",
    "                test.labels <- dataFolds$testing[[k]][(names(dataFolds$testing[[k]]) %in% target)]\n",
    "    \n",
    "                # remove the target column from the test data\n",
    "                test.data <- dataFolds$testing[[k]][!(names(dataFolds$testing[[k]]) %in% target)]\n",
    "            \n",
    "                modelCV <- glm(formulaTest, family=binomial(link = 'logit'),data = dataFolds$training[[k]])\n",
    "            \n",
    "                modelCV.prediction[[k]] <- predict.glm(modelCV, newdata = test.data, type = 'response')\n",
    "                modelCV.prediction.binary[[k]] <- ifelse(modelCV.prediction[[k]] > 0.5,1,0)\n",
    "\n",
    "                CVbic[k] <- BIC(modelCV)\n",
    "                \n",
    "            }\n",
    "                \n",
    "            # CHANGE TO STORE IN LIST AND LATER AVERAGE FOR EXISTING DATA FRAME\n",
    "            auc_df[i,1] <- searchFeatures[i]\n",
    "            auc_df[i,2] <- mean(as.numeric(CVbic))\n",
    "            \n",
    "            bic[searchFeatures[[i]]] <- auc_df[i,2]  \n",
    "            \n",
    "            model <- glm(formulaTest, family=binomial(link = 'logit'),data = dataFolds$training[[5]])\n",
    "        }         \n",
    "  \n",
    "        plotXIC(auc_df)\n",
    "        \n",
    "        newPredictor <- names(bic[order(unlist(bic),decreasing=FALSE) ][1])\n",
    "        formula <- (paste(formula, newPredictor, sep = ' + '))\n",
    "        model <- glm(formula, family=binomial(link = 'logit'),data = train)\n",
    "        \n",
    "        usedFeatures <- names(model$coefficients[names(model$coefficients) != '(Intercept)'])\n",
    "\n",
    "        print((auc_df[with(auc_df, order(BIC)), ]))\n",
    "    }     \n",
    "        \n",
    "        CVbic <- list()\n",
    "        \n",
    "        for (k in 1:K) {\n",
    "            # set the testing labels\n",
    "            test.labels <- dataFolds$testing[[k]][(names(dataFolds$testing[[k]]) %in% target)]\n",
    "    \n",
    "            # remove the target column from the test data\n",
    "            test.data <- dataFolds$testing[[k]][!(names(dataFolds$testing[[k]]) %in% target)]\n",
    "            \n",
    "            modelCV <- glm(formula, family=binomial(link = 'logit'),data = dataFolds$training[[k]])\n",
    "            \n",
    "            modelCV.prediction <- predict.glm(modelCV, newdata = test.data, type = 'response')\n",
    "            modelCV.prediction.binary <- ifelse(modelCV.prediction > 0.5,1,0)\n",
    "            \n",
    "            CVbic[k] <- BIC(modelCV)\n",
    "        }\n",
    "    \n",
    "        current_bic <- mean(as.numeric(CVbic))\n",
    "        \n",
    "        # list of remaining features to search\n",
    "        searchFeatures <- features[!(features %in% usedFeatures)]\n",
    "    \n",
    "        cat('\\ncurrent model is ', Reduce(paste, deparse(model$formula)))\n",
    "        cat('\\ncurrent BIC is ', current_bic, '\\n')\n",
    "\n",
    "        best_models[j, 'feature_count'] <- length(usedFeatures)\n",
    "        best_models[j, 'model'] <- Reduce(paste, deparse(model$formula))\n",
    "        best_models[j, 'BIC'] <- current_bic\n",
    "    \n",
    "  return(best_models)\n",
    "}\n",
    "\n"
   ]
  },
  {
   "cell_type": "code",
   "execution_count": 24,
   "metadata": {
    "collapsed": false,
    "scrolled": false
   },
   "outputs": [],
   "source": [
    "fmMeasure <- function(data, target, K = 10, formula = paste(target,' ~ 1 ', sep = ''), maxFeatures = ncol(data) - 1) {\n",
    "  \n",
    "    # set the labels\n",
    "    train.labels <- train[(names(train) %in% target)]\n",
    "    \n",
    "    # remove the target column from the data\n",
    "    train.data <- train[!(names(train) %in% target)]\n",
    "  \n",
    "    # complete list of predictor features in data\n",
    "    features <- colnames(train.data)\n",
    "  \n",
    "    colors <- c('red', 'blue', 'green', 'yellow', 'gray', 'pink', 'orange', 'black', 'brown2', 'blueviolet', 'darkgreen', 'darkseagreen') #colors\n",
    "  \n",
    "    best_models <- data.frame(matrix(ncol = 3, nrow = 0))\n",
    "    colnames(best_models) <- c(\"feature_count\", \"model\", \"fMeasure\")\n",
    "    j <- 0\n",
    "    \n",
    "    dataFolds <- folds(data)\n",
    "    \n",
    "    model <- glm(formula, family=binomial(link = 'logit'),data = data)\n",
    "    usedFeatures <- names(model$coefficients[names(model$coefficients) != '(Intercept)'])\n",
    "    \n",
    "    while (length(usedFeatures) < maxFeatures) {\n",
    "    \n",
    "        j <- j + 1\n",
    "    \n",
    "        \n",
    "        fMeasure <- list()\n",
    "        auc_df <- setNames(data.frame(matrix(ncol = 2, nrow = 0)), c(\"feature\", \"fMeasure\"))\n",
    "        \n",
    "        CVfMeasure <- list()\n",
    "        \n",
    "        for (k in 1:K) {\n",
    "            # set the testing labels\n",
    "            test.labels <- dataFolds$testing[[k]][(names(dataFolds$testing[[k]]) %in% target)]\n",
    "    \n",
    "            # remove the target column from the test data\n",
    "            test.data <- dataFolds$testing[[k]][!(names(dataFolds$testing[[k]]) %in% target)]\n",
    "            \n",
    "            modelCV <- glm(formula, family=binomial(link = 'logit'),data = dataFolds$training[[k]])\n",
    "            \n",
    "            modelCV.prediction <- predict.glm(modelCV, newdata = test.data, type = 'response')\n",
    "            modelCV.prediction.binary <- ifelse(modelCV.prediction > 0.5,1,0)\n",
    "            \n",
    "            CVfMeasure[k] <- fMeasure(modelCV.prediction.binary, test.labels)\n",
    "        }\n",
    "    \n",
    "        current_fMeasure <- mean(as.numeric(CVfMeasure))\n",
    "        \n",
    "        # list of remaining features to search\n",
    "        searchFeatures <- features[!(features %in% usedFeatures)]\n",
    "    \n",
    "        cat('\\ncurrent model is ', Reduce(paste, deparse(model$formula)))\n",
    "        cat('\\ncurrent F-Measure is ', current_fMeasure, '\\n')\n",
    "\n",
    "        best_models[j, 'feature_count'] <- length(usedFeatures)\n",
    "        best_models[j, 'model'] <- Reduce(paste, deparse(model$formula))\n",
    "        best_models[j, 'fMeasure'] <- current_fMeasure\n",
    "        \n",
    "            \n",
    "        for (i in 1:length(searchFeatures)){\n",
    "            formulaTest <- paste(c(formula, searchFeatures[i]), collapse = ' + ')\n",
    "            CVfMeasure <- list()\n",
    "            modelCV.prediction <- list()\n",
    "            modelCV.prediction.binary <- list()\n",
    "            \n",
    "            for (k in 1:K) {\n",
    "                # set the testing labels\n",
    "                test.labels <- dataFolds$testing[[k]][(names(dataFolds$testing[[k]]) %in% target)]\n",
    "    \n",
    "                # remove the target column from the test data\n",
    "                test.data <- dataFolds$testing[[k]][!(names(dataFolds$testing[[k]]) %in% target)]\n",
    "            \n",
    "                modelCV <- glm(formulaTest, family=binomial(link = 'logit'),data = dataFolds$training[[k]])\n",
    "            \n",
    "                modelCV.prediction[[k]] <- predict.glm(modelCV, newdata = test.data, type = 'response')\n",
    "                modelCV.prediction.binary[[k]] <- ifelse(modelCV.prediction[[k]] > 0.5,1,0)\n",
    "\n",
    "                CVfMeasure[k] <- fMeasure(modelCV.prediction.binary[[k]], test.labels)\n",
    "                \n",
    "            }\n",
    "                \n",
    "            # CHANGE TO STORE IN LIST AND LATER AVERAGE FOR EXISTING DATA FRAME\n",
    "            auc_df[i,1] <- searchFeatures[i]\n",
    "            auc_df[i,2] <- mean(as.numeric(CVfMeasure))\n",
    "            \n",
    "            fMeasure[searchFeatures[[i]]] <- auc_df[i,2]  \n",
    "            \n",
    "            model <- glm(formulaTest, family=binomial(link = 'logit'),data = dataFolds$training[[5]])\n",
    "        }         \n",
    "  \n",
    "        plotfMeasure(auc_df)\n",
    "        \n",
    "        newPredictor <- names(fMeasure[order(unlist(fMeasure),decreasing=TRUE) ][1])\n",
    "        formula <- (paste(formula, newPredictor, sep = ' + '))\n",
    "        model <- glm(formula, family=binomial(link = 'logit'),data = train)\n",
    "        \n",
    "        usedFeatures <- names(model$coefficients[names(model$coefficients) != '(Intercept)'])\n",
    "\n",
    "        print((auc_df[with(auc_df, order(-fMeasure)), ]))\n",
    "    }     \n",
    "        \n",
    "        CVfMeasure <- list()\n",
    "        \n",
    "        for (k in 1:K) {\n",
    "            # set the testing labels\n",
    "            test.labels <- dataFolds$testing[[k]][(names(dataFolds$testing[[k]]) %in% target)]\n",
    "    \n",
    "            # remove the target column from the test data\n",
    "            test.data <- dataFolds$testing[[k]][!(names(dataFolds$testing[[k]]) %in% target)]\n",
    "            \n",
    "            modelCV <- glm(formula, family=binomial(link = 'logit'),data = dataFolds$training[[k]])\n",
    "            \n",
    "            modelCV.prediction <- predict.glm(modelCV, newdata = test.data, type = 'response')\n",
    "            modelCV.prediction.binary <- ifelse(modelCV.prediction > 0.5,1,0)\n",
    "            \n",
    "            CVfMeasure[k] <- fMeasure(modelCV.prediction.binary, test.labels)\n",
    "        }\n",
    "    \n",
    "        current_fMeasure <- mean(as.numeric(CVfMeasure))\n",
    "        \n",
    "        # list of remaining features to search\n",
    "        searchFeatures <- features[!(features %in% usedFeatures)]\n",
    "    \n",
    "        cat('\\ncurrent model is ', Reduce(paste, deparse(model$formula)))\n",
    "        cat('\\ncurrent F-Measure is ', current_fMeasure, '\\n')\n",
    "\n",
    "        best_models[j, 'feature_count'] <- length(usedFeatures)\n",
    "        best_models[j, 'model'] <- Reduce(paste, deparse(model$formula))\n",
    "        best_models[j, 'fMeasure'] <- current_fMeasure\n",
    "    \n",
    "  return(best_models)\n",
    "}\n",
    "\n"
   ]
  },
  {
   "cell_type": "markdown",
   "metadata": {},
   "source": [
    "## Building the models"
   ]
  },
  {
   "cell_type": "markdown",
   "metadata": {},
   "source": [
    "### Model using AUC\n",
    "The following model calls the aucMeasure function with the train data, sets 'quality' as the target variable and uses k = 10 for the cross validation (10 folds will be created with a train and test set for each fold). It will print out the ROC curve for a model with each remaining feature added before selecting the one that increases the area under the curve the most."
   ]
  },
  {
   "cell_type": "code",
   "execution_count": 25,
   "metadata": {
    "collapsed": false,
    "scrolled": false
   },
   "outputs": [
    {
     "name": "stdout",
     "output_type": "stream",
     "text": [
      "\n",
      "current model is  \"quality ~ 1 \"\n",
      "current AUC is  0.5                feature       AUC\n",
      "11              alcohol 0.7546103\n",
      "8               density 0.6948084\n",
      "5             chlorides 0.6725168\n",
      "2      volatile.acidity 0.6432787\n",
      "7  total.sulfur.dioxide 0.6128231\n",
      "9                    pH 0.5696184\n",
      "4        residual.sugar 0.5514423\n",
      "1         fixed.acidity 0.5504839\n",
      "10            sulphates 0.5273564\n",
      "3           citric.acid 0.4808558\n",
      "6   free.sulfur.dioxide 0.4610401\n",
      "\n",
      "current model is  \"quality ~ 1  + alcohol\"\n",
      "current AUC is  0.7546103"
     ]
    },
    {
     "data": {
      "image/png": "[encoded data removed]",
      "text/plain": [
       "plot without title"
      ]
     },
     "metadata": {},
     "output_type": "display_data"
    },
    {
     "name": "stdout",
     "output_type": "stream",
     "text": [
      "                feature       AUC\n",
      "2      volatile.acidity 0.7951620\n",
      "6   free.sulfur.dioxide 0.7648760\n",
      "4        residual.sugar 0.7597942\n",
      "10            sulphates 0.7584627\n",
      "9                    pH 0.7581803\n",
      "1         fixed.acidity 0.7563805\n",
      "8               density 0.7562924\n",
      "5             chlorides 0.7561691\n",
      "3           citric.acid 0.7555847\n",
      "7  total.sulfur.dioxide 0.7542057\n",
      "\n",
      "current model is  \"quality ~ 1  + alcohol + volatile.acidity\"\n",
      "current AUC is  0.795162"
     ]
    },
    {
     "data": {
      "image/png": "[encoded data removed]",
      "text/plain": [
       "plot without title"
      ]
     },
     "metadata": {},
     "output_type": "display_data"
    },
    {
     "name": "stdout",
     "output_type": "stream",
     "text": [
      "               feature       AUC\n",
      "3       residual.sugar 0.8022316\n",
      "5  free.sulfur.dioxide 0.8004775\n",
      "1        fixed.acidity 0.7984159\n",
      "7              density 0.7982982\n",
      "9            sulphates 0.7974449\n",
      "8                   pH 0.7965892\n",
      "6 total.sulfur.dioxide 0.7961374\n",
      "4            chlorides 0.7951736\n",
      "2          citric.acid 0.7950188\n",
      "\n",
      "current model is  \"quality ~ 1  + alcohol + volatile.acidity + residual.sugar\"\n",
      "current AUC is  0.8022316"
     ]
    },
    {
     "data": {
      "image/png": "[encoded data removed]",
      "text/plain": [
       "plot without title"
      ]
     },
     "metadata": {},
     "output_type": "display_data"
    },
    {
     "name": "stdout",
     "output_type": "stream",
     "text": [
      "               feature       AUC\n",
      "1        fixed.acidity 0.8059836\n",
      "4  free.sulfur.dioxide 0.8048142\n",
      "8            sulphates 0.8044848\n",
      "7                   pH 0.8043831\n",
      "6              density 0.8029197\n",
      "2          citric.acid 0.8021101\n",
      "5 total.sulfur.dioxide 0.8019718\n",
      "3            chlorides 0.8018930\n",
      "\n",
      "current model is  \"quality ~ 1  + alcohol + volatile.acidity + residual.sugar + fixed.acidity\"\n",
      "current AUC is  0.8059836"
     ]
    },
    {
     "data": {
      "image/png": "[encoded data removed]",
      "text/plain": [
       "plot without title"
      ]
     },
     "metadata": {},
     "output_type": "display_data"
    },
    {
     "name": "stdout",
     "output_type": "stream",
     "text": [
      "               feature       AUC\n",
      "7            sulphates 0.8080022\n",
      "3  free.sulfur.dioxide 0.8072857\n",
      "6                   pH 0.8063113\n",
      "5              density 0.8058126\n",
      "1          citric.acid 0.8057403\n",
      "2            chlorides 0.8057284\n",
      "4 total.sulfur.dioxide 0.8057186\n",
      "\n",
      "current model is  \"quality ~ 1  + alcohol + volatile.acidity + residual.sugar + fixed.acidity + sulphates\"\n",
      "current AUC is  0.8080022"
     ]
    },
    {
     "data": {
      "image/png": "[encoded data removed]",
      "text/plain": [
       "plot without title"
      ]
     },
     "metadata": {},
     "output_type": "display_data"
    },
    {
     "name": "stdout",
     "output_type": "stream",
     "text": [
      "               feature       AUC\n",
      "3  free.sulfur.dioxide 0.8095632\n",
      "6                   pH 0.8082994\n",
      "1          citric.acid 0.8080379\n",
      "4 total.sulfur.dioxide 0.8079458\n",
      "2            chlorides 0.8078334\n",
      "5              density 0.8077892\n",
      "\n",
      "current model is  \"quality ~ 1  + alcohol + volatile.acidity + residual.sugar + fixed.acidity + sulphates + free.sulfur.dioxide\"\n",
      "current AUC is  0.8095632"
     ]
    },
    {
     "data": {
      "image/png": "[encoded data removed]",
      "text/plain": [
       "plot without title"
      ]
     },
     "metadata": {},
     "output_type": "display_data"
    },
    {
     "name": "stdout",
     "output_type": "stream",
     "text": [
      "               feature       AUC\n",
      "3 total.sulfur.dioxide 0.8098996\n",
      "5                   pH 0.8098423\n",
      "1          citric.acid 0.8095788\n",
      "2            chlorides 0.8095144\n",
      "4              density 0.8092627\n",
      "\n",
      "current model is  \"quality ~ 1  + alcohol + volatile.acidity + residual.sugar + fixed.acidity + sulphates + free.sulfur.dioxide + total.sulfur.dioxide\"\n",
      "current AUC is  0.8098996"
     ]
    },
    {
     "data": {
      "image/png": "[encoded data removed]",
      "text/plain": [
       "plot without title"
      ]
     },
     "metadata": {},
     "output_type": "display_data"
    },
    {
     "name": "stdout",
     "output_type": "stream",
     "text": [
      "      feature       AUC\n",
      "4          pH 0.8098577\n",
      "1 citric.acid 0.8098396\n",
      "2   chlorides 0.8096620\n",
      "3     density 0.8095978\n",
      "\n",
      "current model is  \"quality ~ 1  + alcohol + volatile.acidity + residual.sugar + fixed.acidity + sulphates + free.sulfur.dioxide + total.sulfur.dioxide + pH\"\n",
      "current AUC is  0.8098577"
     ]
    },
    {
     "data": {
      "image/png": "[encoded data removed]",
      "text/plain": [
       "plot without title"
      ]
     },
     "metadata": {},
     "output_type": "display_data"
    },
    {
     "name": "stdout",
     "output_type": "stream",
     "text": [
      "      feature       AUC\n",
      "3     density 0.8106478\n",
      "1 citric.acid 0.8098812\n",
      "2   chlorides 0.8097042\n",
      "\n",
      "current model is  \"quality ~ 1  + alcohol + volatile.acidity + residual.sugar + fixed.acidity + sulphates + free.sulfur.dioxide + total.sulfur.dioxide + pH + density\"\n",
      "current AUC is  0.8106478"
     ]
    },
    {
     "data": {
      "image/png": "[encoded data removed]",
      "text/plain": [
       "plot without title"
      ]
     },
     "metadata": {},
     "output_type": "display_data"
    },
    {
     "name": "stdout",
     "output_type": "stream",
     "text": [
      "      feature       AUC\n",
      "1 citric.acid 0.8105108\n",
      "2   chlorides 0.8104212\n",
      "\n",
      "current model is  \"quality ~ 1  + alcohol + volatile.acidity + residual.sugar + fixed.acidity + sulphates + free.sulfur.dioxide + total.sulfur.dioxide + pH + density + citric.acid\"\n",
      "current AUC is  0.8105108"
     ]
    },
    {
     "data": {
      "image/png": "[encoded data removed]",
      "text/plain": [
       "plot without title"
      ]
     },
     "metadata": {},
     "output_type": "display_data"
    },
    {
     "name": "stdout",
     "output_type": "stream",
     "text": [
      "    feature       AUC\n",
      "1 chlorides 0.8102334\n",
      "\n",
      "current model is  \"quality ~ 1  + alcohol + volatile.acidity + residual.sugar + fixed.acidity + sulphates + free.sulfur.dioxide + total.sulfur.dioxide + pH + density + citric.acid + chlorides\"\n",
      "current AUC is  0.8102334"
     ]
    },
    {
     "data": {
      "image/png": "[encoded data removed]",
      "text/plain": [
       "plot without title"
      ]
     },
     "metadata": {},
     "output_type": "display_data"
    }
   ],
   "source": [
    "# set plot size for ROC curves\n",
    "options(repr.plot.width=5, repr.plot.height=5)\n",
    "# build model using auc as scoring measure\n",
    "auc <- aucMeasure(train, 'quality', 10)"
   ]
  },
  {
   "cell_type": "markdown",
   "metadata": {},
   "source": [
    "### Model using AIC\n",
    "The following model calls the aicMeasure function with the train data, sets 'quality' as the target variable and uses k = 10 for the cross validation (10 folds will be created with a train and test set for each fold). It will print out a bar chart showing the AIC score for each model with each remaining feature added before adding the one that decreases AIC the most."
   ]
  },
  {
   "cell_type": "code",
   "execution_count": 26,
   "metadata": {
    "collapsed": false,
    "scrolled": false
   },
   "outputs": [
    {
     "name": "stdout",
     "output_type": "stream",
     "text": [
      "\n",
      "current model is  \"quality ~ 1 \"\n",
      "current AIC is  3776.458 \n",
      "                feature      AIC\n",
      "11              alcohol 3210.015\n",
      "8               density 3511.603\n",
      "2      volatile.acidity 3618.192\n",
      "5             chlorides 3657.315\n",
      "7  total.sulfur.dioxide 3681.677\n",
      "4        residual.sugar 3741.681\n",
      "9                    pH 3743.652\n",
      "1         fixed.acidity 3747.491\n",
      "10            sulphates 3766.585\n",
      "6   free.sulfur.dioxide 3778.114\n",
      "3           citric.acid 3778.355\n",
      "\n",
      "current model is  \"quality ~ 1  + alcohol\"\n",
      "current AIC is  3210.015 \n"
     ]
    },
    {
     "data": {
      "image/png": "[encoded data removed]",
      "text/plain": [
       "plot without title"
      ]
     },
     "metadata": {},
     "output_type": "display_data"
    },
    {
     "name": "stdout",
     "output_type": "stream",
     "text": [
      "                feature      AIC\n",
      "2      volatile.acidity 3008.210\n",
      "6   free.sulfur.dioxide 3172.036\n",
      "4        residual.sugar 3189.463\n",
      "10            sulphates 3194.540\n",
      "1         fixed.acidity 3197.633\n",
      "9                    pH 3198.793\n",
      "8               density 3204.345\n",
      "5             chlorides 3204.912\n",
      "3           citric.acid 3207.034\n",
      "7  total.sulfur.dioxide 3211.070\n",
      "\n",
      "current model is  \"quality ~ 1  + alcohol + volatile.acidity\"\n",
      "current AIC is  3008.21 \n"
     ]
    },
    {
     "data": {
      "image/png": "[encoded data removed]",
      "text/plain": [
       "plot without title"
      ]
     },
     "metadata": {},
     "output_type": "display_data"
    },
    {
     "name": "stdout",
     "output_type": "stream",
     "text": [
      "               feature      AIC\n",
      "3       residual.sugar 2970.887\n",
      "5  free.sulfur.dioxide 2982.851\n",
      "7              density 2990.519\n",
      "1        fixed.acidity 2990.583\n",
      "9            sulphates 2993.565\n",
      "6 total.sulfur.dioxide 3000.785\n",
      "8                   pH 3001.232\n",
      "4            chlorides 3008.649\n",
      "2          citric.acid 3010.075\n",
      "\n",
      "current model is  \"quality ~ 1  + alcohol + volatile.acidity + residual.sugar\"\n",
      "current AIC is  2970.887 \n"
     ]
    },
    {
     "data": {
      "image/png": "[encoded data removed]",
      "text/plain": [
       "plot without title"
      ]
     },
     "metadata": {},
     "output_type": "display_data"
    },
    {
     "name": "stdout",
     "output_type": "stream",
     "text": [
      "               feature      AIC\n",
      "1        fixed.acidity 2950.372\n",
      "8            sulphates 2956.082\n",
      "7                   pH 2957.504\n",
      "4  free.sulfur.dioxide 2958.571\n",
      "6              density 2968.141\n",
      "5 total.sulfur.dioxide 2970.302\n",
      "2          citric.acid 2972.521\n",
      "3            chlorides 2972.671\n",
      "\n",
      "current model is  \"quality ~ 1  + alcohol + volatile.acidity + residual.sugar + fixed.acidity\"\n",
      "current AIC is  2950.372 \n"
     ]
    },
    {
     "data": {
      "image/png": "[encoded data removed]",
      "text/plain": [
       "plot without title"
      ]
     },
     "metadata": {},
     "output_type": "display_data"
    },
    {
     "name": "stdout",
     "output_type": "stream",
     "text": [
      "               feature      AIC\n",
      "7            sulphates 2935.445\n",
      "3  free.sulfur.dioxide 2941.737\n",
      "6                   pH 2947.512\n",
      "4 total.sulfur.dioxide 2949.669\n",
      "1          citric.acid 2951.501\n",
      "2            chlorides 2952.034\n",
      "5              density 2952.216\n",
      "\n",
      "current model is  \"quality ~ 1  + alcohol + volatile.acidity + residual.sugar + fixed.acidity + sulphates\"\n",
      "current AIC is  2935.445 \n"
     ]
    },
    {
     "data": {
      "image/png": "[encoded data removed]",
      "text/plain": [
       "plot without title"
      ]
     },
     "metadata": {},
     "output_type": "display_data"
    },
    {
     "name": "stdout",
     "output_type": "stream",
     "text": [
      "               feature      AIC\n",
      "3  free.sulfur.dioxide 2927.592\n",
      "6                   pH 2935.081\n",
      "5              density 2935.972\n",
      "4 total.sulfur.dioxide 2936.548\n",
      "1          citric.acid 2936.989\n",
      "2            chlorides 2937.135\n",
      "\n",
      "current model is  \"quality ~ 1  + alcohol + volatile.acidity + residual.sugar + fixed.acidity + sulphates + free.sulfur.dioxide\"\n",
      "current AIC is  2927.592 \n"
     ]
    },
    {
     "data": {
      "image/png": "[encoded data removed]",
      "text/plain": [
       "plot without title"
      ]
     },
     "metadata": {},
     "output_type": "display_data"
    },
    {
     "name": "stdout",
     "output_type": "stream",
     "text": [
      "               feature      AIC\n",
      "5                   pH 2927.203\n",
      "3 total.sulfur.dioxide 2927.945\n",
      "4              density 2928.333\n",
      "2            chlorides 2929.086\n",
      "1          citric.acid 2929.315\n",
      "\n",
      "current model is  \"quality ~ 1  + alcohol + volatile.acidity + residual.sugar + fixed.acidity + sulphates + free.sulfur.dioxide + pH\"\n",
      "current AIC is  2927.203 \n"
     ]
    },
    {
     "data": {
      "image/png": "[encoded data removed]",
      "text/plain": [
       "plot without title"
      ]
     },
     "metadata": {},
     "output_type": "display_data"
    },
    {
     "name": "stdout",
     "output_type": "stream",
     "text": [
      "               feature      AIC\n",
      "4              density 2922.933\n",
      "3 total.sulfur.dioxide 2927.010\n",
      "1          citric.acid 2928.759\n",
      "2            chlorides 2928.845\n",
      "\n",
      "current model is  \"quality ~ 1  + alcohol + volatile.acidity + residual.sugar + fixed.acidity + sulphates + free.sulfur.dioxide + pH + density\"\n",
      "current AIC is  2922.933 \n"
     ]
    },
    {
     "data": {
      "image/png": "[encoded data removed]",
      "text/plain": [
       "plot without title"
      ]
     },
     "metadata": {},
     "output_type": "display_data"
    },
    {
     "name": "stdout",
     "output_type": "stream",
     "text": [
      "               feature      AIC\n",
      "3 total.sulfur.dioxide 2923.713\n",
      "1          citric.acid 2924.130\n",
      "2            chlorides 2924.859\n",
      "\n",
      "current model is  \"quality ~ 1  + alcohol + volatile.acidity + residual.sugar + fixed.acidity + sulphates + free.sulfur.dioxide + pH + density + total.sulfur.dioxide\"\n",
      "current AIC is  2923.713 \n"
     ]
    },
    {
     "data": {
      "image/png": "[encoded data removed]",
      "text/plain": [
       "plot without title"
      ]
     },
     "metadata": {},
     "output_type": "display_data"
    },
    {
     "name": "stdout",
     "output_type": "stream",
     "text": [
      "      feature      AIC\n",
      "1 citric.acid 2924.854\n",
      "2   chlorides 2925.631\n",
      "\n",
      "current model is  \"quality ~ 1  + alcohol + volatile.acidity + residual.sugar + fixed.acidity + sulphates + free.sulfur.dioxide + pH + density + total.sulfur.dioxide + citric.acid\"\n",
      "current AIC is  2924.854 \n"
     ]
    },
    {
     "data": {
      "image/png": "[encoded data removed]",
      "text/plain": [
       "plot without title"
      ]
     },
     "metadata": {},
     "output_type": "display_data"
    },
    {
     "name": "stdout",
     "output_type": "stream",
     "text": [
      "    feature      AIC\n",
      "1 chlorides 2926.739\n",
      "\n",
      "current model is  \"quality ~ 1  + alcohol + volatile.acidity + residual.sugar + fixed.acidity + sulphates + free.sulfur.dioxide + pH + density + total.sulfur.dioxide + citric.acid + chlorides\"\n",
      "current AIC is  2926.739 \n"
     ]
    },
    {
     "data": {
      "image/png": "[encoded data removed]",
      "text/plain": [
       "plot without title"
      ]
     },
     "metadata": {},
     "output_type": "display_data"
    }
   ],
   "source": [
    "# set plot size for bar chats\n",
    "options(repr.plot.width=5, repr.plot.height=4)\n",
    "# build models using AIC as scoring measure\n",
    "aic <- aicMeasure(train, 'quality', 10)"
   ]
  },
  {
   "cell_type": "markdown",
   "metadata": {},
   "source": [
    "### Model using BIC\n",
    "The following model calls the bicMeasure function with the train data, sets 'quality' as the target variable and uses k = 10 for the cross validation (10 folds will be created with a train and test set for each fold). It will print out a bar chart showing the BIC score for each model with each remaining feature added before adding the one that decreases BIC the most."
   ]
  },
  {
   "cell_type": "code",
   "execution_count": 27,
   "metadata": {
    "collapsed": false,
    "scrolled": false
   },
   "outputs": [
    {
     "name": "stdout",
     "output_type": "stream",
     "text": [
      "\n",
      "current model is  \"quality ~ 1 \"\n",
      "current BIC is  3782.51 \n",
      "                feature      BIC\n",
      "11              alcohol 3222.029\n",
      "8               density 3523.604\n",
      "2      volatile.acidity 3630.146\n",
      "5             chlorides 3669.411\n",
      "7  total.sulfur.dioxide 3693.668\n",
      "4        residual.sugar 3753.674\n",
      "9                    pH 3755.596\n",
      "1         fixed.acidity 3759.563\n",
      "10            sulphates 3778.559\n",
      "6   free.sulfur.dioxide 3790.216\n",
      "3           citric.acid 3790.447\n",
      "\n",
      "current model is  \"quality ~ 1  + alcohol\"\n",
      "current BIC is  3222.029 \n"
     ]
    },
    {
     "data": {
      "image/png": "[encoded data removed]",
      "text/plain": [
       "plot without title"
      ]
     },
     "metadata": {},
     "output_type": "display_data"
    },
    {
     "name": "stdout",
     "output_type": "stream",
     "text": [
      "                feature      BIC\n",
      "2      volatile.acidity 3026.106\n",
      "6   free.sulfur.dioxide 3190.087\n",
      "4        residual.sugar 3207.433\n",
      "10            sulphates 3212.467\n",
      "1         fixed.acidity 3215.713\n",
      "9                    pH 3216.742\n",
      "8               density 3222.384\n",
      "5             chlorides 3222.900\n",
      "3           citric.acid 3225.102\n",
      "7  total.sulfur.dioxide 3229.024\n",
      "\n",
      "current model is  \"quality ~ 1  + alcohol + volatile.acidity\"\n",
      "current BIC is  3026.106 \n"
     ]
    },
    {
     "data": {
      "image/png": "[encoded data removed]",
      "text/plain": [
       "plot without title"
      ]
     },
     "metadata": {},
     "output_type": "display_data"
    },
    {
     "name": "stdout",
     "output_type": "stream",
     "text": [
      "               feature      BIC\n",
      "3       residual.sugar 2994.764\n",
      "5  free.sulfur.dioxide 3006.740\n",
      "7              density 3014.442\n",
      "1        fixed.acidity 3014.517\n",
      "9            sulphates 3017.369\n",
      "6 total.sulfur.dioxide 3024.581\n",
      "8                   pH 3025.068\n",
      "4            chlorides 3032.486\n",
      "2          citric.acid 3034.023\n",
      "\n",
      "current model is  \"quality ~ 1  + alcohol + volatile.acidity + residual.sugar\"\n",
      "current BIC is  2994.764 \n"
     ]
    },
    {
     "data": {
      "image/png": "[encoded data removed]",
      "text/plain": [
       "plot without title"
      ]
     },
     "metadata": {},
     "output_type": "display_data"
    },
    {
     "name": "stdout",
     "output_type": "stream",
     "text": [
      "               feature      BIC\n",
      "1        fixed.acidity 2980.299\n",
      "8            sulphates 2985.883\n",
      "7                   pH 2987.329\n",
      "4  free.sulfur.dioxide 2988.480\n",
      "6              density 2998.054\n",
      "5 total.sulfur.dioxide 3000.130\n",
      "2          citric.acid 3002.430\n",
      "3            chlorides 3002.505\n",
      "\n",
      "current model is  \"quality ~ 1  + alcohol + volatile.acidity + residual.sugar + fixed.acidity\"\n",
      "current BIC is  2980.299 \n"
     ]
    },
    {
     "data": {
      "image/png": "[encoded data removed]",
      "text/plain": [
       "plot without title"
      ]
     },
     "metadata": {},
     "output_type": "display_data"
    },
    {
     "name": "stdout",
     "output_type": "stream",
     "text": [
      "               feature      BIC\n",
      "7            sulphates 2971.300\n",
      "3  free.sulfur.dioxide 2977.685\n",
      "6                   pH 2983.365\n",
      "4 total.sulfur.dioxide 2985.555\n",
      "1          citric.acid 2987.451\n",
      "2            chlorides 2987.905\n",
      "5              density 2988.185\n",
      "\n",
      "current model is  \"quality ~ 1  + alcohol + volatile.acidity + residual.sugar + fixed.acidity + sulphates\"\n",
      "current BIC is  2971.3 \n"
     ]
    },
    {
     "data": {
      "image/png": "[encoded data removed]",
      "text/plain": [
       "plot without title"
      ]
     },
     "metadata": {},
     "output_type": "display_data"
    },
    {
     "name": "stdout",
     "output_type": "stream",
     "text": [
      "               feature      BIC\n",
      "3  free.sulfur.dioxide 2969.474\n",
      "6                   pH 2976.835\n",
      "5              density 2977.845\n",
      "4 total.sulfur.dioxide 2978.340\n",
      "1          citric.acid 2978.862\n",
      "2            chlorides 2978.928\n",
      "\n",
      "current model is  \"quality ~ 1  + alcohol + volatile.acidity + residual.sugar + fixed.acidity + sulphates + free.sulfur.dioxide\"\n",
      "current BIC is  2969.474 \n"
     ]
    },
    {
     "data": {
      "image/png": "[encoded data removed]",
      "text/plain": [
       "plot without title"
      ]
     },
     "metadata": {},
     "output_type": "display_data"
    },
    {
     "name": "stdout",
     "output_type": "stream",
     "text": [
      "               feature      BIC\n",
      "5                   pH 2974.977\n",
      "3 total.sulfur.dioxide 2975.841\n",
      "4              density 2976.243\n",
      "2            chlorides 2976.912\n",
      "1          citric.acid 2977.225\n",
      "\n",
      "current model is  \"quality ~ 1  + alcohol + volatile.acidity + residual.sugar + fixed.acidity + sulphates + free.sulfur.dioxide + pH\"\n",
      "current BIC is  2974.977 \n"
     ]
    },
    {
     "data": {
      "image/png": "[encoded data removed]",
      "text/plain": [
       "plot without title"
      ]
     },
     "metadata": {},
     "output_type": "display_data"
    },
    {
     "name": "stdout",
     "output_type": "stream",
     "text": [
      "               feature      BIC\n",
      "4              density 2976.842\n",
      "3 total.sulfur.dioxide 2980.787\n",
      "2            chlorides 2982.563\n",
      "1          citric.acid 2982.576\n",
      "\n",
      "current model is  \"quality ~ 1  + alcohol + volatile.acidity + residual.sugar + fixed.acidity + sulphates + free.sulfur.dioxide + pH + density\"\n",
      "current BIC is  2976.842 \n"
     ]
    },
    {
     "data": {
      "image/png": "[encoded data removed]",
      "text/plain": [
       "plot without title"
      ]
     },
     "metadata": {},
     "output_type": "display_data"
    },
    {
     "name": "stdout",
     "output_type": "stream",
     "text": [
      "               feature      BIC\n",
      "3 total.sulfur.dioxide 2983.609\n",
      "1          citric.acid 2984.080\n",
      "2            chlorides 2984.742\n",
      "\n",
      "current model is  \"quality ~ 1  + alcohol + volatile.acidity + residual.sugar + fixed.acidity + sulphates + free.sulfur.dioxide + pH + density + total.sulfur.dioxide\"\n",
      "current BIC is  2983.609 \n"
     ]
    },
    {
     "data": {
      "image/png": "[encoded data removed]",
      "text/plain": [
       "plot without title"
      ]
     },
     "metadata": {},
     "output_type": "display_data"
    },
    {
     "name": "stdout",
     "output_type": "stream",
     "text": [
      "      feature      BIC\n",
      "1 citric.acid 2990.793\n",
      "2   chlorides 2991.503\n",
      "\n",
      "current model is  \"quality ~ 1  + alcohol + volatile.acidity + residual.sugar + fixed.acidity + sulphates + free.sulfur.dioxide + pH + density + total.sulfur.dioxide + citric.acid\"\n",
      "current BIC is  2990.793 \n"
     ]
    },
    {
     "data": {
      "image/png": "[encoded data removed]",
      "text/plain": [
       "plot without title"
      ]
     },
     "metadata": {},
     "output_type": "display_data"
    },
    {
     "name": "stdout",
     "output_type": "stream",
     "text": [
      "    feature      BIC\n",
      "1 chlorides 2998.646\n",
      "\n",
      "current model is  \"quality ~ 1  + alcohol + volatile.acidity + residual.sugar + fixed.acidity + sulphates + free.sulfur.dioxide + pH + density + total.sulfur.dioxide + citric.acid + chlorides\"\n",
      "current BIC is  2998.646 \n"
     ]
    },
    {
     "data": {
      "image/png": "[encoded data removed]",
      "text/plain": [
       "plot without title"
      ]
     },
     "metadata": {},
     "output_type": "display_data"
    }
   ],
   "source": [
    "# build model using BIC as scoring measure\n",
    "bic <- bicMeasure(train, 'quality', 10)"
   ]
  },
  {
   "cell_type": "markdown",
   "metadata": {},
   "source": [
    "### Model using F-Measure\n",
    "The following model calls the fmMeasure function with the train data, sets 'quality' as the target variable and uses k = 10 for the cross validation (10 folds will be created with a train and test set for each fold). It will print out a bar chart showing the F-Measure score for each model with each remaining feature added before adding the one that increases the F-Measure the most."
   ]
  },
  {
   "cell_type": "code",
   "execution_count": 28,
   "metadata": {
    "collapsed": false,
    "scrolled": false
   },
   "outputs": [
    {
     "name": "stdout",
     "output_type": "stream",
     "text": [
      "\n",
      "current model is  \"quality ~ 1 \"\n",
      "current F-Measure is  0.7973103 \n",
      "                feature  fMeasure\n",
      "5             chlorides 0.7989061\n",
      "1         fixed.acidity 0.7978800\n",
      "3           citric.acid 0.7973103\n",
      "6   free.sulfur.dioxide 0.7973103\n",
      "10            sulphates 0.7973103\n",
      "9                    pH 0.7970884\n",
      "4        residual.sugar 0.7955204\n",
      "11              alcohol 0.7949129\n",
      "7  total.sulfur.dioxide 0.7929553\n",
      "2      volatile.acidity 0.7922352\n",
      "8               density 0.7789848\n",
      "\n",
      "current model is  \"quality ~ 1  + chlorides\"\n",
      "current F-Measure is  0.7989061 \n"
     ]
    },
    {
     "data": {
      "image/png": "[encoded data removed]",
      "text/plain": [
       "plot without title"
      ]
     },
     "metadata": {},
     "output_type": "display_data"
    },
    {
     "name": "stdout",
     "output_type": "stream",
     "text": [
      "                feature  fMeasure\n",
      "1         fixed.acidity 0.7996133\n",
      "5   free.sulfur.dioxide 0.7983789\n",
      "3           citric.acid 0.7982982\n",
      "2      volatile.acidity 0.7978292\n",
      "9             sulphates 0.7977776\n",
      "6  total.sulfur.dioxide 0.7976977\n",
      "4        residual.sugar 0.7975803\n",
      "8                    pH 0.7974261\n",
      "10              alcohol 0.7969280\n",
      "7               density 0.7835553\n",
      "\n",
      "current model is  \"quality ~ 1  + chlorides + fixed.acidity\"\n",
      "current F-Measure is  0.7996133 \n"
     ]
    },
    {
     "data": {
      "image/png": "[encoded data removed]",
      "text/plain": [
       "plot without title"
      ]
     },
     "metadata": {},
     "output_type": "display_data"
    },
    {
     "name": "stdout",
     "output_type": "stream",
     "text": [
      "               feature  fMeasure\n",
      "1     volatile.acidity 0.8014735\n",
      "4  free.sulfur.dioxide 0.7994734\n",
      "2          citric.acid 0.7990948\n",
      "7                   pH 0.7989358\n",
      "8            sulphates 0.7985971\n",
      "9              alcohol 0.7967585\n",
      "3       residual.sugar 0.7958992\n",
      "5 total.sulfur.dioxide 0.7928950\n",
      "6              density 0.7838132\n",
      "\n",
      "current model is  \"quality ~ 1  + chlorides + fixed.acidity + volatile.acidity\"\n",
      "current F-Measure is  0.8014735 \n"
     ]
    },
    {
     "data": {
      "image/png": "[encoded data removed]",
      "text/plain": [
       "plot without title"
      ]
     },
     "metadata": {},
     "output_type": "display_data"
    },
    {
     "name": "stdout",
     "output_type": "stream",
     "text": [
      "               feature  fMeasure\n",
      "8              alcohol 0.8180259\n",
      "6                   pH 0.8028710\n",
      "2       residual.sugar 0.8017687\n",
      "4 total.sulfur.dioxide 0.8012569\n",
      "3  free.sulfur.dioxide 0.8007852\n",
      "1          citric.acid 0.8006710\n",
      "7            sulphates 0.7984719\n",
      "5              density 0.7960775\n",
      "\n",
      "current model is  \"quality ~ 1  + chlorides + fixed.acidity + volatile.acidity + alcohol\"\n",
      "current F-Measure is  0.8180259 \n"
     ]
    },
    {
     "data": {
      "image/png": "[encoded data removed]",
      "text/plain": [
       "plot without title"
      ]
     },
     "metadata": {},
     "output_type": "display_data"
    },
    {
     "name": "stdout",
     "output_type": "stream",
     "text": [
      "               feature  fMeasure\n",
      "2       residual.sugar 0.8302806\n",
      "5              density 0.8273302\n",
      "3  free.sulfur.dioxide 0.8207227\n",
      "7            sulphates 0.8186352\n",
      "6                   pH 0.8180942\n",
      "1          citric.acid 0.8178347\n",
      "4 total.sulfur.dioxide 0.8155798\n",
      "\n",
      "current model is  \"quality ~ 1  + chlorides + fixed.acidity + volatile.acidity + alcohol + residual.sugar\"\n",
      "current F-Measure is  0.8302806 \n"
     ]
    },
    {
     "data": {
      "image/png": "[encoded data removed]",
      "text/plain": [
       "plot without title"
      ]
     },
     "metadata": {},
     "output_type": "display_data"
    },
    {
     "name": "stdout",
     "output_type": "stream",
     "text": [
      "               feature  fMeasure\n",
      "1          citric.acid 0.8304090\n",
      "3 total.sulfur.dioxide 0.8303618\n",
      "4              density 0.8300979\n",
      "2  free.sulfur.dioxide 0.8286979\n",
      "5                   pH 0.8271399\n",
      "6            sulphates 0.8265235\n",
      "\n",
      "current model is  \"quality ~ 1  + chlorides + fixed.acidity + volatile.acidity + alcohol + residual.sugar + citric.acid\"\n",
      "current F-Measure is  0.830409 \n"
     ]
    },
    {
     "data": {
      "image/png": "[encoded data removed]",
      "text/plain": [
       "plot without title"
      ]
     },
     "metadata": {},
     "output_type": "display_data"
    },
    {
     "name": "stdout",
     "output_type": "stream",
     "text": [
      "               feature  fMeasure\n",
      "3              density 0.8299763\n",
      "4                   pH 0.8292073\n",
      "2 total.sulfur.dioxide 0.8288440\n",
      "1  free.sulfur.dioxide 0.8278392\n",
      "5            sulphates 0.8273726\n",
      "\n",
      "current model is  \"quality ~ 1  + chlorides + fixed.acidity + volatile.acidity + alcohol + residual.sugar + citric.acid + density\"\n",
      "current F-Measure is  0.8299763 \n"
     ]
    },
    {
     "data": {
      "image/png": "[encoded data removed]",
      "text/plain": [
       "plot without title"
      ]
     },
     "metadata": {},
     "output_type": "display_data"
    },
    {
     "name": "stdout",
     "output_type": "stream",
     "text": [
      "               feature  fMeasure\n",
      "2 total.sulfur.dioxide 0.8295060\n",
      "1  free.sulfur.dioxide 0.8279433\n",
      "3                   pH 0.8275667\n",
      "4            sulphates 0.8255979\n",
      "\n",
      "current model is  \"quality ~ 1  + chlorides + fixed.acidity + volatile.acidity + alcohol + residual.sugar + citric.acid + density + total.sulfur.dioxide\"\n",
      "current F-Measure is  0.829506 \n"
     ]
    },
    {
     "data": {
      "image/png": "[encoded data removed]",
      "text/plain": [
       "plot without title"
      ]
     },
     "metadata": {},
     "output_type": "display_data"
    },
    {
     "name": "stdout",
     "output_type": "stream",
     "text": [
      "              feature  fMeasure\n",
      "1 free.sulfur.dioxide 0.8269984\n",
      "2                  pH 0.8256709\n",
      "3           sulphates 0.8254395\n",
      "\n",
      "current model is  \"quality ~ 1  + chlorides + fixed.acidity + volatile.acidity + alcohol + residual.sugar + citric.acid + density + total.sulfur.dioxide + free.sulfur.dioxide\"\n",
      "current F-Measure is  0.8269984 \n"
     ]
    },
    {
     "data": {
      "image/png": "[encoded data removed]",
      "text/plain": [
       "plot without title"
      ]
     },
     "metadata": {},
     "output_type": "display_data"
    },
    {
     "name": "stdout",
     "output_type": "stream",
     "text": [
      "    feature  fMeasure\n",
      "1        pH 0.8266522\n",
      "2 sulphates 0.8258045\n",
      "\n",
      "current model is  \"quality ~ 1  + chlorides + fixed.acidity + volatile.acidity + alcohol + residual.sugar + citric.acid + density + total.sulfur.dioxide + free.sulfur.dioxide + pH\"\n",
      "current F-Measure is  0.8266522 \n"
     ]
    },
    {
     "data": {
      "image/png": "[encoded data removed]",
      "text/plain": [
       "plot without title"
      ]
     },
     "metadata": {},
     "output_type": "display_data"
    },
    {
     "name": "stdout",
     "output_type": "stream",
     "text": [
      "    feature  fMeasure\n",
      "1 sulphates 0.8280169\n",
      "\n",
      "current model is  \"quality ~ 1  + chlorides + fixed.acidity + volatile.acidity + alcohol + residual.sugar + citric.acid + density + total.sulfur.dioxide + free.sulfur.dioxide + pH + sulphates\"\n",
      "current F-Measure is  0.8280169 \n"
     ]
    },
    {
     "data": {
      "image/png": "[encoded data removed]",
      "text/plain": [
       "plot without title"
      ]
     },
     "metadata": {},
     "output_type": "display_data"
    }
   ],
   "source": [
    "fm <- fmMeasure(train, 'quality', 10)"
   ]
  },
  {
   "cell_type": "code",
   "execution_count": 29,
   "metadata": {
    "collapsed": false,
    "scrolled": false
   },
   "outputs": [
    {
     "data": {
      "text/html": [
       "<table>\n",
       "<thead><tr><th scope=col>feature_count</th><th scope=col>model</th><th scope=col>AUC</th></tr></thead>\n",
       "<tbody>\n",
       "\t<tr><td> 0                                                                                                                                                                            </td><td>\"quality ~ 1 \"                                                                                                                                                                </td><td>0.5000000                                                                                                                                                                     </td></tr>\n",
       "\t<tr><td> 1                                                                                                                                                                            </td><td>\"quality ~ 1  + alcohol\"                                                                                                                                                      </td><td>0.7546103                                                                                                                                                                     </td></tr>\n",
       "\t<tr><td> 2                                                                                                                                                                            </td><td>\"quality ~ 1  + alcohol + volatile.acidity\"                                                                                                                                   </td><td>0.7951620                                                                                                                                                                     </td></tr>\n",
       "\t<tr><td> 3                                                                                                                                                                            </td><td>\"quality ~ 1  + alcohol + volatile.acidity + residual.sugar\"                                                                                                                  </td><td>0.8022316                                                                                                                                                                     </td></tr>\n",
       "\t<tr><td> 4                                                                                                                                                                            </td><td>\"quality ~ 1  + alcohol + volatile.acidity + residual.sugar + fixed.acidity\"                                                                                                  </td><td>0.8059836                                                                                                                                                                     </td></tr>\n",
       "\t<tr><td> 5                                                                                                                                                                            </td><td>\"quality ~ 1  + alcohol + volatile.acidity + residual.sugar + fixed.acidity + sulphates\"                                                                                      </td><td>0.8080022                                                                                                                                                                     </td></tr>\n",
       "\t<tr><td> 6                                                                                                                                                                            </td><td>\"quality ~ 1  + alcohol + volatile.acidity + residual.sugar + fixed.acidity + sulphates + free.sulfur.dioxide\"                                                                </td><td>0.8095632                                                                                                                                                                     </td></tr>\n",
       "\t<tr><td> 7                                                                                                                                                                            </td><td>\"quality ~ 1  + alcohol + volatile.acidity + residual.sugar + fixed.acidity + sulphates + free.sulfur.dioxide + total.sulfur.dioxide\"                                         </td><td>0.8098996                                                                                                                                                                     </td></tr>\n",
       "\t<tr><td> 8                                                                                                                                                                            </td><td>\"quality ~ 1  + alcohol + volatile.acidity + residual.sugar + fixed.acidity + sulphates + free.sulfur.dioxide + total.sulfur.dioxide + pH\"                                    </td><td>0.8098577                                                                                                                                                                     </td></tr>\n",
       "\t<tr><td> 9                                                                                                                                                                            </td><td>\"quality ~ 1  + alcohol + volatile.acidity + residual.sugar + fixed.acidity + sulphates + free.sulfur.dioxide + total.sulfur.dioxide + pH + density\"                          </td><td>0.8106478                                                                                                                                                                     </td></tr>\n",
       "\t<tr><td>11                                                                                                                                                                            </td><td>\"quality ~ 1  + alcohol + volatile.acidity + residual.sugar + fixed.acidity + sulphates + free.sulfur.dioxide + total.sulfur.dioxide + pH + density + citric.acid + chlorides\"</td><td>0.8102334                                                                                                                                                                     </td></tr>\n",
       "</tbody>\n",
       "</table>\n"
      ],
      "text/latex": [
       "\\begin{tabular}{r|lll}\n",
       " feature\\_count & model & AUC\\\\\n",
       "\\hline\n",
       "\t  0                                                                                                                                                                                              & \"quality \\textasciitilde{} 1 \"                                                                                                                                                                 & 0.5000000                                                                                                                                                                                      \\\\\n",
       "\t  1                                                                                                                                                                                              & \"quality \\textasciitilde{} 1  + alcohol\"                                                                                                                                                       & 0.7546103                                                                                                                                                                                      \\\\\n",
       "\t  2                                                                                                                                                                                              & \"quality \\textasciitilde{} 1  + alcohol + volatile.acidity\"                                                                                                                                    & 0.7951620                                                                                                                                                                                      \\\\\n",
       "\t  3                                                                                                                                                                                              & \"quality \\textasciitilde{} 1  + alcohol + volatile.acidity + residual.sugar\"                                                                                                                   & 0.8022316                                                                                                                                                                                      \\\\\n",
       "\t  4                                                                                                                                                                                              & \"quality \\textasciitilde{} 1  + alcohol + volatile.acidity + residual.sugar + fixed.acidity\"                                                                                                   & 0.8059836                                                                                                                                                                                      \\\\\n",
       "\t  5                                                                                                                                                                                              & \"quality \\textasciitilde{} 1  + alcohol + volatile.acidity + residual.sugar + fixed.acidity + sulphates\"                                                                                       & 0.8080022                                                                                                                                                                                      \\\\\n",
       "\t  6                                                                                                                                                                                              & \"quality \\textasciitilde{} 1  + alcohol + volatile.acidity + residual.sugar + fixed.acidity + sulphates + free.sulfur.dioxide\"                                                                 & 0.8095632                                                                                                                                                                                      \\\\\n",
       "\t  7                                                                                                                                                                                              & \"quality \\textasciitilde{} 1  + alcohol + volatile.acidity + residual.sugar + fixed.acidity + sulphates + free.sulfur.dioxide + total.sulfur.dioxide\"                                          & 0.8098996                                                                                                                                                                                      \\\\\n",
       "\t  8                                                                                                                                                                                              & \"quality \\textasciitilde{} 1  + alcohol + volatile.acidity + residual.sugar + fixed.acidity + sulphates + free.sulfur.dioxide + total.sulfur.dioxide + pH\"                                     & 0.8098577                                                                                                                                                                                      \\\\\n",
       "\t  9                                                                                                                                                                                              & \"quality \\textasciitilde{} 1  + alcohol + volatile.acidity + residual.sugar + fixed.acidity + sulphates + free.sulfur.dioxide + total.sulfur.dioxide + pH + density\"                           & 0.8106478                                                                                                                                                                                      \\\\\n",
       "\t 11                                                                                                                                                                                              & \"quality \\textasciitilde{} 1  + alcohol + volatile.acidity + residual.sugar + fixed.acidity + sulphates + free.sulfur.dioxide + total.sulfur.dioxide + pH + density + citric.acid + chlorides\" & 0.8102334                                                                                                                                                                                      \\\\\n",
       "\\end{tabular}\n"
      ],
      "text/markdown": [
       "\n",
       "feature_count | model | AUC | \n",
       "|---|---|---|---|---|---|---|---|---|---|---|\n",
       "|  0                                                                                                                                                                             | \"quality ~ 1 \"                                                                                                                                                                 | 0.5000000                                                                                                                                                                      | \n",
       "|  1                                                                                                                                                                             | \"quality ~ 1  + alcohol\"                                                                                                                                                       | 0.7546103                                                                                                                                                                      | \n",
       "|  2                                                                                                                                                                             | \"quality ~ 1  + alcohol + volatile.acidity\"                                                                                                                                    | 0.7951620                                                                                                                                                                      | \n",
       "|  3                                                                                                                                                                             | \"quality ~ 1  + alcohol + volatile.acidity + residual.sugar\"                                                                                                                   | 0.8022316                                                                                                                                                                      | \n",
       "|  4                                                                                                                                                                             | \"quality ~ 1  + alcohol + volatile.acidity + residual.sugar + fixed.acidity\"                                                                                                   | 0.8059836                                                                                                                                                                      | \n",
       "|  5                                                                                                                                                                             | \"quality ~ 1  + alcohol + volatile.acidity + residual.sugar + fixed.acidity + sulphates\"                                                                                       | 0.8080022                                                                                                                                                                      | \n",
       "|  6                                                                                                                                                                             | \"quality ~ 1  + alcohol + volatile.acidity + residual.sugar + fixed.acidity + sulphates + free.sulfur.dioxide\"                                                                 | 0.8095632                                                                                                                                                                      | \n",
       "|  7                                                                                                                                                                             | \"quality ~ 1  + alcohol + volatile.acidity + residual.sugar + fixed.acidity + sulphates + free.sulfur.dioxide + total.sulfur.dioxide\"                                          | 0.8098996                                                                                                                                                                      | \n",
       "|  8                                                                                                                                                                             | \"quality ~ 1  + alcohol + volatile.acidity + residual.sugar + fixed.acidity + sulphates + free.sulfur.dioxide + total.sulfur.dioxide + pH\"                                     | 0.8098577                                                                                                                                                                      | \n",
       "|  9                                                                                                                                                                             | \"quality ~ 1  + alcohol + volatile.acidity + residual.sugar + fixed.acidity + sulphates + free.sulfur.dioxide + total.sulfur.dioxide + pH + density\"                           | 0.8106478                                                                                                                                                                      | \n",
       "| 11                                                                                                                                                                             | \"quality ~ 1  + alcohol + volatile.acidity + residual.sugar + fixed.acidity + sulphates + free.sulfur.dioxide + total.sulfur.dioxide + pH + density + citric.acid + chlorides\" | 0.8102334                                                                                                                                                                      | \n",
       "\n",
       "\n"
      ],
      "text/plain": [
       "   feature_count\n",
       "1   0           \n",
       "2   1           \n",
       "3   2           \n",
       "4   3           \n",
       "5   4           \n",
       "6   5           \n",
       "7   6           \n",
       "8   7           \n",
       "9   8           \n",
       "10  9           \n",
       "11 11           \n",
       "   model                                                                                                                                                                         \n",
       "1  \"quality ~ 1 \"                                                                                                                                                                \n",
       "2  \"quality ~ 1  + alcohol\"                                                                                                                                                      \n",
       "3  \"quality ~ 1  + alcohol + volatile.acidity\"                                                                                                                                   \n",
       "4  \"quality ~ 1  + alcohol + volatile.acidity + residual.sugar\"                                                                                                                  \n",
       "5  \"quality ~ 1  + alcohol + volatile.acidity + residual.sugar + fixed.acidity\"                                                                                                  \n",
       "6  \"quality ~ 1  + alcohol + volatile.acidity + residual.sugar + fixed.acidity + sulphates\"                                                                                      \n",
       "7  \"quality ~ 1  + alcohol + volatile.acidity + residual.sugar + fixed.acidity + sulphates + free.sulfur.dioxide\"                                                                \n",
       "8  \"quality ~ 1  + alcohol + volatile.acidity + residual.sugar + fixed.acidity + sulphates + free.sulfur.dioxide + total.sulfur.dioxide\"                                         \n",
       "9  \"quality ~ 1  + alcohol + volatile.acidity + residual.sugar + fixed.acidity + sulphates + free.sulfur.dioxide + total.sulfur.dioxide + pH\"                                    \n",
       "10 \"quality ~ 1  + alcohol + volatile.acidity + residual.sugar + fixed.acidity + sulphates + free.sulfur.dioxide + total.sulfur.dioxide + pH + density\"                          \n",
       "11 \"quality ~ 1  + alcohol + volatile.acidity + residual.sugar + fixed.acidity + sulphates + free.sulfur.dioxide + total.sulfur.dioxide + pH + density + citric.acid + chlorides\"\n",
       "   AUC      \n",
       "1  0.5000000\n",
       "2  0.7546103\n",
       "3  0.7951620\n",
       "4  0.8022316\n",
       "5  0.8059836\n",
       "6  0.8080022\n",
       "7  0.8095632\n",
       "8  0.8098996\n",
       "9  0.8098577\n",
       "10 0.8106478\n",
       "11 0.8102334"
      ]
     },
     "metadata": {},
     "output_type": "display_data"
    },
    {
     "data": {
      "text/html": [
       "<span style=white-space:pre-wrap>'\"quality ~ 1  + alcohol + volatile.acidity + residual.sugar + fixed.acidity + sulphates + free.sulfur.dioxide + total.sulfur.dioxide + pH + density\"'</span>"
      ],
      "text/latex": [
       "'\"quality \\textasciitilde{} 1  + alcohol + volatile.acidity + residual.sugar + fixed.acidity + sulphates + free.sulfur.dioxide + total.sulfur.dioxide + pH + density\"'"
      ],
      "text/markdown": [
       "<span style=white-space:pre-wrap>'\"quality ~ 1  + alcohol + volatile.acidity + residual.sugar + fixed.acidity + sulphates + free.sulfur.dioxide + total.sulfur.dioxide + pH + density\"'</span>"
      ],
      "text/plain": [
       "[1] \"\\\"quality ~ 1  + alcohol + volatile.acidity + residual.sugar + fixed.acidity + sulphates + free.sulfur.dioxide + total.sulfur.dioxide + pH + density\\\"\""
      ]
     },
     "metadata": {},
     "output_type": "display_data"
    },
    {
     "data": {
      "text/html": [
       "<table>\n",
       "<thead><tr><th scope=col>fixed.acidity</th><th scope=col>volatile.acidity</th><th scope=col>citric.acid</th><th scope=col>residual.sugar</th><th scope=col>chlorides</th><th scope=col>free.sulfur.dioxide</th><th scope=col>total.sulfur.dioxide</th><th scope=col>density</th><th scope=col>pH</th><th scope=col>sulphates</th><th scope=col>alcohol</th><th scope=col>quality</th></tr></thead>\n",
       "<tbody>\n",
       "\t<tr><td>7.0   </td><td>0.27  </td><td>0.36  </td><td>20.70 </td><td>0.045 </td><td>45    </td><td>170   </td><td>1.0010</td><td>3.00  </td><td>0.45  </td><td> 8.8  </td><td>1     </td></tr>\n",
       "\t<tr><td>6.3   </td><td>0.30  </td><td>0.34  </td><td> 1.60 </td><td>0.049 </td><td>14    </td><td>132   </td><td>0.9940</td><td>3.30  </td><td>0.49  </td><td> 9.5  </td><td>1     </td></tr>\n",
       "\t<tr><td>7.2   </td><td>0.23  </td><td>0.32  </td><td> 8.50 </td><td>0.058 </td><td>47    </td><td>186   </td><td>0.9956</td><td>3.19  </td><td>0.40  </td><td> 9.9  </td><td>1     </td></tr>\n",
       "\t<tr><td>8.1   </td><td>0.28  </td><td>0.40  </td><td> 6.90 </td><td>0.050 </td><td>30    </td><td> 97   </td><td>0.9951</td><td>3.26  </td><td>0.44  </td><td>10.1  </td><td>1     </td></tr>\n",
       "\t<tr><td>6.2   </td><td>0.32  </td><td>0.16  </td><td> 7.00 </td><td>0.045 </td><td>30    </td><td>136   </td><td>0.9949</td><td>3.18  </td><td>0.47  </td><td> 9.6  </td><td>1     </td></tr>\n",
       "\t<tr><td>8.1   </td><td>0.27  </td><td>0.41  </td><td> 1.45 </td><td>0.033 </td><td>11    </td><td> 63   </td><td>0.9908</td><td>2.99  </td><td>0.56  </td><td>12.0  </td><td>0     </td></tr>\n",
       "</tbody>\n",
       "</table>\n"
      ],
      "text/latex": [
       "\\begin{tabular}{r|llllllllllll}\n",
       " fixed.acidity & volatile.acidity & citric.acid & residual.sugar & chlorides & free.sulfur.dioxide & total.sulfur.dioxide & density & pH & sulphates & alcohol & quality\\\\\n",
       "\\hline\n",
       "\t 7.0    & 0.27   & 0.36   & 20.70  & 0.045  & 45     & 170    & 1.0010 & 3.00   & 0.45   &  8.8   & 1     \\\\\n",
       "\t 6.3    & 0.30   & 0.34   &  1.60  & 0.049  & 14     & 132    & 0.9940 & 3.30   & 0.49   &  9.5   & 1     \\\\\n",
       "\t 7.2    & 0.23   & 0.32   &  8.50  & 0.058  & 47     & 186    & 0.9956 & 3.19   & 0.40   &  9.9   & 1     \\\\\n",
       "\t 8.1    & 0.28   & 0.40   &  6.90  & 0.050  & 30     &  97    & 0.9951 & 3.26   & 0.44   & 10.1   & 1     \\\\\n",
       "\t 6.2    & 0.32   & 0.16   &  7.00  & 0.045  & 30     & 136    & 0.9949 & 3.18   & 0.47   &  9.6   & 1     \\\\\n",
       "\t 8.1    & 0.27   & 0.41   &  1.45  & 0.033  & 11     &  63    & 0.9908 & 2.99   & 0.56   & 12.0   & 0     \\\\\n",
       "\\end{tabular}\n"
      ],
      "text/markdown": [
       "\n",
       "fixed.acidity | volatile.acidity | citric.acid | residual.sugar | chlorides | free.sulfur.dioxide | total.sulfur.dioxide | density | pH | sulphates | alcohol | quality | \n",
       "|---|---|---|---|---|---|\n",
       "| 7.0    | 0.27   | 0.36   | 20.70  | 0.045  | 45     | 170    | 1.0010 | 3.00   | 0.45   |  8.8   | 1      | \n",
       "| 6.3    | 0.30   | 0.34   |  1.60  | 0.049  | 14     | 132    | 0.9940 | 3.30   | 0.49   |  9.5   | 1      | \n",
       "| 7.2    | 0.23   | 0.32   |  8.50  | 0.058  | 47     | 186    | 0.9956 | 3.19   | 0.40   |  9.9   | 1      | \n",
       "| 8.1    | 0.28   | 0.40   |  6.90  | 0.050  | 30     |  97    | 0.9951 | 3.26   | 0.44   | 10.1   | 1      | \n",
       "| 6.2    | 0.32   | 0.16   |  7.00  | 0.045  | 30     | 136    | 0.9949 | 3.18   | 0.47   |  9.6   | 1      | \n",
       "| 8.1    | 0.27   | 0.41   |  1.45  | 0.033  | 11     |  63    | 0.9908 | 2.99   | 0.56   | 12.0   | 0      | \n",
       "\n",
       "\n"
      ],
      "text/plain": [
       "  fixed.acidity volatile.acidity citric.acid residual.sugar chlorides\n",
       "1 7.0           0.27             0.36        20.70          0.045    \n",
       "2 6.3           0.30             0.34         1.60          0.049    \n",
       "3 7.2           0.23             0.32         8.50          0.058    \n",
       "4 8.1           0.28             0.40         6.90          0.050    \n",
       "5 6.2           0.32             0.16         7.00          0.045    \n",
       "6 8.1           0.27             0.41         1.45          0.033    \n",
       "  free.sulfur.dioxide total.sulfur.dioxide density pH   sulphates alcohol\n",
       "1 45                  170                  1.0010  3.00 0.45       8.8   \n",
       "2 14                  132                  0.9940  3.30 0.49       9.5   \n",
       "3 47                  186                  0.9956  3.19 0.40       9.9   \n",
       "4 30                   97                  0.9951  3.26 0.44      10.1   \n",
       "5 30                  136                  0.9949  3.18 0.47       9.6   \n",
       "6 11                   63                  0.9908  2.99 0.56      12.0   \n",
       "  quality\n",
       "1 1      \n",
       "2 1      \n",
       "3 1      \n",
       "4 1      \n",
       "5 1      \n",
       "6 0      "
      ]
     },
     "metadata": {},
     "output_type": "display_data"
    }
   ],
   "source": [
    "auc\n",
    "bestModel <- list()\n",
    "bestModel$auc <- auc[which.max(auc$AUC),]$model\n",
    "bestModel$auc\n",
    "head(train)"
   ]
  },
  {
   "cell_type": "code",
   "execution_count": 30,
   "metadata": {
    "collapsed": false,
    "scrolled": false
   },
   "outputs": [
    {
     "data": {},
     "metadata": {},
     "output_type": "display_data"
    },
    {
     "data": {
      "image/png": "[encoded data removed]",
      "text/plain": [
       "plot without title"
      ]
     },
     "metadata": {},
     "output_type": "display_data"
    }
   ],
   "source": [
    "ggplot(aes(x = feature_count, y = AUC), data = auc) + geom_line(size = 1, color = 'skyblue') + theme_minimal() + labs(x = \"No. of features in model\", y = \"Area under the Curve\")"
   ]
  },
  {
   "cell_type": "markdown",
   "metadata": {},
   "source": [
    "We can see that when using area under the curve as the selection method the features are added in the following order:<br>\n",
    "1) alcohol <br>\n",
    "2) volatile.acidity <br>\n",
    "3) residual.sugar <br>\n",
    "4) fixed.acidity <br>\n",
    "5) sulphates <br>\n",
    "6) free.sulfur.dioxide <br>\n",
    "7) total.sulfur.dioxide <br>\n",
    "8) citric.acid <br>\n",
    "9) pH <br>\n",
    "10) desnity<br>\n",
    "11) chlorides<br><br>\n",
    "As the features are added the AUC continues to climb until eight features are included in the model. The measure then drops off before climbing again and all features are added to the model. <br>\n",
    "<b>quality ~ 1  + alcohol + volatile.acidity + residual.sugar + fixed.acidity + sulphates + free.sulfur.dioxide + total.sulfur.dioxide + citric.acid + pH + density + chlorides</b>\n"
   ]
  },
  {
   "cell_type": "code",
   "execution_count": 31,
   "metadata": {
    "collapsed": false,
    "scrolled": false
   },
   "outputs": [
    {
     "data": {
      "text/html": [
       "<table>\n",
       "<thead><tr><th scope=col>feature_count</th><th scope=col>model</th><th scope=col>AIC</th></tr></thead>\n",
       "<tbody>\n",
       "\t<tr><td> 0                                                                                                                                                                            </td><td>\"quality ~ 1 \"                                                                                                                                                                </td><td>3776.458                                                                                                                                                                      </td></tr>\n",
       "\t<tr><td> 1                                                                                                                                                                            </td><td>\"quality ~ 1  + alcohol\"                                                                                                                                                      </td><td>3210.015                                                                                                                                                                      </td></tr>\n",
       "\t<tr><td> 2                                                                                                                                                                            </td><td>\"quality ~ 1  + alcohol + volatile.acidity\"                                                                                                                                   </td><td>3008.210                                                                                                                                                                      </td></tr>\n",
       "\t<tr><td> 3                                                                                                                                                                            </td><td>\"quality ~ 1  + alcohol + volatile.acidity + residual.sugar\"                                                                                                                  </td><td>2970.887                                                                                                                                                                      </td></tr>\n",
       "\t<tr><td> 4                                                                                                                                                                            </td><td>\"quality ~ 1  + alcohol + volatile.acidity + residual.sugar + fixed.acidity\"                                                                                                  </td><td>2950.372                                                                                                                                                                      </td></tr>\n",
       "\t<tr><td> 5                                                                                                                                                                            </td><td>\"quality ~ 1  + alcohol + volatile.acidity + residual.sugar + fixed.acidity + sulphates\"                                                                                      </td><td>2935.445                                                                                                                                                                      </td></tr>\n",
       "\t<tr><td> 6                                                                                                                                                                            </td><td>\"quality ~ 1  + alcohol + volatile.acidity + residual.sugar + fixed.acidity + sulphates + free.sulfur.dioxide\"                                                                </td><td>2927.592                                                                                                                                                                      </td></tr>\n",
       "\t<tr><td> 7                                                                                                                                                                            </td><td>\"quality ~ 1  + alcohol + volatile.acidity + residual.sugar + fixed.acidity + sulphates + free.sulfur.dioxide + pH\"                                                           </td><td>2927.203                                                                                                                                                                      </td></tr>\n",
       "\t<tr><td> 8                                                                                                                                                                            </td><td>\"quality ~ 1  + alcohol + volatile.acidity + residual.sugar + fixed.acidity + sulphates + free.sulfur.dioxide + pH + density\"                                                 </td><td>2922.933                                                                                                                                                                      </td></tr>\n",
       "\t<tr><td> 9                                                                                                                                                                            </td><td>\"quality ~ 1  + alcohol + volatile.acidity + residual.sugar + fixed.acidity + sulphates + free.sulfur.dioxide + pH + density + total.sulfur.dioxide\"                          </td><td>2923.713                                                                                                                                                                      </td></tr>\n",
       "\t<tr><td>11                                                                                                                                                                            </td><td>\"quality ~ 1  + alcohol + volatile.acidity + residual.sugar + fixed.acidity + sulphates + free.sulfur.dioxide + pH + density + total.sulfur.dioxide + citric.acid + chlorides\"</td><td>2926.739                                                                                                                                                                      </td></tr>\n",
       "</tbody>\n",
       "</table>\n"
      ],
      "text/latex": [
       "\\begin{tabular}{r|lll}\n",
       " feature\\_count & model & AIC\\\\\n",
       "\\hline\n",
       "\t  0                                                                                                                                                                                              & \"quality \\textasciitilde{} 1 \"                                                                                                                                                                 & 3776.458                                                                                                                                                                                       \\\\\n",
       "\t  1                                                                                                                                                                                              & \"quality \\textasciitilde{} 1  + alcohol\"                                                                                                                                                       & 3210.015                                                                                                                                                                                       \\\\\n",
       "\t  2                                                                                                                                                                                              & \"quality \\textasciitilde{} 1  + alcohol + volatile.acidity\"                                                                                                                                    & 3008.210                                                                                                                                                                                       \\\\\n",
       "\t  3                                                                                                                                                                                              & \"quality \\textasciitilde{} 1  + alcohol + volatile.acidity + residual.sugar\"                                                                                                                   & 2970.887                                                                                                                                                                                       \\\\\n",
       "\t  4                                                                                                                                                                                              & \"quality \\textasciitilde{} 1  + alcohol + volatile.acidity + residual.sugar + fixed.acidity\"                                                                                                   & 2950.372                                                                                                                                                                                       \\\\\n",
       "\t  5                                                                                                                                                                                              & \"quality \\textasciitilde{} 1  + alcohol + volatile.acidity + residual.sugar + fixed.acidity + sulphates\"                                                                                       & 2935.445                                                                                                                                                                                       \\\\\n",
       "\t  6                                                                                                                                                                                              & \"quality \\textasciitilde{} 1  + alcohol + volatile.acidity + residual.sugar + fixed.acidity + sulphates + free.sulfur.dioxide\"                                                                 & 2927.592                                                                                                                                                                                       \\\\\n",
       "\t  7                                                                                                                                                                                              & \"quality \\textasciitilde{} 1  + alcohol + volatile.acidity + residual.sugar + fixed.acidity + sulphates + free.sulfur.dioxide + pH\"                                                            & 2927.203                                                                                                                                                                                       \\\\\n",
       "\t  8                                                                                                                                                                                              & \"quality \\textasciitilde{} 1  + alcohol + volatile.acidity + residual.sugar + fixed.acidity + sulphates + free.sulfur.dioxide + pH + density\"                                                  & 2922.933                                                                                                                                                                                       \\\\\n",
       "\t  9                                                                                                                                                                                              & \"quality \\textasciitilde{} 1  + alcohol + volatile.acidity + residual.sugar + fixed.acidity + sulphates + free.sulfur.dioxide + pH + density + total.sulfur.dioxide\"                           & 2923.713                                                                                                                                                                                       \\\\\n",
       "\t 11                                                                                                                                                                                              & \"quality \\textasciitilde{} 1  + alcohol + volatile.acidity + residual.sugar + fixed.acidity + sulphates + free.sulfur.dioxide + pH + density + total.sulfur.dioxide + citric.acid + chlorides\" & 2926.739                                                                                                                                                                                       \\\\\n",
       "\\end{tabular}\n"
      ],
      "text/markdown": [
       "\n",
       "feature_count | model | AIC | \n",
       "|---|---|---|---|---|---|---|---|---|---|---|\n",
       "|  0                                                                                                                                                                             | \"quality ~ 1 \"                                                                                                                                                                 | 3776.458                                                                                                                                                                       | \n",
       "|  1                                                                                                                                                                             | \"quality ~ 1  + alcohol\"                                                                                                                                                       | 3210.015                                                                                                                                                                       | \n",
       "|  2                                                                                                                                                                             | \"quality ~ 1  + alcohol + volatile.acidity\"                                                                                                                                    | 3008.210                                                                                                                                                                       | \n",
       "|  3                                                                                                                                                                             | \"quality ~ 1  + alcohol + volatile.acidity + residual.sugar\"                                                                                                                   | 2970.887                                                                                                                                                                       | \n",
       "|  4                                                                                                                                                                             | \"quality ~ 1  + alcohol + volatile.acidity + residual.sugar + fixed.acidity\"                                                                                                   | 2950.372                                                                                                                                                                       | \n",
       "|  5                                                                                                                                                                             | \"quality ~ 1  + alcohol + volatile.acidity + residual.sugar + fixed.acidity + sulphates\"                                                                                       | 2935.445                                                                                                                                                                       | \n",
       "|  6                                                                                                                                                                             | \"quality ~ 1  + alcohol + volatile.acidity + residual.sugar + fixed.acidity + sulphates + free.sulfur.dioxide\"                                                                 | 2927.592                                                                                                                                                                       | \n",
       "|  7                                                                                                                                                                             | \"quality ~ 1  + alcohol + volatile.acidity + residual.sugar + fixed.acidity + sulphates + free.sulfur.dioxide + pH\"                                                            | 2927.203                                                                                                                                                                       | \n",
       "|  8                                                                                                                                                                             | \"quality ~ 1  + alcohol + volatile.acidity + residual.sugar + fixed.acidity + sulphates + free.sulfur.dioxide + pH + density\"                                                  | 2922.933                                                                                                                                                                       | \n",
       "|  9                                                                                                                                                                             | \"quality ~ 1  + alcohol + volatile.acidity + residual.sugar + fixed.acidity + sulphates + free.sulfur.dioxide + pH + density + total.sulfur.dioxide\"                           | 2923.713                                                                                                                                                                       | \n",
       "| 11                                                                                                                                                                             | \"quality ~ 1  + alcohol + volatile.acidity + residual.sugar + fixed.acidity + sulphates + free.sulfur.dioxide + pH + density + total.sulfur.dioxide + citric.acid + chlorides\" | 2926.739                                                                                                                                                                       | \n",
       "\n",
       "\n"
      ],
      "text/plain": [
       "   feature_count\n",
       "1   0           \n",
       "2   1           \n",
       "3   2           \n",
       "4   3           \n",
       "5   4           \n",
       "6   5           \n",
       "7   6           \n",
       "8   7           \n",
       "9   8           \n",
       "10  9           \n",
       "11 11           \n",
       "   model                                                                                                                                                                         \n",
       "1  \"quality ~ 1 \"                                                                                                                                                                \n",
       "2  \"quality ~ 1  + alcohol\"                                                                                                                                                      \n",
       "3  \"quality ~ 1  + alcohol + volatile.acidity\"                                                                                                                                   \n",
       "4  \"quality ~ 1  + alcohol + volatile.acidity + residual.sugar\"                                                                                                                  \n",
       "5  \"quality ~ 1  + alcohol + volatile.acidity + residual.sugar + fixed.acidity\"                                                                                                  \n",
       "6  \"quality ~ 1  + alcohol + volatile.acidity + residual.sugar + fixed.acidity + sulphates\"                                                                                      \n",
       "7  \"quality ~ 1  + alcohol + volatile.acidity + residual.sugar + fixed.acidity + sulphates + free.sulfur.dioxide\"                                                                \n",
       "8  \"quality ~ 1  + alcohol + volatile.acidity + residual.sugar + fixed.acidity + sulphates + free.sulfur.dioxide + pH\"                                                           \n",
       "9  \"quality ~ 1  + alcohol + volatile.acidity + residual.sugar + fixed.acidity + sulphates + free.sulfur.dioxide + pH + density\"                                                 \n",
       "10 \"quality ~ 1  + alcohol + volatile.acidity + residual.sugar + fixed.acidity + sulphates + free.sulfur.dioxide + pH + density + total.sulfur.dioxide\"                          \n",
       "11 \"quality ~ 1  + alcohol + volatile.acidity + residual.sugar + fixed.acidity + sulphates + free.sulfur.dioxide + pH + density + total.sulfur.dioxide + citric.acid + chlorides\"\n",
       "   AIC     \n",
       "1  3776.458\n",
       "2  3210.015\n",
       "3  3008.210\n",
       "4  2970.887\n",
       "5  2950.372\n",
       "6  2935.445\n",
       "7  2927.592\n",
       "8  2927.203\n",
       "9  2922.933\n",
       "10 2923.713\n",
       "11 2926.739"
      ]
     },
     "metadata": {},
     "output_type": "display_data"
    },
    {
     "data": {
      "text/html": [
       "<span style=white-space:pre-wrap>'\"quality ~ 1  + alcohol + volatile.acidity + residual.sugar + fixed.acidity + sulphates + free.sulfur.dioxide + pH + density\"'</span>"
      ],
      "text/latex": [
       "'\"quality \\textasciitilde{} 1  + alcohol + volatile.acidity + residual.sugar + fixed.acidity + sulphates + free.sulfur.dioxide + pH + density\"'"
      ],
      "text/markdown": [
       "<span style=white-space:pre-wrap>'\"quality ~ 1  + alcohol + volatile.acidity + residual.sugar + fixed.acidity + sulphates + free.sulfur.dioxide + pH + density\"'</span>"
      ],
      "text/plain": [
       "[1] \"\\\"quality ~ 1  + alcohol + volatile.acidity + residual.sugar + fixed.acidity + sulphates + free.sulfur.dioxide + pH + density\\\"\""
      ]
     },
     "metadata": {},
     "output_type": "display_data"
    }
   ],
   "source": [
    "aic\n",
    "bestModel$aic <- aic[which.min(aic$AIC),]$model\n",
    "bestModel$aic"
   ]
  },
  {
   "cell_type": "code",
   "execution_count": 32,
   "metadata": {
    "collapsed": false,
    "scrolled": false
   },
   "outputs": [
    {
     "data": {},
     "metadata": {},
     "output_type": "display_data"
    },
    {
     "data": {
      "image/png": "[encoded data removed]",
      "text/plain": [
       "plot without title"
      ]
     },
     "metadata": {},
     "output_type": "display_data"
    }
   ],
   "source": [
    "ggplot(aes(x = feature_count, y = AIC), data = aic) + geom_line(size = 1, color = 'skyblue') + theme_minimal() + labs(x = \"No. of features in model\", y = \"AIC\")"
   ]
  },
  {
   "cell_type": "markdown",
   "metadata": {},
   "source": [
    "In comparison to AUC using AIC as the feature selection measure results in a different order of features. Using AIC as the feature selection method the features are added in the following order:<br>\n",
    "1) alcohol <br>\n",
    "2) volatile.acidity <br>\n",
    "3) residual.sugar <br>\n",
    "4) fixed.acidity <br>\n",
    "5) sulphates <br>\n",
    "6) free.sulfur.dioxide <br>\n",
    "7) pH <br>\n",
    "8) density <br>\n",
    "9) total.sulfur.dioxide <br>\n",
    "10) citric.acid<br><br>\n",
    "The minimum AIC measure is also found when eight features are selected and thus the best model according to AIC forward selection is the same as AUC<br>\n",
    "<b>quality ~ 1  + alcohol + volatile.acidity + residual.sugar + fixed.acidity + sulphates + free.sulfur.dioxide + pH + density</b>"
   ]
  },
  {
   "cell_type": "code",
   "execution_count": 33,
   "metadata": {
    "collapsed": false,
    "scrolled": false
   },
   "outputs": [
    {
     "data": {
      "text/html": [
       "<table>\n",
       "<thead><tr><th scope=col>feature_count</th><th scope=col>model</th><th scope=col>BIC</th></tr></thead>\n",
       "<tbody>\n",
       "\t<tr><td> 0                                                                                                                                                                            </td><td>\"quality ~ 1 \"                                                                                                                                                                </td><td>3782.510                                                                                                                                                                      </td></tr>\n",
       "\t<tr><td> 1                                                                                                                                                                            </td><td>\"quality ~ 1  + alcohol\"                                                                                                                                                      </td><td>3222.029                                                                                                                                                                      </td></tr>\n",
       "\t<tr><td> 2                                                                                                                                                                            </td><td>\"quality ~ 1  + alcohol + volatile.acidity\"                                                                                                                                   </td><td>3026.106                                                                                                                                                                      </td></tr>\n",
       "\t<tr><td> 3                                                                                                                                                                            </td><td>\"quality ~ 1  + alcohol + volatile.acidity + residual.sugar\"                                                                                                                  </td><td>2994.764                                                                                                                                                                      </td></tr>\n",
       "\t<tr><td> 4                                                                                                                                                                            </td><td>\"quality ~ 1  + alcohol + volatile.acidity + residual.sugar + fixed.acidity\"                                                                                                  </td><td>2980.299                                                                                                                                                                      </td></tr>\n",
       "\t<tr><td> 5                                                                                                                                                                            </td><td>\"quality ~ 1  + alcohol + volatile.acidity + residual.sugar + fixed.acidity + sulphates\"                                                                                      </td><td>2971.300                                                                                                                                                                      </td></tr>\n",
       "\t<tr><td> 6                                                                                                                                                                            </td><td>\"quality ~ 1  + alcohol + volatile.acidity + residual.sugar + fixed.acidity + sulphates + free.sulfur.dioxide\"                                                                </td><td>2969.474                                                                                                                                                                      </td></tr>\n",
       "\t<tr><td> 7                                                                                                                                                                            </td><td>\"quality ~ 1  + alcohol + volatile.acidity + residual.sugar + fixed.acidity + sulphates + free.sulfur.dioxide + pH\"                                                           </td><td>2974.977                                                                                                                                                                      </td></tr>\n",
       "\t<tr><td> 8                                                                                                                                                                            </td><td>\"quality ~ 1  + alcohol + volatile.acidity + residual.sugar + fixed.acidity + sulphates + free.sulfur.dioxide + pH + density\"                                                 </td><td>2976.842                                                                                                                                                                      </td></tr>\n",
       "\t<tr><td> 9                                                                                                                                                                            </td><td>\"quality ~ 1  + alcohol + volatile.acidity + residual.sugar + fixed.acidity + sulphates + free.sulfur.dioxide + pH + density + total.sulfur.dioxide\"                          </td><td>2983.609                                                                                                                                                                      </td></tr>\n",
       "\t<tr><td>11                                                                                                                                                                            </td><td>\"quality ~ 1  + alcohol + volatile.acidity + residual.sugar + fixed.acidity + sulphates + free.sulfur.dioxide + pH + density + total.sulfur.dioxide + citric.acid + chlorides\"</td><td>2998.646                                                                                                                                                                      </td></tr>\n",
       "</tbody>\n",
       "</table>\n"
      ],
      "text/latex": [
       "\\begin{tabular}{r|lll}\n",
       " feature\\_count & model & BIC\\\\\n",
       "\\hline\n",
       "\t  0                                                                                                                                                                                              & \"quality \\textasciitilde{} 1 \"                                                                                                                                                                 & 3782.510                                                                                                                                                                                       \\\\\n",
       "\t  1                                                                                                                                                                                              & \"quality \\textasciitilde{} 1  + alcohol\"                                                                                                                                                       & 3222.029                                                                                                                                                                                       \\\\\n",
       "\t  2                                                                                                                                                                                              & \"quality \\textasciitilde{} 1  + alcohol + volatile.acidity\"                                                                                                                                    & 3026.106                                                                                                                                                                                       \\\\\n",
       "\t  3                                                                                                                                                                                              & \"quality \\textasciitilde{} 1  + alcohol + volatile.acidity + residual.sugar\"                                                                                                                   & 2994.764                                                                                                                                                                                       \\\\\n",
       "\t  4                                                                                                                                                                                              & \"quality \\textasciitilde{} 1  + alcohol + volatile.acidity + residual.sugar + fixed.acidity\"                                                                                                   & 2980.299                                                                                                                                                                                       \\\\\n",
       "\t  5                                                                                                                                                                                              & \"quality \\textasciitilde{} 1  + alcohol + volatile.acidity + residual.sugar + fixed.acidity + sulphates\"                                                                                       & 2971.300                                                                                                                                                                                       \\\\\n",
       "\t  6                                                                                                                                                                                              & \"quality \\textasciitilde{} 1  + alcohol + volatile.acidity + residual.sugar + fixed.acidity + sulphates + free.sulfur.dioxide\"                                                                 & 2969.474                                                                                                                                                                                       \\\\\n",
       "\t  7                                                                                                                                                                                              & \"quality \\textasciitilde{} 1  + alcohol + volatile.acidity + residual.sugar + fixed.acidity + sulphates + free.sulfur.dioxide + pH\"                                                            & 2974.977                                                                                                                                                                                       \\\\\n",
       "\t  8                                                                                                                                                                                              & \"quality \\textasciitilde{} 1  + alcohol + volatile.acidity + residual.sugar + fixed.acidity + sulphates + free.sulfur.dioxide + pH + density\"                                                  & 2976.842                                                                                                                                                                                       \\\\\n",
       "\t  9                                                                                                                                                                                              & \"quality \\textasciitilde{} 1  + alcohol + volatile.acidity + residual.sugar + fixed.acidity + sulphates + free.sulfur.dioxide + pH + density + total.sulfur.dioxide\"                           & 2983.609                                                                                                                                                                                       \\\\\n",
       "\t 11                                                                                                                                                                                              & \"quality \\textasciitilde{} 1  + alcohol + volatile.acidity + residual.sugar + fixed.acidity + sulphates + free.sulfur.dioxide + pH + density + total.sulfur.dioxide + citric.acid + chlorides\" & 2998.646                                                                                                                                                                                       \\\\\n",
       "\\end{tabular}\n"
      ],
      "text/markdown": [
       "\n",
       "feature_count | model | BIC | \n",
       "|---|---|---|---|---|---|---|---|---|---|---|\n",
       "|  0                                                                                                                                                                             | \"quality ~ 1 \"                                                                                                                                                                 | 3782.510                                                                                                                                                                       | \n",
       "|  1                                                                                                                                                                             | \"quality ~ 1  + alcohol\"                                                                                                                                                       | 3222.029                                                                                                                                                                       | \n",
       "|  2                                                                                                                                                                             | \"quality ~ 1  + alcohol + volatile.acidity\"                                                                                                                                    | 3026.106                                                                                                                                                                       | \n",
       "|  3                                                                                                                                                                             | \"quality ~ 1  + alcohol + volatile.acidity + residual.sugar\"                                                                                                                   | 2994.764                                                                                                                                                                       | \n",
       "|  4                                                                                                                                                                             | \"quality ~ 1  + alcohol + volatile.acidity + residual.sugar + fixed.acidity\"                                                                                                   | 2980.299                                                                                                                                                                       | \n",
       "|  5                                                                                                                                                                             | \"quality ~ 1  + alcohol + volatile.acidity + residual.sugar + fixed.acidity + sulphates\"                                                                                       | 2971.300                                                                                                                                                                       | \n",
       "|  6                                                                                                                                                                             | \"quality ~ 1  + alcohol + volatile.acidity + residual.sugar + fixed.acidity + sulphates + free.sulfur.dioxide\"                                                                 | 2969.474                                                                                                                                                                       | \n",
       "|  7                                                                                                                                                                             | \"quality ~ 1  + alcohol + volatile.acidity + residual.sugar + fixed.acidity + sulphates + free.sulfur.dioxide + pH\"                                                            | 2974.977                                                                                                                                                                       | \n",
       "|  8                                                                                                                                                                             | \"quality ~ 1  + alcohol + volatile.acidity + residual.sugar + fixed.acidity + sulphates + free.sulfur.dioxide + pH + density\"                                                  | 2976.842                                                                                                                                                                       | \n",
       "|  9                                                                                                                                                                             | \"quality ~ 1  + alcohol + volatile.acidity + residual.sugar + fixed.acidity + sulphates + free.sulfur.dioxide + pH + density + total.sulfur.dioxide\"                           | 2983.609                                                                                                                                                                       | \n",
       "| 11                                                                                                                                                                             | \"quality ~ 1  + alcohol + volatile.acidity + residual.sugar + fixed.acidity + sulphates + free.sulfur.dioxide + pH + density + total.sulfur.dioxide + citric.acid + chlorides\" | 2998.646                                                                                                                                                                       | \n",
       "\n",
       "\n"
      ],
      "text/plain": [
       "   feature_count\n",
       "1   0           \n",
       "2   1           \n",
       "3   2           \n",
       "4   3           \n",
       "5   4           \n",
       "6   5           \n",
       "7   6           \n",
       "8   7           \n",
       "9   8           \n",
       "10  9           \n",
       "11 11           \n",
       "   model                                                                                                                                                                         \n",
       "1  \"quality ~ 1 \"                                                                                                                                                                \n",
       "2  \"quality ~ 1  + alcohol\"                                                                                                                                                      \n",
       "3  \"quality ~ 1  + alcohol + volatile.acidity\"                                                                                                                                   \n",
       "4  \"quality ~ 1  + alcohol + volatile.acidity + residual.sugar\"                                                                                                                  \n",
       "5  \"quality ~ 1  + alcohol + volatile.acidity + residual.sugar + fixed.acidity\"                                                                                                  \n",
       "6  \"quality ~ 1  + alcohol + volatile.acidity + residual.sugar + fixed.acidity + sulphates\"                                                                                      \n",
       "7  \"quality ~ 1  + alcohol + volatile.acidity + residual.sugar + fixed.acidity + sulphates + free.sulfur.dioxide\"                                                                \n",
       "8  \"quality ~ 1  + alcohol + volatile.acidity + residual.sugar + fixed.acidity + sulphates + free.sulfur.dioxide + pH\"                                                           \n",
       "9  \"quality ~ 1  + alcohol + volatile.acidity + residual.sugar + fixed.acidity + sulphates + free.sulfur.dioxide + pH + density\"                                                 \n",
       "10 \"quality ~ 1  + alcohol + volatile.acidity + residual.sugar + fixed.acidity + sulphates + free.sulfur.dioxide + pH + density + total.sulfur.dioxide\"                          \n",
       "11 \"quality ~ 1  + alcohol + volatile.acidity + residual.sugar + fixed.acidity + sulphates + free.sulfur.dioxide + pH + density + total.sulfur.dioxide + citric.acid + chlorides\"\n",
       "   BIC     \n",
       "1  3782.510\n",
       "2  3222.029\n",
       "3  3026.106\n",
       "4  2994.764\n",
       "5  2980.299\n",
       "6  2971.300\n",
       "7  2969.474\n",
       "8  2974.977\n",
       "9  2976.842\n",
       "10 2983.609\n",
       "11 2998.646"
      ]
     },
     "metadata": {},
     "output_type": "display_data"
    },
    {
     "data": {
      "text/html": [
       "<span style=white-space:pre-wrap>'\"quality ~ 1  + alcohol + volatile.acidity + residual.sugar + fixed.acidity + sulphates + free.sulfur.dioxide\"'</span>"
      ],
      "text/latex": [
       "'\"quality \\textasciitilde{} 1  + alcohol + volatile.acidity + residual.sugar + fixed.acidity + sulphates + free.sulfur.dioxide\"'"
      ],
      "text/markdown": [
       "<span style=white-space:pre-wrap>'\"quality ~ 1  + alcohol + volatile.acidity + residual.sugar + fixed.acidity + sulphates + free.sulfur.dioxide\"'</span>"
      ],
      "text/plain": [
       "[1] \"\\\"quality ~ 1  + alcohol + volatile.acidity + residual.sugar + fixed.acidity + sulphates + free.sulfur.dioxide\\\"\""
      ]
     },
     "metadata": {},
     "output_type": "display_data"
    }
   ],
   "source": [
    "bic\n",
    "bestModel$bic <- bic[which.min(bic$BIC),]$model\n",
    "bestModel$bic"
   ]
  },
  {
   "cell_type": "code",
   "execution_count": 34,
   "metadata": {
    "collapsed": false,
    "scrolled": false
   },
   "outputs": [
    {
     "data": {},
     "metadata": {},
     "output_type": "display_data"
    },
    {
     "data": {
      "image/png": "[encoded data removed]",
      "text/plain": [
       "plot without title"
      ]
     },
     "metadata": {},
     "output_type": "display_data"
    }
   ],
   "source": [
    "ggplot(aes(x = feature_count, y = BIC), data = bic) + geom_line(size = 1, color = 'skyblue') + theme_minimal() + labs(x = \"No. of features in model\", y = \"BIC\")"
   ]
  },
  {
   "cell_type": "markdown",
   "metadata": {},
   "source": [
    "Using BIC as the feature selection method results in exactly the same order of selected features as using AIC:<br>\n",
    "1) alcohol <br>\n",
    "2) volatile.acidity <br>\n",
    "3) residual.sugar <br>\n",
    "4) fixed.acidity <br>\n",
    "5) sulphates <br>\n",
    "6) free.sulfur.dioxide <br>\n",
    "7) pH <br>\n",
    "8) density <br>\n",
    "9) total.sulfur.dioxide <br>\n",
    "10) citric.acid<br><br>\n",
    "However the minimum BIC measure is found earlier than with AIC when six features are selected and thus the best model according to BIC forward selection is<br>\n",
    "<b>quality ~ 1 + alcohol + volatile.acidity + residual.sugar + fixed.acidity + sulphates + free.sulfur.dioxide</b>\n"
   ]
  },
  {
   "cell_type": "code",
   "execution_count": 35,
   "metadata": {
    "collapsed": false,
    "scrolled": false
   },
   "outputs": [
    {
     "data": {
      "text/html": [
       "<table>\n",
       "<thead><tr><th scope=col>feature_count</th><th scope=col>model</th><th scope=col>fMeasure</th></tr></thead>\n",
       "<tbody>\n",
       "\t<tr><td> 0                                                                                                                                                                            </td><td>\"quality ~ 1 \"                                                                                                                                                                </td><td>0.7973103                                                                                                                                                                     </td></tr>\n",
       "\t<tr><td> 1                                                                                                                                                                            </td><td>\"quality ~ 1  + chlorides\"                                                                                                                                                    </td><td>0.7989061                                                                                                                                                                     </td></tr>\n",
       "\t<tr><td> 2                                                                                                                                                                            </td><td>\"quality ~ 1  + chlorides + fixed.acidity\"                                                                                                                                    </td><td>0.7996133                                                                                                                                                                     </td></tr>\n",
       "\t<tr><td> 3                                                                                                                                                                            </td><td>\"quality ~ 1  + chlorides + fixed.acidity + volatile.acidity\"                                                                                                                 </td><td>0.8014735                                                                                                                                                                     </td></tr>\n",
       "\t<tr><td> 4                                                                                                                                                                            </td><td>\"quality ~ 1  + chlorides + fixed.acidity + volatile.acidity + alcohol\"                                                                                                       </td><td>0.8180259                                                                                                                                                                     </td></tr>\n",
       "\t<tr><td> 5                                                                                                                                                                            </td><td>\"quality ~ 1  + chlorides + fixed.acidity + volatile.acidity + alcohol + residual.sugar\"                                                                                      </td><td>0.8302806                                                                                                                                                                     </td></tr>\n",
       "\t<tr><td> 6                                                                                                                                                                            </td><td>\"quality ~ 1  + chlorides + fixed.acidity + volatile.acidity + alcohol + residual.sugar + citric.acid\"                                                                        </td><td>0.8304090                                                                                                                                                                     </td></tr>\n",
       "\t<tr><td> 7                                                                                                                                                                            </td><td>\"quality ~ 1  + chlorides + fixed.acidity + volatile.acidity + alcohol + residual.sugar + citric.acid + density\"                                                              </td><td>0.8299763                                                                                                                                                                     </td></tr>\n",
       "\t<tr><td> 8                                                                                                                                                                            </td><td>\"quality ~ 1  + chlorides + fixed.acidity + volatile.acidity + alcohol + residual.sugar + citric.acid + density + total.sulfur.dioxide\"                                       </td><td>0.8295060                                                                                                                                                                     </td></tr>\n",
       "\t<tr><td> 9                                                                                                                                                                            </td><td>\"quality ~ 1  + chlorides + fixed.acidity + volatile.acidity + alcohol + residual.sugar + citric.acid + density + total.sulfur.dioxide + free.sulfur.dioxide\"                 </td><td>0.8269984                                                                                                                                                                     </td></tr>\n",
       "\t<tr><td>11                                                                                                                                                                            </td><td>\"quality ~ 1  + chlorides + fixed.acidity + volatile.acidity + alcohol + residual.sugar + citric.acid + density + total.sulfur.dioxide + free.sulfur.dioxide + pH + sulphates\"</td><td>0.8280169                                                                                                                                                                     </td></tr>\n",
       "</tbody>\n",
       "</table>\n"
      ],
      "text/latex": [
       "\\begin{tabular}{r|lll}\n",
       " feature\\_count & model & fMeasure\\\\\n",
       "\\hline\n",
       "\t  0                                                                                                                                                                                              & \"quality \\textasciitilde{} 1 \"                                                                                                                                                                 & 0.7973103                                                                                                                                                                                      \\\\\n",
       "\t  1                                                                                                                                                                                              & \"quality \\textasciitilde{} 1  + chlorides\"                                                                                                                                                     & 0.7989061                                                                                                                                                                                      \\\\\n",
       "\t  2                                                                                                                                                                                              & \"quality \\textasciitilde{} 1  + chlorides + fixed.acidity\"                                                                                                                                     & 0.7996133                                                                                                                                                                                      \\\\\n",
       "\t  3                                                                                                                                                                                              & \"quality \\textasciitilde{} 1  + chlorides + fixed.acidity + volatile.acidity\"                                                                                                                  & 0.8014735                                                                                                                                                                                      \\\\\n",
       "\t  4                                                                                                                                                                                              & \"quality \\textasciitilde{} 1  + chlorides + fixed.acidity + volatile.acidity + alcohol\"                                                                                                        & 0.8180259                                                                                                                                                                                      \\\\\n",
       "\t  5                                                                                                                                                                                              & \"quality \\textasciitilde{} 1  + chlorides + fixed.acidity + volatile.acidity + alcohol + residual.sugar\"                                                                                       & 0.8302806                                                                                                                                                                                      \\\\\n",
       "\t  6                                                                                                                                                                                              & \"quality \\textasciitilde{} 1  + chlorides + fixed.acidity + volatile.acidity + alcohol + residual.sugar + citric.acid\"                                                                         & 0.8304090                                                                                                                                                                                      \\\\\n",
       "\t  7                                                                                                                                                                                              & \"quality \\textasciitilde{} 1  + chlorides + fixed.acidity + volatile.acidity + alcohol + residual.sugar + citric.acid + density\"                                                               & 0.8299763                                                                                                                                                                                      \\\\\n",
       "\t  8                                                                                                                                                                                              & \"quality \\textasciitilde{} 1  + chlorides + fixed.acidity + volatile.acidity + alcohol + residual.sugar + citric.acid + density + total.sulfur.dioxide\"                                        & 0.8295060                                                                                                                                                                                      \\\\\n",
       "\t  9                                                                                                                                                                                              & \"quality \\textasciitilde{} 1  + chlorides + fixed.acidity + volatile.acidity + alcohol + residual.sugar + citric.acid + density + total.sulfur.dioxide + free.sulfur.dioxide\"                  & 0.8269984                                                                                                                                                                                      \\\\\n",
       "\t 11                                                                                                                                                                                              & \"quality \\textasciitilde{} 1  + chlorides + fixed.acidity + volatile.acidity + alcohol + residual.sugar + citric.acid + density + total.sulfur.dioxide + free.sulfur.dioxide + pH + sulphates\" & 0.8280169                                                                                                                                                                                      \\\\\n",
       "\\end{tabular}\n"
      ],
      "text/markdown": [
       "\n",
       "feature_count | model | fMeasure | \n",
       "|---|---|---|---|---|---|---|---|---|---|---|\n",
       "|  0                                                                                                                                                                             | \"quality ~ 1 \"                                                                                                                                                                 | 0.7973103                                                                                                                                                                      | \n",
       "|  1                                                                                                                                                                             | \"quality ~ 1  + chlorides\"                                                                                                                                                     | 0.7989061                                                                                                                                                                      | \n",
       "|  2                                                                                                                                                                             | \"quality ~ 1  + chlorides + fixed.acidity\"                                                                                                                                     | 0.7996133                                                                                                                                                                      | \n",
       "|  3                                                                                                                                                                             | \"quality ~ 1  + chlorides + fixed.acidity + volatile.acidity\"                                                                                                                  | 0.8014735                                                                                                                                                                      | \n",
       "|  4                                                                                                                                                                             | \"quality ~ 1  + chlorides + fixed.acidity + volatile.acidity + alcohol\"                                                                                                        | 0.8180259                                                                                                                                                                      | \n",
       "|  5                                                                                                                                                                             | \"quality ~ 1  + chlorides + fixed.acidity + volatile.acidity + alcohol + residual.sugar\"                                                                                       | 0.8302806                                                                                                                                                                      | \n",
       "|  6                                                                                                                                                                             | \"quality ~ 1  + chlorides + fixed.acidity + volatile.acidity + alcohol + residual.sugar + citric.acid\"                                                                         | 0.8304090                                                                                                                                                                      | \n",
       "|  7                                                                                                                                                                             | \"quality ~ 1  + chlorides + fixed.acidity + volatile.acidity + alcohol + residual.sugar + citric.acid + density\"                                                               | 0.8299763                                                                                                                                                                      | \n",
       "|  8                                                                                                                                                                             | \"quality ~ 1  + chlorides + fixed.acidity + volatile.acidity + alcohol + residual.sugar + citric.acid + density + total.sulfur.dioxide\"                                        | 0.8295060                                                                                                                                                                      | \n",
       "|  9                                                                                                                                                                             | \"quality ~ 1  + chlorides + fixed.acidity + volatile.acidity + alcohol + residual.sugar + citric.acid + density + total.sulfur.dioxide + free.sulfur.dioxide\"                  | 0.8269984                                                                                                                                                                      | \n",
       "| 11                                                                                                                                                                             | \"quality ~ 1  + chlorides + fixed.acidity + volatile.acidity + alcohol + residual.sugar + citric.acid + density + total.sulfur.dioxide + free.sulfur.dioxide + pH + sulphates\" | 0.8280169                                                                                                                                                                      | \n",
       "\n",
       "\n"
      ],
      "text/plain": [
       "   feature_count\n",
       "1   0           \n",
       "2   1           \n",
       "3   2           \n",
       "4   3           \n",
       "5   4           \n",
       "6   5           \n",
       "7   6           \n",
       "8   7           \n",
       "9   8           \n",
       "10  9           \n",
       "11 11           \n",
       "   model                                                                                                                                                                         \n",
       "1  \"quality ~ 1 \"                                                                                                                                                                \n",
       "2  \"quality ~ 1  + chlorides\"                                                                                                                                                    \n",
       "3  \"quality ~ 1  + chlorides + fixed.acidity\"                                                                                                                                    \n",
       "4  \"quality ~ 1  + chlorides + fixed.acidity + volatile.acidity\"                                                                                                                 \n",
       "5  \"quality ~ 1  + chlorides + fixed.acidity + volatile.acidity + alcohol\"                                                                                                       \n",
       "6  \"quality ~ 1  + chlorides + fixed.acidity + volatile.acidity + alcohol + residual.sugar\"                                                                                      \n",
       "7  \"quality ~ 1  + chlorides + fixed.acidity + volatile.acidity + alcohol + residual.sugar + citric.acid\"                                                                        \n",
       "8  \"quality ~ 1  + chlorides + fixed.acidity + volatile.acidity + alcohol + residual.sugar + citric.acid + density\"                                                              \n",
       "9  \"quality ~ 1  + chlorides + fixed.acidity + volatile.acidity + alcohol + residual.sugar + citric.acid + density + total.sulfur.dioxide\"                                       \n",
       "10 \"quality ~ 1  + chlorides + fixed.acidity + volatile.acidity + alcohol + residual.sugar + citric.acid + density + total.sulfur.dioxide + free.sulfur.dioxide\"                 \n",
       "11 \"quality ~ 1  + chlorides + fixed.acidity + volatile.acidity + alcohol + residual.sugar + citric.acid + density + total.sulfur.dioxide + free.sulfur.dioxide + pH + sulphates\"\n",
       "   fMeasure \n",
       "1  0.7973103\n",
       "2  0.7989061\n",
       "3  0.7996133\n",
       "4  0.8014735\n",
       "5  0.8180259\n",
       "6  0.8302806\n",
       "7  0.8304090\n",
       "8  0.8299763\n",
       "9  0.8295060\n",
       "10 0.8269984\n",
       "11 0.8280169"
      ]
     },
     "metadata": {},
     "output_type": "display_data"
    },
    {
     "data": {
      "text/html": [
       "<span style=white-space:pre-wrap>'\"quality ~ 1  + chlorides + fixed.acidity + volatile.acidity + alcohol + residual.sugar + citric.acid\"'</span>"
      ],
      "text/latex": [
       "'\"quality \\textasciitilde{} 1  + chlorides + fixed.acidity + volatile.acidity + alcohol + residual.sugar + citric.acid\"'"
      ],
      "text/markdown": [
       "<span style=white-space:pre-wrap>'\"quality ~ 1  + chlorides + fixed.acidity + volatile.acidity + alcohol + residual.sugar + citric.acid\"'</span>"
      ],
      "text/plain": [
       "[1] \"\\\"quality ~ 1  + chlorides + fixed.acidity + volatile.acidity + alcohol + residual.sugar + citric.acid\\\"\""
      ]
     },
     "metadata": {},
     "output_type": "display_data"
    }
   ],
   "source": [
    "fm\n",
    "bestModel$fMeasure <- fm[which.max(fm$fMeasure),]$model\n",
    "bestModel$fMeasure"
   ]
  },
  {
   "cell_type": "code",
   "execution_count": 36,
   "metadata": {
    "collapsed": false,
    "scrolled": false
   },
   "outputs": [
    {
     "data": {},
     "metadata": {},
     "output_type": "display_data"
    },
    {
     "data": {
      "image/png": "[encoded data removed]",
      "text/plain": [
       "plot without title"
      ]
     },
     "metadata": {},
     "output_type": "display_data"
    }
   ],
   "source": [
    "ggplot(aes(x = feature_count, y = fMeasure), data = fm) + geom_line(size = 1, color = 'skyblue') + theme_minimal() + labs(x = \"No. of features in model\", y = \"F Measure\")"
   ]
  },
  {
   "cell_type": "markdown",
   "metadata": {},
   "source": [
    "Using F-Measure results in a very different order to both AUC, AIC/ BIC: <br>\n",
    "1) chlorides <br>\n",
    "2) fixed.acidity <br>\n",
    "3) volatile.acidity <br>\n",
    "4) alcohol <br>\n",
    "5) residual.sugar <br>\n",
    "6) citric.acid <br>\n",
    "7) density <br>\n",
    "8) total.sulfur.dioxide <br>\n",
    "9) pH <br>\n",
    "10) free.sulfur.dioxide <br>\n",
    "The maximum F-Measure is found when seven features are selected and thus the best model according to F-Measure forward selection is:<br>\n",
    "<b>quality ~ 1 + chlorides + fixed.acidity + volatile.acidity + alcohol + residual.sugar + total.sulfur.dioxide + density</b>"
   ]
  },
  {
   "cell_type": "markdown",
   "metadata": {},
   "source": [
    "## Ridge and LASSO"
   ]
  },
  {
   "cell_type": "markdown",
   "metadata": {},
   "source": [
    "Ridge and LASSO (Least Absolute Shrinkage and Selection Operator) are regaularisation techniques that both penalize the size of the feature coeffcients. Ridge regression penalizes the sum of the square of the coefficents while LASSO as the name suggests minimises the sum of the absolute values of the coefficients. Although both methods will reduce the size of the coeffcients Ridge will not 'zero out' the coefficients so therefore does not select features. The amount of penalization that both regularises implement can be controlled by setting the lambda value.\n",
    "\n",
    "The glmnet package can build both Ridge and LASSO models (and a blend of both known as elastic-net). glmnet requires the training data to be in a matrix format. The package can use k-fold cross validation in order select the lambda that minimises a selected measure, in this case we will use area under the curve (auc)."
   ]
  },
  {
   "cell_type": "code",
   "execution_count": 37,
   "metadata": {
    "collapsed": true,
    "scrolled": false
   },
   "outputs": [],
   "source": [
    "# convert the dataframes into matrices (delete the intercept)\n",
    "x_training <- model.matrix(quality ~ . , train)[, -1]"
   ]
  },
  {
   "cell_type": "markdown",
   "metadata": {},
   "source": [
    "### Build LASSO model"
   ]
  },
  {
   "cell_type": "code",
   "execution_count": 38,
   "metadata": {
    "collapsed": false,
    "scrolled": false
   },
   "outputs": [
    {
     "data": {
      "image/png": "[encoded data removed]",
      "text/plain": [
       "plot without title"
      ]
     },
     "metadata": {},
     "output_type": "display_data"
    },
    {
     "data": {
      "image/png": "[encoded data removed]",
      "text/plain": [
       "Plot with title \"\""
      ]
     },
     "metadata": {},
     "output_type": "display_data"
    }
   ],
   "source": [
    "# set height and width for plots\n",
    "options(repr.plot.width=8, repr.plot.height=5)\n",
    "# build lasso model (alpha = 1)\n",
    "bestModel$lasso <- glmnet(x_training, y= train$quality, family = 'binomial', alpha = 1)\n",
    "# performs cross validation with 10 folds to select the best lamda value for Lasso regression (use auc as measure)\n",
    "cv.lasso.model <- cv.glmnet(x_training, train$quality, family = 'binomial', type.measure=\"auc\", alpha=1, nfolds = 10)\n",
    "# plot the AUC value vs the log(lambda)\n",
    "plot(cv.lasso.model)\n",
    "# set height and width for plots\n",
    "options(repr.plot.width=8, repr.plot.height=8)\n",
    "# plot the coefficients\n",
    "plot_glmnet(bestModel$lasso, xvar = 'lambda', col = c('red', 'blue', 'green', 'yellow', 'gray', 'pink', 'orange', 'black', 'brown2', 'blueviolet', 'darkgreen', 'darkseagreen'), label = TRUE, ylim=c(-5,2), lwd =2) #plots model, assign color"
   ]
  },
  {
   "cell_type": "markdown",
   "metadata": {},
   "source": [
    "LASSO penalization performs feature selection by zeroing out the coefficeints. The higher the penalty (lamda) the more featuress will be removed from the model."
   ]
  },
  {
   "cell_type": "markdown",
   "metadata": {},
   "source": [
    "### Build Ridge model"
   ]
  },
  {
   "cell_type": "code",
   "execution_count": 39,
   "metadata": {
    "collapsed": false,
    "scrolled": false
   },
   "outputs": [
    {
     "data": {
      "image/png": "[encoded data removed]",
      "text/plain": [
       "plot without title"
      ]
     },
     "metadata": {},
     "output_type": "display_data"
    },
    {
     "data": {
      "image/png": "[encoded data removed]",
      "text/plain": [
       "Plot with title \"\""
      ]
     },
     "metadata": {},
     "output_type": "display_data"
    }
   ],
   "source": [
    "# set height and width for plots\n",
    "options(repr.plot.width=8, repr.plot.height=5)\n",
    "# build ridge model (alpha = 0)\n",
    "bestModel$ridge <- glmnet(x_training, y= train$quality, family = 'binomial', alpha = 0)\n",
    "# performs cross validation with 10 folds to select the best lamda value for ridge regression (use auc as measure)\n",
    "cv.ridge.model <- cv.glmnet(x_training, train$quality, family = 'binomial', type.measure=\"auc\", alpha=0, nfolds = 10)\n",
    "# plot the AUC value vs the log(lambda)\n",
    "plot(cv.ridge.model)\n",
    "# set height and width for plots\n",
    "options(repr.plot.width=8, repr.plot.height=8)\n",
    "# plot the coefficients\n",
    "plot_glmnet(bestModel$ridge, xvar = 'lambda', col = c('red', 'blue', 'green', 'yellow', 'gray', 'pink', 'orange', 'black', 'brown2', 'blueviolet', 'darkgreen', 'darkseagreen'), label = TRUE, ylim=c(-5,2), lwd =2) #plots model, assign color\n"
   ]
  },
  {
   "cell_type": "markdown",
   "metadata": {},
   "source": [
    "Ridge penalization reduces the size of the coefficients without ever completely elimating them."
   ]
  },
  {
   "cell_type": "markdown",
   "metadata": {},
   "source": [
    "## Evaluating Model Performance"
   ]
  },
  {
   "cell_type": "markdown",
   "metadata": {},
   "source": [
    "There are many different ways to evaluate model performance, in fact we have built two of the models based on the performance measures Area Under the ROC curve and F-Measure. In all we have built six models:\n",
    "* Area Under Curve (AUC)\n",
    "* Aikaikes Information Criterion (AIC)\n",
    "* Bayesian Information Criterion (BIC)\n",
    "* F-Measure (fMeasure)\n",
    "* Ridge Regression (ridge)\n",
    "* LASSO Regression (lasso)\n",
    "* Predictive Accuracy\n",
    "\n",
    "To determine which model performs the best we will use both AUC and Predictive Accuracy. We will place more importance on AUC in the case that the leading performer by each measure is a different model."
   ]
  },
  {
   "cell_type": "code",
   "execution_count": 40,
   "metadata": {
    "collapsed": false,
    "scrolled": false
   },
   "outputs": [
    {
     "data": {
      "text/html": [
       "<table>\n",
       "<thead><tr><th scope=col>fixed.acidity</th><th scope=col>volatile.acidity</th><th scope=col>citric.acid</th><th scope=col>residual.sugar</th><th scope=col>chlorides</th><th scope=col>free.sulfur.dioxide</th><th scope=col>total.sulfur.dioxide</th><th scope=col>density</th><th scope=col>pH</th><th scope=col>sulphates</th><th scope=col>alcohol</th><th scope=col>quality</th></tr></thead>\n",
       "<tbody>\n",
       "\t<tr><td>4.9      </td><td>0.235    </td><td>0.27     </td><td>11.75    </td><td>0.030    </td><td>34       </td><td>118      </td><td>0.99540  </td><td>3.07     </td><td>0.50     </td><td> 9.400000</td><td>good     </td></tr>\n",
       "\t<tr><td>6.0      </td><td>0.410    </td><td>0.23     </td><td> 1.10    </td><td>0.066    </td><td>22       </td><td>148      </td><td>0.99266  </td><td>3.30     </td><td>0.47     </td><td> 9.633333</td><td>bad      </td></tr>\n",
       "\t<tr><td>6.4      </td><td>0.350    </td><td>0.51     </td><td> 7.80    </td><td>0.055    </td><td>53       </td><td>177      </td><td>0.99502  </td><td>3.12     </td><td>0.45     </td><td> 9.600000</td><td>bad      </td></tr>\n",
       "\t<tr><td>5.2      </td><td>0.405    </td><td>0.15     </td><td> 1.45    </td><td>0.038    </td><td>10       </td><td> 44      </td><td>0.99125  </td><td>3.52     </td><td>0.40     </td><td>11.600000</td><td>bad      </td></tr>\n",
       "\t<tr><td>5.8      </td><td>0.290    </td><td>0.27     </td><td> 1.60    </td><td>0.062    </td><td>17       </td><td>140      </td><td>0.99138  </td><td>3.23     </td><td>0.35     </td><td>11.100000</td><td>good     </td></tr>\n",
       "\t<tr><td>7.3      </td><td>0.350    </td><td>0.67     </td><td> 8.30    </td><td>0.053    </td><td>10       </td><td>100      </td><td>0.99590  </td><td>3.19     </td><td>0.50     </td><td>10.900000</td><td>bad      </td></tr>\n",
       "</tbody>\n",
       "</table>\n"
      ],
      "text/latex": [
       "\\begin{tabular}{r|llllllllllll}\n",
       " fixed.acidity & volatile.acidity & citric.acid & residual.sugar & chlorides & free.sulfur.dioxide & total.sulfur.dioxide & density & pH & sulphates & alcohol & quality\\\\\n",
       "\\hline\n",
       "\t 4.9       & 0.235     & 0.27      & 11.75     & 0.030     & 34        & 118       & 0.99540   & 3.07      & 0.50      &  9.400000 & good     \\\\\n",
       "\t 6.0       & 0.410     & 0.23      &  1.10     & 0.066     & 22        & 148       & 0.99266   & 3.30      & 0.47      &  9.633333 & bad      \\\\\n",
       "\t 6.4       & 0.350     & 0.51      &  7.80     & 0.055     & 53        & 177       & 0.99502   & 3.12      & 0.45      &  9.600000 & bad      \\\\\n",
       "\t 5.2       & 0.405     & 0.15      &  1.45     & 0.038     & 10        &  44       & 0.99125   & 3.52      & 0.40      & 11.600000 & bad      \\\\\n",
       "\t 5.8       & 0.290     & 0.27      &  1.60     & 0.062     & 17        & 140       & 0.99138   & 3.23      & 0.35      & 11.100000 & good     \\\\\n",
       "\t 7.3       & 0.350     & 0.67      &  8.30     & 0.053     & 10        & 100       & 0.99590   & 3.19      & 0.50      & 10.900000 & bad      \\\\\n",
       "\\end{tabular}\n"
      ],
      "text/markdown": [
       "\n",
       "fixed.acidity | volatile.acidity | citric.acid | residual.sugar | chlorides | free.sulfur.dioxide | total.sulfur.dioxide | density | pH | sulphates | alcohol | quality | \n",
       "|---|---|---|---|---|---|\n",
       "| 4.9       | 0.235     | 0.27      | 11.75     | 0.030     | 34        | 118       | 0.99540   | 3.07      | 0.50      |  9.400000 | good      | \n",
       "| 6.0       | 0.410     | 0.23      |  1.10     | 0.066     | 22        | 148       | 0.99266   | 3.30      | 0.47      |  9.633333 | bad       | \n",
       "| 6.4       | 0.350     | 0.51      |  7.80     | 0.055     | 53        | 177       | 0.99502   | 3.12      | 0.45      |  9.600000 | bad       | \n",
       "| 5.2       | 0.405     | 0.15      |  1.45     | 0.038     | 10        |  44       | 0.99125   | 3.52      | 0.40      | 11.600000 | bad       | \n",
       "| 5.8       | 0.290     | 0.27      |  1.60     | 0.062     | 17        | 140       | 0.99138   | 3.23      | 0.35      | 11.100000 | good      | \n",
       "| 7.3       | 0.350     | 0.67      |  8.30     | 0.053     | 10        | 100       | 0.99590   | 3.19      | 0.50      | 10.900000 | bad       | \n",
       "\n",
       "\n"
      ],
      "text/plain": [
       "  fixed.acidity volatile.acidity citric.acid residual.sugar chlorides\n",
       "1 4.9           0.235            0.27        11.75          0.030    \n",
       "2 6.0           0.410            0.23         1.10          0.066    \n",
       "3 6.4           0.350            0.51         7.80          0.055    \n",
       "4 5.2           0.405            0.15         1.45          0.038    \n",
       "5 5.8           0.290            0.27         1.60          0.062    \n",
       "6 7.3           0.350            0.67         8.30          0.053    \n",
       "  free.sulfur.dioxide total.sulfur.dioxide density pH   sulphates alcohol  \n",
       "1 34                  118                  0.99540 3.07 0.50       9.400000\n",
       "2 22                  148                  0.99266 3.30 0.47       9.633333\n",
       "3 53                  177                  0.99502 3.12 0.45       9.600000\n",
       "4 10                   44                  0.99125 3.52 0.40      11.600000\n",
       "5 17                  140                  0.99138 3.23 0.35      11.100000\n",
       "6 10                  100                  0.99590 3.19 0.50      10.900000\n",
       "  quality\n",
       "1 good   \n",
       "2 bad    \n",
       "3 bad    \n",
       "4 bad    \n",
       "5 good   \n",
       "6 bad    "
      ]
     },
     "metadata": {},
     "output_type": "display_data"
    },
    {
     "data": {
      "text/html": [
       "<dl class=dl-horizontal>\n",
       "\t<dt>fixed.acidity</dt>\n",
       "\t\t<dd>0</dd>\n",
       "\t<dt>volatile.acidity</dt>\n",
       "\t\t<dd>0</dd>\n",
       "\t<dt>citric.acid</dt>\n",
       "\t\t<dd>0</dd>\n",
       "\t<dt>residual.sugar</dt>\n",
       "\t\t<dd>0</dd>\n",
       "\t<dt>chlorides</dt>\n",
       "\t\t<dd>0</dd>\n",
       "\t<dt>free.sulfur.dioxide</dt>\n",
       "\t\t<dd>0</dd>\n",
       "\t<dt>total.sulfur.dioxide</dt>\n",
       "\t\t<dd>0</dd>\n",
       "\t<dt>density</dt>\n",
       "\t\t<dd>0</dd>\n",
       "\t<dt>pH</dt>\n",
       "\t\t<dd>0</dd>\n",
       "\t<dt>sulphates</dt>\n",
       "\t\t<dd>0</dd>\n",
       "\t<dt>alcohol</dt>\n",
       "\t\t<dd>0</dd>\n",
       "\t<dt>quality</dt>\n",
       "\t\t<dd>0</dd>\n",
       "</dl>\n"
      ],
      "text/latex": [
       "\\begin{description*}\n",
       "\\item[fixed.acidity] 0\n",
       "\\item[volatile.acidity] 0\n",
       "\\item[citric.acid] 0\n",
       "\\item[residual.sugar] 0\n",
       "\\item[chlorides] 0\n",
       "\\item[free.sulfur.dioxide] 0\n",
       "\\item[total.sulfur.dioxide] 0\n",
       "\\item[density] 0\n",
       "\\item[pH] 0\n",
       "\\item[sulphates] 0\n",
       "\\item[alcohol] 0\n",
       "\\item[quality] 0\n",
       "\\end{description*}\n"
      ],
      "text/markdown": [
       "fixed.acidity\n",
       ":   0volatile.acidity\n",
       ":   0citric.acid\n",
       ":   0residual.sugar\n",
       ":   0chlorides\n",
       ":   0free.sulfur.dioxide\n",
       ":   0total.sulfur.dioxide\n",
       ":   0density\n",
       ":   0pH\n",
       ":   0sulphates\n",
       ":   0alcohol\n",
       ":   0quality\n",
       ":   0\n",
       "\n"
      ],
      "text/plain": [
       "       fixed.acidity     volatile.acidity          citric.acid \n",
       "                   0                    0                    0 \n",
       "      residual.sugar            chlorides  free.sulfur.dioxide \n",
       "                   0                    0                    0 \n",
       "total.sulfur.dioxide              density                   pH \n",
       "                   0                    0                    0 \n",
       "           sulphates              alcohol              quality \n",
       "                   0                    0                    0 "
      ]
     },
     "metadata": {},
     "output_type": "display_data"
    },
    {
     "data": {
      "text/html": [
       "<dl class=dl-horizontal>\n",
       "\t<dt>fixed.acidity</dt>\n",
       "\t\t<dd>51</dd>\n",
       "\t<dt>volatile.acidity</dt>\n",
       "\t\t<dd>78</dd>\n",
       "\t<dt>citric.acid</dt>\n",
       "\t\t<dd>67</dd>\n",
       "\t<dt>residual.sugar</dt>\n",
       "\t\t<dd>175</dd>\n",
       "\t<dt>chlorides</dt>\n",
       "\t\t<dd>78</dd>\n",
       "\t<dt>free.sulfur.dioxide</dt>\n",
       "\t\t<dd>86</dd>\n",
       "\t<dt>total.sulfur.dioxide</dt>\n",
       "\t\t<dd>180</dd>\n",
       "\t<dt>density</dt>\n",
       "\t\t<dd>363</dd>\n",
       "\t<dt>pH</dt>\n",
       "\t\t<dd>80</dd>\n",
       "\t<dt>sulphates</dt>\n",
       "\t\t<dd>62</dd>\n",
       "\t<dt>alcohol</dt>\n",
       "\t\t<dd>65</dd>\n",
       "\t<dt>quality</dt>\n",
       "\t\t<dd>2</dd>\n",
       "</dl>\n"
      ],
      "text/latex": [
       "\\begin{description*}\n",
       "\\item[fixed.acidity] 51\n",
       "\\item[volatile.acidity] 78\n",
       "\\item[citric.acid] 67\n",
       "\\item[residual.sugar] 175\n",
       "\\item[chlorides] 78\n",
       "\\item[free.sulfur.dioxide] 86\n",
       "\\item[total.sulfur.dioxide] 180\n",
       "\\item[density] 363\n",
       "\\item[pH] 80\n",
       "\\item[sulphates] 62\n",
       "\\item[alcohol] 65\n",
       "\\item[quality] 2\n",
       "\\end{description*}\n"
      ],
      "text/markdown": [
       "fixed.acidity\n",
       ":   51volatile.acidity\n",
       ":   78citric.acid\n",
       ":   67residual.sugar\n",
       ":   175chlorides\n",
       ":   78free.sulfur.dioxide\n",
       ":   86total.sulfur.dioxide\n",
       ":   180density\n",
       ":   363pH\n",
       ":   80sulphates\n",
       ":   62alcohol\n",
       ":   65quality\n",
       ":   2\n",
       "\n"
      ],
      "text/plain": [
       "       fixed.acidity     volatile.acidity          citric.acid \n",
       "                  51                   78                   67 \n",
       "      residual.sugar            chlorides  free.sulfur.dioxide \n",
       "                 175                   78                   86 \n",
       "total.sulfur.dioxide              density                   pH \n",
       "                 180                  363                   80 \n",
       "           sulphates              alcohol              quality \n",
       "                  62                   65                    2 "
      ]
     },
     "metadata": {},
     "output_type": "display_data"
    },
    {
     "data": {
      "text/plain": [
       " fixed.acidity    volatile.acidity  citric.acid     residual.sugar  \n",
       " Min.   : 4.200   Min.   :0.1000   Min.   :0.0000   Min.   : 0.700  \n",
       " 1st Qu.: 6.200   1st Qu.:0.2100   1st Qu.:0.2600   1st Qu.: 1.500  \n",
       " Median : 6.700   Median :0.2700   Median :0.3100   Median : 3.975  \n",
       " Mean   : 6.777   Mean   :0.2816   Mean   :0.3277   Mean   : 5.353  \n",
       " 3rd Qu.: 7.300   3rd Qu.:0.3300   3rd Qu.:0.3900   3rd Qu.: 8.275  \n",
       " Max.   :10.300   Max.   :0.8500   Max.   :1.0000   Max.   :19.800  \n",
       "   chlorides       free.sulfur.dioxide total.sulfur.dioxide    density      \n",
       " Min.   :0.01300   Min.   :  3.00      Min.   : 10.0        Min.   :0.9871  \n",
       " 1st Qu.:0.03500   1st Qu.: 20.25      1st Qu.:102.0        1st Qu.:0.9914  \n",
       " Median :0.04200   Median : 33.00      Median :130.0        Median :0.9932  \n",
       " Mean   :0.04526   Mean   : 34.10      Mean   :134.9        Mean   :0.9935  \n",
       " 3rd Qu.:0.04975   3rd Qu.: 45.00      3rd Qu.:163.0        3rd Qu.:0.9952  \n",
       " Max.   :0.30100   Max.   :110.00      Max.   :366.5        Max.   :1.0018  \n",
       "       pH          sulphates         alcohol      quality   \n",
       " Min.   :2.740   Min.   :0.2500   Min.   : 8.00   bad :243  \n",
       " 1st Qu.:3.100   1st Qu.:0.4100   1st Qu.: 9.60   good:435  \n",
       " Median :3.190   Median :0.4800   Median :10.50             \n",
       " Mean   :3.199   Mean   :0.4902   Mean   :10.65             \n",
       " 3rd Qu.:3.300   3rd Qu.:0.5600   3rd Qu.:11.50             \n",
       " Max.   :3.750   Max.   :0.9900   Max.   :14.20             "
      ]
     },
     "metadata": {},
     "output_type": "display_data"
    }
   ],
   "source": [
    "# load the testing file\n",
    "test = read.csv(\"Wine_testing_dataset_2017.csv\")\n",
    "test = as.data.frame(test)\n",
    "head(test)\n",
    "\n",
    "sapply(test,function(x) sum(is.na(x)))\n",
    "\n",
    "sapply(test, function(x) length(unique(x)))\n",
    "\n",
    "summary(test)"
   ]
  },
  {
   "cell_type": "code",
   "execution_count": 41,
   "metadata": {
    "collapsed": true,
    "scrolled": false
   },
   "outputs": [],
   "source": [
    "test$quality <- ifelse(test$quality == 'good', 1, 0)\n",
    "# prepare matrix for ridge and lasso\n",
    "x_testing <- model.matrix(quality ~ . , test)[, -1]"
   ]
  },
  {
   "cell_type": "markdown",
   "metadata": {
    "collapsed": true
   },
   "source": [
    "## Evaluation of model built from AUC measure"
   ]
  },
  {
   "cell_type": "code",
   "execution_count": 42,
   "metadata": {
    "collapsed": false,
    "scrolled": false
   },
   "outputs": [
    {
     "data": {
      "text/html": [
       "<table>\n",
       "<thead><tr><th scope=col>model_measure</th><th scope=col>formula</th><th scope=col>AUC</th><th scope=col>Predictive_Accuracy</th></tr></thead>\n",
       "<tbody>\n",
       "\t<tr><td>auc                                                                                                                                                 </td><td>\"quality ~ 1  + alcohol + volatile.acidity + residual.sugar + fixed.acidity + sulphates + free.sulfur.dioxide + total.sulfur.dioxide + pH + density\"</td><td>0.7639468                                                                                                                                           </td><td>0.7050147                                                                                                                                           </td></tr>\n",
       "\t<tr><td>aic                                                                                                                                                 </td><td>\"quality ~ 1  + alcohol + volatile.acidity + residual.sugar + fixed.acidity + sulphates + free.sulfur.dioxide + pH + density\"                       </td><td>0.7638617                                                                                                                                           </td><td>0.7050147                                                                                                                                           </td></tr>\n",
       "\t<tr><td>bic                                                                                                                                                 </td><td>\"quality ~ 1  + alcohol + volatile.acidity + residual.sugar + fixed.acidity + sulphates + free.sulfur.dioxide\"                                      </td><td>0.7574287                                                                                                                                           </td><td>0.6991150                                                                                                                                           </td></tr>\n",
       "\t<tr><td>fMeasure                                                                                                                                            </td><td>\"quality ~ 1  + chlorides + fixed.acidity + volatile.acidity + alcohol + residual.sugar + citric.acid\"                                              </td><td>0.7517620                                                                                                                                           </td><td>0.7035398                                                                                                                                           </td></tr>\n",
       "\t<tr><td>lasso                                                                                                                                               </td><td>lasso                                                                                                                                               </td><td>0.7631143                                                                                                                                           </td><td>0.7064897                                                                                                                                           </td></tr>\n",
       "\t<tr><td>ridge                                                                                                                                               </td><td>ridge                                                                                                                                               </td><td>0.7629913                                                                                                                                           </td><td>0.7138643                                                                                                                                           </td></tr>\n",
       "</tbody>\n",
       "</table>\n"
      ],
      "text/latex": [
       "\\begin{tabular}{r|llll}\n",
       " model\\_measure & formula & AUC & Predictive\\_Accuracy\\\\\n",
       "\\hline\n",
       "\t auc                                                                                                                                                                   & \"quality \\textasciitilde{} 1  + alcohol + volatile.acidity + residual.sugar + fixed.acidity + sulphates + free.sulfur.dioxide + total.sulfur.dioxide + pH + density\" & 0.7639468                                                                                                                                                             & 0.7050147                                                                                                                                                            \\\\\n",
       "\t aic                                                                                                                                                                   & \"quality \\textasciitilde{} 1  + alcohol + volatile.acidity + residual.sugar + fixed.acidity + sulphates + free.sulfur.dioxide + pH + density\"                        & 0.7638617                                                                                                                                                             & 0.7050147                                                                                                                                                            \\\\\n",
       "\t bic                                                                                                                                                                   & \"quality \\textasciitilde{} 1  + alcohol + volatile.acidity + residual.sugar + fixed.acidity + sulphates + free.sulfur.dioxide\"                                       & 0.7574287                                                                                                                                                             & 0.6991150                                                                                                                                                            \\\\\n",
       "\t fMeasure                                                                                                                                                              & \"quality \\textasciitilde{} 1  + chlorides + fixed.acidity + volatile.acidity + alcohol + residual.sugar + citric.acid\"                                               & 0.7517620                                                                                                                                                             & 0.7035398                                                                                                                                                            \\\\\n",
       "\t lasso                                                                                                                                                & lasso                                                                                                                                                & 0.7631143                                                                                                                                            & 0.7064897                                                                                                                                           \\\\\n",
       "\t ridge                                                                                                                                                & ridge                                                                                                                                                & 0.7629913                                                                                                                                            & 0.7138643                                                                                                                                           \\\\\n",
       "\\end{tabular}\n"
      ],
      "text/markdown": [
       "\n",
       "model_measure | formula | AUC | Predictive_Accuracy | \n",
       "|---|---|---|---|---|---|\n",
       "| auc                                                                                                                                                  | \"quality ~ 1  + alcohol + volatile.acidity + residual.sugar + fixed.acidity + sulphates + free.sulfur.dioxide + total.sulfur.dioxide + pH + density\" | 0.7639468                                                                                                                                            | 0.7050147                                                                                                                                            | \n",
       "| aic                                                                                                                                                  | \"quality ~ 1  + alcohol + volatile.acidity + residual.sugar + fixed.acidity + sulphates + free.sulfur.dioxide + pH + density\"                        | 0.7638617                                                                                                                                            | 0.7050147                                                                                                                                            | \n",
       "| bic                                                                                                                                                  | \"quality ~ 1  + alcohol + volatile.acidity + residual.sugar + fixed.acidity + sulphates + free.sulfur.dioxide\"                                       | 0.7574287                                                                                                                                            | 0.6991150                                                                                                                                            | \n",
       "| fMeasure                                                                                                                                             | \"quality ~ 1  + chlorides + fixed.acidity + volatile.acidity + alcohol + residual.sugar + citric.acid\"                                               | 0.7517620                                                                                                                                            | 0.7035398                                                                                                                                            | \n",
       "| lasso                                                                                                                                                | lasso                                                                                                                                                | 0.7631143                                                                                                                                            | 0.7064897                                                                                                                                            | \n",
       "| ridge                                                                                                                                                | ridge                                                                                                                                                | 0.7629913                                                                                                                                            | 0.7138643                                                                                                                                            | \n",
       "\n",
       "\n"
      ],
      "text/plain": [
       "  model_measure\n",
       "1 auc          \n",
       "2 aic          \n",
       "3 bic          \n",
       "4 fMeasure     \n",
       "5 lasso        \n",
       "6 ridge        \n",
       "  formula                                                                                                                                             \n",
       "1 \"quality ~ 1  + alcohol + volatile.acidity + residual.sugar + fixed.acidity + sulphates + free.sulfur.dioxide + total.sulfur.dioxide + pH + density\"\n",
       "2 \"quality ~ 1  + alcohol + volatile.acidity + residual.sugar + fixed.acidity + sulphates + free.sulfur.dioxide + pH + density\"                       \n",
       "3 \"quality ~ 1  + alcohol + volatile.acidity + residual.sugar + fixed.acidity + sulphates + free.sulfur.dioxide\"                                      \n",
       "4 \"quality ~ 1  + chlorides + fixed.acidity + volatile.acidity + alcohol + residual.sugar + citric.acid\"                                              \n",
       "5 lasso                                                                                                                                               \n",
       "6 ridge                                                                                                                                               \n",
       "  AUC       Predictive_Accuracy\n",
       "1 0.7639468 0.7050147          \n",
       "2 0.7638617 0.7050147          \n",
       "3 0.7574287 0.6991150          \n",
       "4 0.7517620 0.7035398          \n",
       "5 0.7631143 0.7064897          \n",
       "6 0.7629913 0.7138643          "
      ]
     },
     "metadata": {},
     "output_type": "display_data"
    }
   ],
   "source": [
    "keys <- names(bestModel)\n",
    "bestModels_df <- data.frame(matrix(, nrow = length(bestModel), ncol = 4))\n",
    "names(bestModels_df) <- c('model_measure', 'formula', 'AUC', 'Predictive_Accuracy')\n",
    "\n",
    "for (j in 1:length(bestModel)) {\n",
    "    bestModels_df[j, 'model_measure'] <- keys[j]\n",
    "    if (keys[j] == 'ridge' | keys[j] == 'lasso') {\n",
    "        bestModels_df[j, 'formula'] <- keys[j]\n",
    "        if (keys[j] == 'ridge') {\n",
    "            model.prediction <- predict(bestModel$ridge, s=cv.ridge.model$lambda.min, x_testing, type = 'response')\n",
    "            \n",
    "        }\n",
    "        else {\n",
    "            model.prediction <- predict(bestModel$lasso, s=cv.lasso.model$lambda.min, x_testing, type = 'response')\n",
    "            \n",
    "        }\n",
    "    }\n",
    "    else {\n",
    "        bestModels_df[j, 'model_measure'] <- keys[j]\n",
    "        bestModels_df[j, 'formula'] <- bestModel[j]\n",
    "        formula = bestModel[[j]]\n",
    "        model <- glm(formula, family=binomial(link = 'logit'),data = train)\n",
    "        model.prediction <- predict.glm(model, newdata = test, type = 'response')\n",
    "        \n",
    "    }\n",
    "    \n",
    "    \n",
    "    auc_measure <- performance(prediction(model.prediction,test$quality), \"auc\")\n",
    "    \n",
    "    model.prediction <- ifelse(model.prediction > 0.5,1,0)\n",
    "    \n",
    "    cm <- confusionMatrix(model.prediction, test$quality)\n",
    "    bestModels_df[j, 'Predictive_Accuracy'] <- cm$overall[['Accuracy']]\n",
    "    bestModels_df[j, 'AUC'] <- as.numeric(auc_measure@y.values)\n",
    "    \n",
    "}\n",
    " \n",
    "bestModels_df"
   ]
  },
  {
   "cell_type": "markdown",
   "metadata": {},
   "source": [
    "## Model Comparison"
   ]
  },
  {
   "cell_type": "markdown",
   "metadata": {},
   "source": [
    "The BIC and F-Measure models have performed quite poorly in compaison to the AUC, AIC and regularisation algorithms lasso and ridge. The AUC model has the highest AUC score (perhaps not surprsingly) while the Ridge penalization produces the highest predrictive accuracy. In order to make a choice which model is the best we will take a closer look at the confusion matrix for these two models and use a little bit of domain knowledge and personal preference to decide which is the best. When choosing a wine I would rather classify a wine as bad that is actually good than classify a wine as good that is actually bad. That is, I want the wines I classify as good to be good more than I want the wines I classify as bad to be bad because I would rather limit the number of wines I have to select from (classified as good) than select a bad wine that I had classified as good."
   ]
  },
  {
   "cell_type": "markdown",
   "metadata": {},
   "source": [
    "### Confusion Matrix for model built by AUC"
   ]
  },
  {
   "cell_type": "code",
   "execution_count": 43,
   "metadata": {
    "collapsed": false,
    "scrolled": false
   },
   "outputs": [
    {
     "data": {
      "text/plain": [
       "Confusion Matrix and Statistics\n",
       "\n",
       "          Reference\n",
       "Prediction   0   1\n",
       "         0 109  66\n",
       "         1 134 369\n",
       "                                          \n",
       "               Accuracy : 0.705           \n",
       "                 95% CI : (0.6691, 0.7391)\n",
       "    No Information Rate : 0.6416          \n",
       "    P-Value [Acc > NIR] : 0.0002803       \n",
       "                                          \n",
       "                  Kappa : 0.3164          \n",
       " Mcnemar's Test P-Value : 2.162e-06       \n",
       "                                          \n",
       "            Sensitivity : 0.4486          \n",
       "            Specificity : 0.8483          \n",
       "         Pos Pred Value : 0.6229          \n",
       "         Neg Pred Value : 0.7336          \n",
       "             Prevalence : 0.3584          \n",
       "         Detection Rate : 0.1608          \n",
       "   Detection Prevalence : 0.2581          \n",
       "      Balanced Accuracy : 0.6484          \n",
       "                                          \n",
       "       'Positive' Class : 0               \n",
       "                                          "
      ]
     },
     "metadata": {},
     "output_type": "display_data"
    }
   ],
   "source": [
    "formula <- bestModel$auc\n",
    "model <- glm(formula, family=binomial(link = 'logit'),data = train)\n",
    "model.prediction <- predict.glm(model, newdata = test, type = 'response')\n",
    "model.prediction <- ifelse(model.prediction > 0.5,1,0)\n",
    "confusionMatrix(model.prediction, test$quality)"
   ]
  },
  {
   "cell_type": "markdown",
   "metadata": {},
   "source": [
    "### Confusion Matrix for model built by Ridge"
   ]
  },
  {
   "cell_type": "code",
   "execution_count": 44,
   "metadata": {
    "collapsed": false,
    "scrolled": false
   },
   "outputs": [
    {
     "data": {
      "text/plain": [
       "Confusion Matrix and Statistics\n",
       "\n",
       "          Reference\n",
       "Prediction   0   1\n",
       "         0  98  49\n",
       "         1 145 386\n",
       "                                          \n",
       "               Accuracy : 0.7139          \n",
       "                 95% CI : (0.6782, 0.7476)\n",
       "    No Information Rate : 0.6416          \n",
       "    P-Value [Acc > NIR] : 3.955e-05       \n",
       "                                          \n",
       "                  Kappa : 0.3184          \n",
       " Mcnemar's Test P-Value : 9.066e-12       \n",
       "                                          \n",
       "            Sensitivity : 0.4033          \n",
       "            Specificity : 0.8874          \n",
       "         Pos Pred Value : 0.6667          \n",
       "         Neg Pred Value : 0.7269          \n",
       "             Prevalence : 0.3584          \n",
       "         Detection Rate : 0.1445          \n",
       "   Detection Prevalence : 0.2168          \n",
       "      Balanced Accuracy : 0.6453          \n",
       "                                          \n",
       "       'Positive' Class : 0               \n",
       "                                          "
      ]
     },
     "metadata": {},
     "output_type": "display_data"
    }
   ],
   "source": [
    "model.prediction <- predict(bestModel$ridge, s=cv.ridge.model$lambda.min, x_testing, type = 'response')\n",
    "model.prediction <- ifelse(model.prediction > 0.5,1,0)\n",
    "confusionMatrix(model.prediction, test$quality)"
   ]
  },
  {
   "cell_type": "markdown",
   "metadata": {
    "collapsed": true,
    "scrolled": false
   },
   "source": [
    "### Comparison\n",
    "Both models get a similar number of predictions wrong; (133 + 63) 199 for AUC and (145 + 49) 194 for Ridge. However the AUC model identifies 133 wines that are bad as good while the Ridge model dentifies 145 wines that are bad as good. I have stated previously when I choose a wine from the wines I have classified as good it is important that the wine is actually good, therefore I place a higher negative weighting on these numbers than the overall predictive accuracy and would choose the AUC model as the best.\n",
    "\n",
    "An interesting note is that the models have different strengths, the AUC model is better at identifying good wines correctly while the Ridge model is better at identifying bad wines correctly. A weighted ensemble model could be built from these models that weights a good classification from the AUC model higher than a good classification from the Ridge model and conversely weights a bad classification from the Ridge model higher than a bad classification from the AUC model."
   ]
  },
  {
   "cell_type": "markdown",
   "metadata": {},
   "source": [
    "## References\n",
    "https://en.wikipedia.org/wiki/Receiver_operating_characteristic <br>\n",
    "https://www.r-bloggers.com/illustrated-guide-to-roc-and-auc/ <br>\n",
    "https://en.wikipedia.org/wiki/Akaike_information_criterion <br>\n",
    "http://www.sciencedirect.com/science/article/pii/S2212977414000064 <br>\n",
    "https://en.wikipedia.org/wiki/F1_score <br>\n",
    "https://en.wikipedia.org/wiki/Precision_and_recall <br>"
   ]
  }
 ],
 "metadata": {
  "anaconda-cloud": {},
  "kernelspec": {
   "display_name": "R",
   "language": "R",
   "name": "ir"
  },
  "language_info": {
   "codemirror_mode": "r",
   "file_extension": ".r",
   "mimetype": "text/x-r-source",
   "name": "R",
   "pygments_lexer": "r",
   "version": "3.3.1"
  }
 },
 "nbformat": 4,
 "nbformat_minor": 0
}
